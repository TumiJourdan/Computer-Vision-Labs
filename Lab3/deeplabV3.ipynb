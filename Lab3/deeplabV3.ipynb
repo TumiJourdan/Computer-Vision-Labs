{
 "cells": [
  {
   "cell_type": "code",
   "execution_count": 1,
   "metadata": {},
   "outputs": [
    {
     "name": "stderr",
     "output_type": "stream",
     "text": [
      "c:\\Program Files\\Python312\\Lib\\site-packages\\tqdm\\auto.py:21: TqdmWarning: IProgress not found. Please update jupyter and ipywidgets. See https://ipywidgets.readthedocs.io/en/stable/user_install.html\n",
      "  from .autonotebook import tqdm as notebook_tqdm\n"
     ]
    }
   ],
   "source": [
    "# MAIN IMPORTS \n",
    "import torch\n",
    "import torch.nn as nn\n",
    "from torch.utils.tensorboard import SummaryWriter\n",
    "\n",
    "import pytorch_lightning as pl\n",
    "from tqdm import tqdm\n",
    "from torchviz import make_dot\n",
    "import cv2\n",
    "import numpy as np\n",
    "import matplotlib.pyplot as plt\n",
    "from sklearn.metrics import confusion_matrix\n",
    "from torch.utils.data import DataLoader\n",
    "from torch.utils.data import Dataset\n",
    "import torch.optim as optim\n",
    "import os\n",
    "import torchvision.transforms as T\n",
    "from skimage import transform as sktf\n",
    "from skimage.util import random_noise\n",
    "import segmentation_models_pytorch as smp\n",
    "import random\n",
    "import gc\n",
    "from torch.optim import lr_scheduler\n",
    "from pytorch_lightning.callbacks import ModelCheckpoint\n",
    "import torch\n",
    "import torchmetrics"
   ]
  },
  {
   "cell_type": "code",
   "execution_count": 2,
   "metadata": {},
   "outputs": [],
   "source": [
    "def clear_gpu_memory(model=None, data_loaders=None):\n",
    "    \n",
    "    if model is not None:\n",
    "        model.cpu()\n",
    "        del model\n",
    "    \n",
    "    \n",
    "    if data_loaders is not None:\n",
    "        for loader in data_loaders:\n",
    "            del loader  \n",
    "    \n",
    "    #  garbage collection\n",
    "    gc.collect()\n",
    "    \n",
    "    torch.cuda.empty_cache()"
   ]
  },
  {
   "cell_type": "code",
   "execution_count": 3,
   "metadata": {},
   "outputs": [],
   "source": [
    "def display_tensor_as_image(tensor, channel_num, channel_index, height_index, width_index):\n",
    "    # Move the tensor to CPU and convert it to a NumPy array\n",
    "    tensor_np = tensor.cpu().numpy()\n",
    "    if channel_index == 1:\n",
    "        tensor_np = tensor_np.squeeze(0)\n",
    "\n",
    "        channel_index -=1\n",
    "        height_index-=1\n",
    "        width_index-=1\n",
    "        \n",
    "    # Handle single-channel (grayscale) image\n",
    "    if channel_num == 1:\n",
    "        image_np = tensor_np.squeeze(channel_index)  # Remove the channel dimension\n",
    "        plt.imshow(image_np, cmap=\"gray\")\n",
    "        plt.title(\"Single-channel image\")\n",
    "        plt.show()\n",
    "    \n",
    "    # Handle two-channel image (display channels separately)\n",
    "    elif channel_num == 2:\n",
    "        fig, axes = plt.subplots(1, 2, figsize=(10, 5))  # Create 1 row, 2 columns\n",
    "        for i in range(2):\n",
    "            channel_image = tensor_np[i]  # Select each channel (e.g., 0 and 1)\n",
    "            axes[i].imshow(channel_image, cmap=\"gray\")\n",
    "            axes[i].set_title(f\"Channel {i}\")\n",
    "            # print(f\"Max value in channel {i}:\", np.max(channel_image))\n",
    "            # print(f\"Min value in channel {i}:\", np.min(channel_image))\n",
    "        plt.show()\n",
    "    \n",
    "    # Handle three-channel image (RGB)\n",
    "    elif channel_num == 3:\n",
    "        print(tensor_np.shape)\n",
    "        # Transpose from (channels, height, width) to (height, width, channels)\n",
    "        image_np = np.transpose(tensor_np, (height_index, width_index, channel_index))\n",
    "        plt.imshow(image_np)\n",
    "        plt.title(\"Three-channel image (RGB)\")\n",
    "        plt.show()\n"
   ]
  },
  {
   "cell_type": "code",
   "execution_count": 4,
   "metadata": {},
   "outputs": [],
   "source": [
    "class PuzzleDataset(Dataset):\n",
    "    def __init__(self, img_dir, mask_dir, transform=None, num_transforms=0,include_inverse_mask=True):\n",
    "        self.img_dir = img_dir\n",
    "        self.mask_dir = mask_dir\n",
    "        self.transform = transform\n",
    "        self.num_transforms = num_transforms\n",
    "        self.include_inverse_mask=include_inverse_mask\n",
    "        images = sorted(os.listdir(img_dir))\n",
    "        masks = sorted(os.listdir(mask_dir))\n",
    "        self.data = []\n",
    "\n",
    "        for i in range(len(images)):\n",
    "            img_path = os.path.join(self.img_dir, images[i])\n",
    "            mask_path = os.path.join(self.mask_dir, masks[i])\n",
    "\n",
    "          \n",
    "            image = cv2.imread(img_path)\n",
    "            image = cv2.cvtColor(image, cv2.COLOR_BGR2RGB)\n",
    "            image = cv2.resize(image, (512, 512))\n",
    "            image = image.astype(np.float32)/255.0\n",
    "            # image = Image.fromarray(image)  \n",
    "\n",
    "            \n",
    "            mask = cv2.imread(mask_path, cv2.IMREAD_GRAYSCALE)\n",
    "            mask = cv2.resize(mask, (512,512))\n",
    "            mask = (mask > 0.5).astype(np.float32) \n",
    "            # mask = Image.fromarray(mask)  #   PIL image needed for transforms\n",
    "\n",
    "            # store the original image and mask\n",
    "            self.append_image_mask(image, mask)\n",
    "\n",
    "            # do transformations \n",
    "            for _ in range(self.num_transforms):\n",
    "                transformed_image, transformed_mask = self.apply_transform(image, mask)\n",
    "                self.append_image_mask(transformed_image, transformed_mask)\n",
    "\n",
    "    def apply_transform(self, image, mask):\n",
    "        \"\"\"Apply deterministic transformations to both image and mask\n",
    "        This is imortant since using the torchvision.transforms was givin a random transform\n",
    "        for both image and mask -> they didn't match up\"\"\"\n",
    "        if self.transform:\n",
    "            \n",
    "            if random.random() > 0.5:\n",
    "                image = np.fliplr(image)\n",
    "                mask = np.fliplr(mask)\n",
    "\n",
    "           \n",
    "            if random.random() > 0.5:\n",
    "                image = np.flipud(image)\n",
    "                mask = np.flipud(mask)\n",
    "\n",
    "            # Apply rotation deterministically\n",
    "            angle = np.random.uniform(-30, 30)\n",
    "            image = sktf.rotate(image, angle, mode=\"edge\" , preserve_range=True)\n",
    "            mask = sktf.rotate(mask, angle, mode=\"edge\" , preserve_range=True)\n",
    "\n",
    "        return image, mask\n",
    "\n",
    "    def append_image_mask(self, image, mask):\n",
    "        \"\"\"need to store them as tensors.\"\"\"\n",
    "        image = torch.tensor(image.transpose((2, 0, 1)), dtype=torch.float32) # (C, H, W)\n",
    "        mask = torch.tensor(mask[None, ...], dtype=torch.float32)   # (1, H, W)\n",
    "\n",
    "       \n",
    "        if(self.include_inverse_mask):\n",
    "            inverse_mask = 1 - mask\n",
    "            combined_mask = torch.cat([inverse_mask, mask], dim=0)  # Combined (2, H, W)\n",
    "\n",
    "        \n",
    "            self.data.append((image, combined_mask))\n",
    "        else:\n",
    "            self.data.append((image,mask))\n",
    "\n",
    "    def __len__(self):\n",
    "        return len(self.data)\n",
    "\n",
    "    def __getitem__(self, idx):\n",
    "        return self.data[idx]\n"
   ]
  },
  {
   "cell_type": "code",
   "execution_count": 5,
   "metadata": {},
   "outputs": [],
   "source": [
    "train_dataset = PuzzleDataset(\n",
    "    img_dir=\"./images-1024x768/train/\",\n",
    "    mask_dir=\"./masks-1024x768/train/\", \n",
    "    transform=True,\n",
    "    num_transforms=3  \n",
    ")\n",
    "\n",
    "val_dataset = PuzzleDataset(\n",
    "    img_dir=\"./images-1024x768/val/\",\n",
    "    mask_dir=\"./masks-1024x768/val/\", \n",
    ")\n",
    "\n",
    "\n",
    "test_dataset = PuzzleDataset(img_dir = \"./images-1024x768/test/\",\n",
    "                            mask_dir = \"./masks-1024x768/test/\")\n",
    "\n",
    "train_dataloader =DataLoader(train_dataset,batch_size =2, shuffle=True)\n",
    "val_dataloader = DataLoader(val_dataset, batch_size=2, shuffle=False)\n",
    "test_dataloader = DataLoader(test_dataset,batch_size =1, shuffle=True)"
   ]
  },
  {
   "cell_type": "code",
   "execution_count": 29,
   "metadata": {},
   "outputs": [],
   "source": [
    "# Deep lab v3\n",
    "EPOCHS = 100\n",
    "T_MAX = EPOCHS * len(train_dataloader)\n",
    "OUT_CLASSES = 2\n",
    "\n",
    "class DeepV_plus(pl.LightningModule):\n",
    "    def __init__(self, arch, encoder_name, in_channels, out_classes, pretrained=\"imagenet\", **kwargs):\n",
    "        super().__init__()\n",
    "        self.model = smp.create_model(\n",
    "            arch,\n",
    "            encoder_name=encoder_name,\n",
    "            encoder_weights=pretrained,\n",
    "            in_channels=in_channels,\n",
    "            classes=out_classes,\n",
    "            **kwargs,\n",
    "        )\n",
    "        self.encoder_name = encoder_name\n",
    "        self.arch_name = arch\n",
    "        self.in_channels = in_channels\n",
    "        self.out_classes = out_classes\n",
    "        # preprocessing parameteres for image\n",
    "        print(pretrained)\n",
    "        params = smp.encoders.get_preprocessing_params(encoder_name,pretrained)\n",
    "        self.register_buffer(\"std\", torch.tensor(params[\"std\"]).view(1, 3, 1, 1))\n",
    "        self.register_buffer(\"mean\", torch.tensor(params[\"mean\"]).view(1, 3, 1, 1))\n",
    "\n",
    "        # for image segmentation dice loss could be the best first choice\n",
    "        self.loss_fn = smp.losses.DiceLoss(smp.losses.BINARY_MODE, from_logits=True)\n",
    "\n",
    "        # initialize step metics\n",
    "        self.training_step_outputs = []\n",
    "        self.validation_step_outputs = []\n",
    "        self.test_step_outputs = []\n",
    "\n",
    "    def forward(self, image):\n",
    "        # normalize image here\n",
    "        image = (image - self.mean) / self.std\n",
    "        mask = self.model(image)\n",
    "        return mask\n",
    "\n",
    "    def shared_step(self, batch, stage):\n",
    "        image = batch[0]\n",
    "\n",
    "        # Shape of the image should be (batch_size, num_channels, height, width)\n",
    "        # if you work with grayscale images, expand channels dim to have [batch_size, 1, height, width]\n",
    "        assert image.ndim == 4\n",
    "\n",
    "        # Check that image dimensions are divisible by 32,\n",
    "        # encoder and decoder connected by `skip connections` and usually encoder have 5 stages of\n",
    "        # downsampling by factor 2 (2 ^ 5 = 32); e.g. if we have image with shape 65x65 we will have\n",
    "        # following shapes of features in encoder and decoder: 84, 42, 21, 10, 5 -> 5, 10, 20, 40, 80\n",
    "        # and we will get an error trying to concat these features\n",
    "        h, w = image.shape[2:]\n",
    "        assert h % 32 == 0 and w % 32 == 0\n",
    "\n",
    "        mask = batch[1]\n",
    "        assert mask.ndim == 4\n",
    "\n",
    "        # Check that mask values in between 0 and 1, NOT 0 and 255 for binary segmentation\n",
    "        assert mask.max() <= 1.0 and mask.min() >= 0\n",
    "\n",
    "        logits_mask = self.forward(image)\n",
    "\n",
    "        # Predicted mask contains logits, and loss_fn param `from_logits` is set to True\n",
    "        loss = self.loss_fn(logits_mask, mask)\n",
    "\n",
    "        # Lets compute metrics for some threshold\n",
    "        # first convert mask values to probabilities, then\n",
    "        # apply thresholding\n",
    "        prob_mask = logits_mask.sigmoid()\n",
    "        pred_mask = (prob_mask > 0.5).float()\n",
    "        # We will compute IoU metric by two ways\n",
    "        #   1. dataset-wise\n",
    "        #   2. image-wise\n",
    "        # but for now we just compute true positive, false positive, false negative and\n",
    "        # true negative 'pixels' for each image and class\n",
    "        # these values will be aggregated in the end of an epoch\n",
    "        tp, fp, fn, tn = smp.metrics.get_stats(\n",
    "            pred_mask.long(), mask.long(), mode=\"binary\"\n",
    "        )\n",
    "        return {\n",
    "            \"loss\": loss,\n",
    "            \"tp\": tp,\n",
    "            \"fp\": fp,\n",
    "            \"fn\": fn,\n",
    "            \"tn\": tn,\n",
    "            \"image\":image,\n",
    "            \"mask\":mask,\n",
    "            \"pred_mask\":pred_mask\n",
    "        }\n",
    "\n",
    "    def shared_epoch_end(self, outputs, stage):\n",
    "        \n",
    "        losses = torch.stack([x[\"loss\"] for x in outputs]).mean()\n",
    "        self.log(f\"val_loss\", losses, prog_bar=True)\n",
    "        # aggregate step metics\n",
    "        tp = torch.cat([x[\"tp\"] for x in outputs])\n",
    "        fp = torch.cat([x[\"fp\"] for x in outputs])\n",
    "        fn = torch.cat([x[\"fn\"] for x in outputs])\n",
    "        tn = torch.cat([x[\"tn\"] for x in outputs])\n",
    "\n",
    "        #F1 score\n",
    "        precision = tp.sum() / (tp.sum() + fp.sum() + 1e-6)  # Add small value to avoid division by zero\n",
    "        recall = tp.sum() / (tp.sum() + fn.sum() + 1e-6)     # Add small value to avoid division by zero\n",
    "        f1_score = 2 * (precision * recall) / (precision + recall + 1e-6)    \n",
    "\n",
    "        #accuracy\n",
    "        accuracy = (tp.sum()+tn.sum())/(tp.sum()+tn.sum()+fp.sum()+fn.sum())\n",
    "\n",
    "        # per image IoU means that we first calculate IoU score for each image\n",
    "        # and then compute mean over these scores\n",
    "        per_image_iou = smp.metrics.iou_score(\n",
    "            tp, fp, fn, tn, reduction=\"micro-imagewise\"\n",
    "        )\n",
    "\n",
    "        # dataset IoU means that we aggregate intersection and union over whole dataset\n",
    "        # and then compute IoU score. The difference between dataset_iou and per_image_iou scores\n",
    "        # in this particular case will not be much, however for dataset\n",
    "        # with \"empty\" images (images without target class) a large gap could be observed.\n",
    "        # Empty images influence a lot on per_image_iou and much less on dataset_iou.\n",
    "        dataset_iou = smp.metrics.iou_score(tp, fp, fn, tn, reduction=\"micro\")\n",
    "        metrics = {\n",
    "            f\"{stage}_per_image_iou\": per_image_iou,\n",
    "            f\"{stage}_dataset_iou\": dataset_iou,\n",
    "            f\"{stage}_f1_score\": f1_score, # Log the F1 score\n",
    "            f\"{stage}_precision\": precision,\n",
    "            f\"{stage}_accuracy\": accuracy,\n",
    "        }\n",
    "\n",
    "        self.log_dict(metrics, prog_bar=True)\n",
    "\n",
    "    def training_step(self, batch, batch_idx):\n",
    "        train_loss_info = self.shared_step(batch, \"train\")\n",
    "        # append the metics of each step to the\n",
    "        self.training_step_outputs.append(train_loss_info)\n",
    "        return train_loss_info\n",
    "\n",
    "    def on_train_epoch_end(self):\n",
    "        self.shared_epoch_end(self.training_step_outputs, \"train\")\n",
    "        # empty set output list\n",
    "        self.training_step_outputs.clear()\n",
    "        return\n",
    "\n",
    "    def validation_step(self, batch, batch_idx):\n",
    "        valid_loss_info = self.shared_step(batch, \"valid\")\n",
    "        self.validation_step_outputs.append(valid_loss_info)\n",
    "        if batch_idx == 0:  # Log the first batch only to avoid too many images\n",
    "            self.log_images(valid_loss_info, \"val\")\n",
    "        return valid_loss_info\n",
    "\n",
    "    def on_validation_epoch_end(self):\n",
    "        self.shared_epoch_end(self.validation_step_outputs, \"valid\")\n",
    "        self.validation_step_outputs.clear()\n",
    "        return\n",
    "\n",
    "    def test_step(self, batch, batch_idx):\n",
    "        test_loss_info = self.shared_step(batch, \"test\")\n",
    "        self.test_step_outputs.append(test_loss_info)\n",
    "\n",
    "        if batch_idx == 0:  # Log the first batch only to avoid too many images\n",
    "            self.log_images(test_loss_info, \"test\")\n",
    "        return test_loss_info\n",
    "\n",
    "    def on_test_epoch_end(self):\n",
    "        self.shared_epoch_end(self.test_step_outputs, \"test\")\n",
    "        # empty set output list\n",
    "        self.test_step_outputs.clear()\n",
    "        return\n",
    "\n",
    "    def configure_optimizers(self):\n",
    "        optimizer = torch.optim.Adam(self.parameters(), lr=2e-4)\n",
    "        scheduler = lr_scheduler.CosineAnnealingLR(optimizer, T_max=T_MAX, eta_min=1e-5)\n",
    "        return {\n",
    "            \"optimizer\": optimizer,\n",
    "            \"lr_scheduler\": {\n",
    "                \"scheduler\": scheduler,\n",
    "                \"interval\": \"step\",\n",
    "                \"frequency\": 1,\n",
    "            },\n",
    "        }\n",
    "        return\n",
    "    def on_save_checkpoint(self, checkpoint):\n",
    "        # Save hyperparameters in the checkpoint\n",
    "        checkpoint['hyper_parameters'] = {\n",
    "            'arch': self.arch_name,\n",
    "            'encoder_name': self.encoder_name,\n",
    "            'in_channels': self.in_channels,  # Assuming model has this attribute\n",
    "            'out_classes': self.out_classes,  # Assuming model has this attribute\n",
    "        }\n",
    "    @classmethod\n",
    "    def load_from_checkpoint(cls, checkpoint_path, **kwargs):\n",
    "        \"\"\"\n",
    "        Load model weights from a checkpoint and instantiate the model.\n",
    "\n",
    "        Parameters:\n",
    "        checkpoint_path (str): Path to the checkpoint file.\n",
    "        kwargs (dict): Additional arguments to pass to the model initialization.\n",
    "\n",
    "        Returns:\n",
    "        DeepV_plus: Model instance with weights loaded from the checkpoint.\n",
    "        \"\"\"\n",
    "        # Load the checkpoint\n",
    "        checkpoint = torch.load(checkpoint_path, map_location=lambda storage, loc: storage)\n",
    "        \n",
    "        # Get model parameters from the checkpoint\n",
    "        model_params = checkpoint['hyper_parameters']\n",
    "\n",
    "        # Create a new instance of the model using parameters from the checkpoint\n",
    "        model = cls(\n",
    "            arch=kwargs.get('arch', model_params['arch']),\n",
    "            encoder_name=kwargs.get('encoder_name', model_params['encoder_name']),\n",
    "            in_channels=kwargs.get('in_channels', model_params['in_channels']),\n",
    "            out_classes=kwargs.get('out_classes', model_params['out_classes']),\n",
    "        )\n",
    "        \n",
    "        # Load the state dictionary into the model\n",
    "        model.load_state_dict(checkpoint['state_dict'])\n",
    "        \n",
    "        return model\n",
    "    def log_images(self, loss_info, stage):\n",
    "        \"\"\"Logs the images and masks.\"\"\"\n",
    "        images = loss_info[\"image\"].cpu()\n",
    "        masks = loss_info[\"mask\"].cpu()\n",
    "        pred_masks = loss_info[\"pred_mask\"].cpu()\n",
    "\n",
    "        for idx in range(min(len(images), 3)):  # Show up to 3 images\n",
    "            fig, axes = plt.subplots(1, 3, figsize=(12, 4))\n",
    "            axes[0].imshow(images[idx].permute(1, 2, 0))  # Original image\n",
    "            axes[0].set_title(\"Original Image\")\n",
    "            axes[1].imshow(masks[idx][0], cmap=\"gray\")  # Ground truth mask\n",
    "            axes[1].set_title(\"Ground Truth\")\n",
    "            axes[2].imshow(pred_masks[idx][0], cmap=\"gray\")  # Predicted mask\n",
    "            axes[2].set_title(\"Predicted Mask\")\n",
    "\n",
    "            # Save the figure as an image in WandB\n",
    "            plt.tight_layout()\n",
    "            if not os.path.exists(\"outputImages\"):\n",
    "                os.makedirs(\"outputImages\")\n",
    "            plt.savefig(f\"outputImages/{stage}_image_{idx}_encoder_{self.encoder_name}.png\")\n",
    "            plt.close(fig)"
   ]
  },
  {
   "cell_type": "code",
   "execution_count": 7,
   "metadata": {},
   "outputs": [],
   "source": [
    "from pytorch_lightning.loggers import WandbLogger\n",
    "import wandb\n",
    "\n",
    "def train_deep_model(deepvPlus:DeepV_plus):\n",
    "    wandb.finish()\n",
    "    # Initialize WandbLogger\n",
    "    wandb_logger = WandbLogger(\n",
    "        project=\"DeeplabV3Plus\",  # Your Wandb project name\n",
    "        name=f\"{deepvPlus.arch_name}-{deepvPlus.encoder_name}\",   # Experiment name\n",
    "        log_model=True,  # Log model checkpoints to Wandb\n",
    "        reinit=True \n",
    "    )\n",
    "\n",
    "    checkpoint_callback = ModelCheckpoint(\n",
    "        dirpath=\"deepCheckpoints/\",  # Directory to save checkpoints\n",
    "        filename=f\"{deepvPlus.arch_name}-{deepvPlus.encoder_name}\",  # Naming convention for the checkpoints\n",
    "        monitor=\"val_loss\",  # Metric to monitor for checkpoint saving\n",
    "        save_top_k=1,  # Save top 1 models with the best 'val_loss'\n",
    "        mode=\"min\",  # Save models with minimum 'val_loss'\n",
    "        save_last=True,  # Also save the latest checkpoint\n",
    "        verbose=True,  # Verbosity of saving messages\n",
    "        enable_version_counter=False,\n",
    "    )\n",
    "    \n",
    "    trainer = pl.Trainer(\n",
    "        max_epochs=EPOCHS, \n",
    "        \n",
    "        log_every_n_steps=1, \n",
    "        callbacks=[checkpoint_callback],  # Add the checkpoint callback here\n",
    "        logger=wandb_logger  # Attach the Wandb logger\n",
    "    )\n",
    "\n",
    "    trainer.fit(\n",
    "        deepvPlus,\n",
    "        train_dataloaders=train_dataloader,\n",
    "        val_dataloaders=val_dataloader,\n",
    "    )\n",
    "\n",
    "    valid_metrics = trainer.validate(deepvPlus, dataloaders=val_dataloader, verbose=False)\n",
    "    print(valid_metrics)\n",
    "\n",
    "    test_metrics = trainer.test(deepvPlus, dataloaders=test_dataloader, verbose=False)\n",
    "    print(test_metrics)\n",
    "\n",
    "    # smp_model = deepvPlus.model\n",
    "\n",
    "    # commit_info = smp_model.save_pretrained(\n",
    "    #     save_directory=\"saved_models/DeepLabv3Plus\",\n",
    "    # )\n",
    "\n",
    "    clear_gpu_memory(deepvPlus)"
   ]
  },
  {
   "cell_type": "code",
   "execution_count": 8,
   "metadata": {},
   "outputs": [],
   "source": [
    "def load_checkpoint(checkpoint_name):\n",
    "    # Load the model from the checkpoint\n",
    "    trainer = pl.Trainer(max_epochs=1000)\n",
    "    deepvPlus = DeepV_plus.load_from_checkpoint(f\"deepCheckpoints/{checkpoint_name}.ckpt\")\n",
    "    \n",
    "    valid_metrics = trainer.validate(deepvPlus, dataloaders=val_dataloader, verbose=False)\n",
    "    print(valid_metrics)\n",
    "\n",
    "    test_metrics = trainer.test(deepvPlus, dataloaders=test_dataloader, verbose=False)\n",
    "    print(test_metrics)\n",
    "    clear_gpu_memory(deepvPlus)"
   ]
  },
  {
   "cell_type": "code",
   "execution_count": 9,
   "metadata": {},
   "outputs": [
    {
     "name": "stderr",
     "output_type": "stream",
     "text": [
      "GPU available: True (cuda), used: True\n",
      "TPU available: False, using: 0 TPU cores\n",
      "HPU available: False, using: 0 HPUs\n",
      "You are using a CUDA device ('NVIDIA GeForce RTX 3060 Laptop GPU') that has Tensor Cores. To properly utilize them, you should set `torch.set_float32_matmul_precision('medium' | 'high')` which will trade-off precision for performance. For more details, read https://pytorch.org/docs/stable/generated/torch.set_float32_matmul_precision.html#torch.set_float32_matmul_precision\n",
      "Failed to detect the name of this notebook, you can set it manually with the WANDB_NOTEBOOK_NAME environment variable to enable code saving.\n"
     ]
    },
    {
     "name": "stdout",
     "output_type": "stream",
     "text": [
      "imagenet\n"
     ]
    },
    {
     "name": "stderr",
     "output_type": "stream",
     "text": [
      "\u001b[34m\u001b[1mwandb\u001b[0m: Currently logged in as: \u001b[33m2180153\u001b[0m (\u001b[33m2180153-wits-university\u001b[0m). Use \u001b[1m`wandb login --relogin`\u001b[0m to force relogin\n"
     ]
    },
    {
     "data": {
      "text/html": [
       "Tracking run with wandb version 0.17.8"
      ],
      "text/plain": [
       "<IPython.core.display.HTML object>"
      ]
     },
     "metadata": {},
     "output_type": "display_data"
    },
    {
     "data": {
      "text/html": [
       "Run data is saved locally in <code>.\\wandb\\run-20240922_120642-60p0ba39</code>"
      ],
      "text/plain": [
       "<IPython.core.display.HTML object>"
      ]
     },
     "metadata": {},
     "output_type": "display_data"
    },
    {
     "data": {
      "text/html": [
       "Syncing run <strong><a href='https://wandb.ai/2180153-wits-university/DeepLabV3Plus/runs/60p0ba39' target=\"_blank\">deeplabv3plus-resnet34</a></strong> to <a href='https://wandb.ai/2180153-wits-university/DeepLabV3Plus' target=\"_blank\">Weights & Biases</a> (<a href='https://wandb.me/run' target=\"_blank\">docs</a>)<br/>"
      ],
      "text/plain": [
       "<IPython.core.display.HTML object>"
      ]
     },
     "metadata": {},
     "output_type": "display_data"
    },
    {
     "data": {
      "text/html": [
       " View project at <a href='https://wandb.ai/2180153-wits-university/DeepLabV3Plus' target=\"_blank\">https://wandb.ai/2180153-wits-university/DeepLabV3Plus</a>"
      ],
      "text/plain": [
       "<IPython.core.display.HTML object>"
      ]
     },
     "metadata": {},
     "output_type": "display_data"
    },
    {
     "data": {
      "text/html": [
       " View run at <a href='https://wandb.ai/2180153-wits-university/DeepLabV3Plus/runs/60p0ba39' target=\"_blank\">https://wandb.ai/2180153-wits-university/DeepLabV3Plus/runs/60p0ba39</a>"
      ],
      "text/plain": [
       "<IPython.core.display.HTML object>"
      ]
     },
     "metadata": {},
     "output_type": "display_data"
    },
    {
     "name": "stderr",
     "output_type": "stream",
     "text": [
      "c:\\Program Files\\Python312\\Lib\\site-packages\\pytorch_lightning\\callbacks\\model_checkpoint.py:654: Checkpoint directory C:\\Tumi\\Other Subjects\\CV\\ComputerVisionLab\\Lab3\\deepCheckpoints exists and is not empty.\n",
      "LOCAL_RANK: 0 - CUDA_VISIBLE_DEVICES: [0]\n",
      "\n",
      "  | Name    | Type          | Params | Mode \n",
      "--------------------------------------------------\n",
      "0 | model   | DeepLabV3Plus | 22.4 M | train\n",
      "1 | loss_fn | DiceLoss      | 0      | train\n",
      "--------------------------------------------------\n",
      "22.4 M    Trainable params\n",
      "0         Non-trainable params\n",
      "22.4 M    Total params\n",
      "89.751    Total estimated model params size (MB)\n",
      "173       Modules in train mode\n",
      "0         Modules in eval mode\n"
     ]
    },
    {
     "name": "stdout",
     "output_type": "stream",
     "text": [
      "Sanity Checking: |          | 0/? [00:00<?, ?it/s]"
     ]
    },
    {
     "name": "stderr",
     "output_type": "stream",
     "text": [
      "c:\\Program Files\\Python312\\Lib\\site-packages\\pytorch_lightning\\trainer\\connectors\\data_connector.py:424: The 'val_dataloader' does not have many workers which may be a bottleneck. Consider increasing the value of the `num_workers` argument` to `num_workers=15` in the `DataLoader` to improve performance.\n"
     ]
    },
    {
     "name": "stdout",
     "output_type": "stream",
     "text": [
      "                                                                           "
     ]
    },
    {
     "name": "stderr",
     "output_type": "stream",
     "text": [
      "c:\\Program Files\\Python312\\Lib\\site-packages\\pytorch_lightning\\trainer\\connectors\\data_connector.py:424: The 'train_dataloader' does not have many workers which may be a bottleneck. Consider increasing the value of the `num_workers` argument` to `num_workers=15` in the `DataLoader` to improve performance.\n"
     ]
    },
    {
     "name": "stdout",
     "output_type": "stream",
     "text": [
      "Epoch 0: 100%|██████████| 20/20 [00:01<00:00, 10.60it/s, v_num=ba39, val_loss=0.373, valid_per_image_iou=0.746, valid_dataset_iou=0.746, valid_f1_score=0.854]"
     ]
    },
    {
     "name": "stderr",
     "output_type": "stream",
     "text": [
      "Epoch 0, global step 20: 'val_loss' reached 0.33552 (best 0.33552), saving model to 'C:\\\\Tumi\\\\Other Subjects\\\\CV\\\\ComputerVisionLab\\\\Lab3\\\\deepCheckpoints\\\\deeplabv3plus-resnet34.ckpt' as top 1\n"
     ]
    },
    {
     "name": "stdout",
     "output_type": "stream",
     "text": [
      "Epoch 1: 100%|██████████| 20/20 [00:01<00:00, 12.39it/s, v_num=ba39, val_loss=0.167, valid_per_image_iou=0.918, valid_dataset_iou=0.918, valid_f1_score=0.957, train_per_image_iou=0.706, train_dataset_iou=0.696, train_f1_score=0.821]"
     ]
    },
    {
     "name": "stderr",
     "output_type": "stream",
     "text": [
      "Epoch 1, global step 40: 'val_loss' reached 0.17014 (best 0.17014), saving model to 'C:\\\\Tumi\\\\Other Subjects\\\\CV\\\\ComputerVisionLab\\\\Lab3\\\\deepCheckpoints\\\\deeplabv3plus-resnet34.ckpt' as top 1\n"
     ]
    },
    {
     "name": "stdout",
     "output_type": "stream",
     "text": [
      "Epoch 2: 100%|██████████| 20/20 [00:01<00:00, 11.44it/s, v_num=ba39, val_loss=0.111, valid_per_image_iou=0.958, valid_dataset_iou=0.958, valid_f1_score=0.978, train_per_image_iou=0.871, train_dataset_iou=0.871, train_f1_score=0.931]"
     ]
    },
    {
     "name": "stderr",
     "output_type": "stream",
     "text": [
      "Epoch 2, global step 60: 'val_loss' reached 0.12328 (best 0.12328), saving model to 'C:\\\\Tumi\\\\Other Subjects\\\\CV\\\\ComputerVisionLab\\\\Lab3\\\\deepCheckpoints\\\\deeplabv3plus-resnet34.ckpt' as top 1\n"
     ]
    },
    {
     "name": "stdout",
     "output_type": "stream",
     "text": [
      "Epoch 3: 100%|██████████| 20/20 [00:01<00:00, 11.36it/s, v_num=ba39, val_loss=0.0865, valid_per_image_iou=0.969, valid_dataset_iou=0.969, valid_f1_score=0.984, train_per_image_iou=0.921, train_dataset_iou=0.921, train_f1_score=0.959]"
     ]
    },
    {
     "name": "stderr",
     "output_type": "stream",
     "text": [
      "Epoch 3, global step 80: 'val_loss' reached 0.09742 (best 0.09742), saving model to 'C:\\\\Tumi\\\\Other Subjects\\\\CV\\\\ComputerVisionLab\\\\Lab3\\\\deepCheckpoints\\\\deeplabv3plus-resnet34.ckpt' as top 1\n"
     ]
    },
    {
     "name": "stdout",
     "output_type": "stream",
     "text": [
      "Epoch 4: 100%|██████████| 20/20 [00:01<00:00, 11.43it/s, v_num=ba39, val_loss=0.0706, valid_per_image_iou=0.974, valid_dataset_iou=0.974, valid_f1_score=0.987, train_per_image_iou=0.944, train_dataset_iou=0.944, train_f1_score=0.971]"
     ]
    },
    {
     "name": "stderr",
     "output_type": "stream",
     "text": [
      "Epoch 4, global step 100: 'val_loss' reached 0.07896 (best 0.07896), saving model to 'C:\\\\Tumi\\\\Other Subjects\\\\CV\\\\ComputerVisionLab\\\\Lab3\\\\deepCheckpoints\\\\deeplabv3plus-resnet34.ckpt' as top 1\n"
     ]
    },
    {
     "name": "stdout",
     "output_type": "stream",
     "text": [
      "Epoch 5: 100%|██████████| 20/20 [00:01<00:00, 11.53it/s, v_num=ba39, val_loss=0.0575, valid_per_image_iou=0.980, valid_dataset_iou=0.980, valid_f1_score=0.990, train_per_image_iou=0.957, train_dataset_iou=0.957, train_f1_score=0.978]"
     ]
    },
    {
     "name": "stderr",
     "output_type": "stream",
     "text": [
      "Epoch 5, global step 120: 'val_loss' reached 0.06494 (best 0.06494), saving model to 'C:\\\\Tumi\\\\Other Subjects\\\\CV\\\\ComputerVisionLab\\\\Lab3\\\\deepCheckpoints\\\\deeplabv3plus-resnet34.ckpt' as top 1\n"
     ]
    },
    {
     "name": "stdout",
     "output_type": "stream",
     "text": [
      "Epoch 6: 100%|██████████| 20/20 [00:01<00:00, 11.44it/s, v_num=ba39, val_loss=0.0485, valid_per_image_iou=0.982, valid_dataset_iou=0.982, valid_f1_score=0.991, train_per_image_iou=0.968, train_dataset_iou=0.968, train_f1_score=0.984]"
     ]
    },
    {
     "name": "stderr",
     "output_type": "stream",
     "text": [
      "Epoch 6, global step 140: 'val_loss' reached 0.05422 (best 0.05422), saving model to 'C:\\\\Tumi\\\\Other Subjects\\\\CV\\\\ComputerVisionLab\\\\Lab3\\\\deepCheckpoints\\\\deeplabv3plus-resnet34.ckpt' as top 1\n"
     ]
    },
    {
     "name": "stdout",
     "output_type": "stream",
     "text": [
      "Epoch 7: 100%|██████████| 20/20 [00:01<00:00, 11.36it/s, v_num=ba39, val_loss=0.0423, valid_per_image_iou=0.986, valid_dataset_iou=0.986, valid_f1_score=0.993, train_per_image_iou=0.974, train_dataset_iou=0.974, train_f1_score=0.987]"
     ]
    },
    {
     "name": "stderr",
     "output_type": "stream",
     "text": [
      "Epoch 7, global step 160: 'val_loss' reached 0.04597 (best 0.04597), saving model to 'C:\\\\Tumi\\\\Other Subjects\\\\CV\\\\ComputerVisionLab\\\\Lab3\\\\deepCheckpoints\\\\deeplabv3plus-resnet34.ckpt' as top 1\n"
     ]
    },
    {
     "name": "stdout",
     "output_type": "stream",
     "text": [
      "Epoch 8: 100%|██████████| 20/20 [00:01<00:00, 11.18it/s, v_num=ba39, val_loss=0.0375, valid_per_image_iou=0.987, valid_dataset_iou=0.987, valid_f1_score=0.993, train_per_image_iou=0.979, train_dataset_iou=0.979, train_f1_score=0.990]"
     ]
    },
    {
     "name": "stderr",
     "output_type": "stream",
     "text": [
      "Epoch 8, global step 180: 'val_loss' reached 0.03926 (best 0.03926), saving model to 'C:\\\\Tumi\\\\Other Subjects\\\\CV\\\\ComputerVisionLab\\\\Lab3\\\\deepCheckpoints\\\\deeplabv3plus-resnet34.ckpt' as top 1\n"
     ]
    },
    {
     "name": "stdout",
     "output_type": "stream",
     "text": [
      "Epoch 9: 100%|██████████| 20/20 [00:01<00:00, 11.68it/s, v_num=ba39, val_loss=0.0331, valid_per_image_iou=0.986, valid_dataset_iou=0.986, valid_f1_score=0.993, train_per_image_iou=0.982, train_dataset_iou=0.982, train_f1_score=0.991]"
     ]
    },
    {
     "name": "stderr",
     "output_type": "stream",
     "text": [
      "Epoch 9, global step 200: 'val_loss' reached 0.03408 (best 0.03408), saving model to 'C:\\\\Tumi\\\\Other Subjects\\\\CV\\\\ComputerVisionLab\\\\Lab3\\\\deepCheckpoints\\\\deeplabv3plus-resnet34.ckpt' as top 1\n"
     ]
    },
    {
     "name": "stdout",
     "output_type": "stream",
     "text": [
      "Epoch 10: 100%|██████████| 20/20 [00:01<00:00, 11.40it/s, v_num=ba39, val_loss=0.0291, valid_per_image_iou=0.989, valid_dataset_iou=0.989, valid_f1_score=0.994, train_per_image_iou=0.985, train_dataset_iou=0.985, train_f1_score=0.992]"
     ]
    },
    {
     "name": "stderr",
     "output_type": "stream",
     "text": [
      "Epoch 10, global step 220: 'val_loss' reached 0.02984 (best 0.02984), saving model to 'C:\\\\Tumi\\\\Other Subjects\\\\CV\\\\ComputerVisionLab\\\\Lab3\\\\deepCheckpoints\\\\deeplabv3plus-resnet34.ckpt' as top 1\n"
     ]
    },
    {
     "name": "stdout",
     "output_type": "stream",
     "text": [
      "Epoch 11: 100%|██████████| 20/20 [00:01<00:00, 11.44it/s, v_num=ba39, val_loss=0.0251, valid_per_image_iou=0.989, valid_dataset_iou=0.989, valid_f1_score=0.995, train_per_image_iou=0.986, train_dataset_iou=0.986, train_f1_score=0.993]"
     ]
    },
    {
     "name": "stderr",
     "output_type": "stream",
     "text": [
      "Epoch 11, global step 240: 'val_loss' reached 0.02632 (best 0.02632), saving model to 'C:\\\\Tumi\\\\Other Subjects\\\\CV\\\\ComputerVisionLab\\\\Lab3\\\\deepCheckpoints\\\\deeplabv3plus-resnet34.ckpt' as top 1\n"
     ]
    },
    {
     "name": "stdout",
     "output_type": "stream",
     "text": [
      "Epoch 12: 100%|██████████| 20/20 [00:01<00:00, 11.50it/s, v_num=ba39, val_loss=0.022, valid_per_image_iou=0.990, valid_dataset_iou=0.990, valid_f1_score=0.995, train_per_image_iou=0.987, train_dataset_iou=0.987, train_f1_score=0.994] "
     ]
    },
    {
     "name": "stderr",
     "output_type": "stream",
     "text": [
      "Epoch 12, global step 260: 'val_loss' reached 0.02384 (best 0.02384), saving model to 'C:\\\\Tumi\\\\Other Subjects\\\\CV\\\\ComputerVisionLab\\\\Lab3\\\\deepCheckpoints\\\\deeplabv3plus-resnet34.ckpt' as top 1\n"
     ]
    },
    {
     "name": "stdout",
     "output_type": "stream",
     "text": [
      "Epoch 13: 100%|██████████| 20/20 [00:01<00:00, 10.90it/s, v_num=ba39, val_loss=0.0206, valid_per_image_iou=0.990, valid_dataset_iou=0.990, valid_f1_score=0.995, train_per_image_iou=0.988, train_dataset_iou=0.988, train_f1_score=0.994]"
     ]
    },
    {
     "name": "stderr",
     "output_type": "stream",
     "text": [
      "Epoch 13, global step 280: 'val_loss' reached 0.02131 (best 0.02131), saving model to 'C:\\\\Tumi\\\\Other Subjects\\\\CV\\\\ComputerVisionLab\\\\Lab3\\\\deepCheckpoints\\\\deeplabv3plus-resnet34.ckpt' as top 1\n"
     ]
    },
    {
     "name": "stdout",
     "output_type": "stream",
     "text": [
      "Epoch 14: 100%|██████████| 20/20 [00:01<00:00, 11.72it/s, v_num=ba39, val_loss=0.0207, valid_per_image_iou=0.989, valid_dataset_iou=0.989, valid_f1_score=0.995, train_per_image_iou=0.989, train_dataset_iou=0.989, train_f1_score=0.994]"
     ]
    },
    {
     "name": "stderr",
     "output_type": "stream",
     "text": [
      "Epoch 14, global step 300: 'val_loss' reached 0.01969 (best 0.01969), saving model to 'C:\\\\Tumi\\\\Other Subjects\\\\CV\\\\ComputerVisionLab\\\\Lab3\\\\deepCheckpoints\\\\deeplabv3plus-resnet34.ckpt' as top 1\n"
     ]
    },
    {
     "name": "stdout",
     "output_type": "stream",
     "text": [
      "Epoch 15: 100%|██████████| 20/20 [00:01<00:00, 11.74it/s, v_num=ba39, val_loss=0.0173, valid_per_image_iou=0.991, valid_dataset_iou=0.991, valid_f1_score=0.995, train_per_image_iou=0.989, train_dataset_iou=0.989, train_f1_score=0.995]"
     ]
    },
    {
     "name": "stderr",
     "output_type": "stream",
     "text": [
      "Epoch 15, global step 320: 'val_loss' reached 0.01802 (best 0.01802), saving model to 'C:\\\\Tumi\\\\Other Subjects\\\\CV\\\\ComputerVisionLab\\\\Lab3\\\\deepCheckpoints\\\\deeplabv3plus-resnet34.ckpt' as top 1\n"
     ]
    },
    {
     "name": "stdout",
     "output_type": "stream",
     "text": [
      "Epoch 16: 100%|██████████| 20/20 [00:01<00:00, 11.34it/s, v_num=ba39, val_loss=0.0164, valid_per_image_iou=0.991, valid_dataset_iou=0.991, valid_f1_score=0.995, train_per_image_iou=0.989, train_dataset_iou=0.989, train_f1_score=0.995]"
     ]
    },
    {
     "name": "stderr",
     "output_type": "stream",
     "text": [
      "Epoch 16, global step 340: 'val_loss' reached 0.01670 (best 0.01670), saving model to 'C:\\\\Tumi\\\\Other Subjects\\\\CV\\\\ComputerVisionLab\\\\Lab3\\\\deepCheckpoints\\\\deeplabv3plus-resnet34.ckpt' as top 1\n"
     ]
    },
    {
     "name": "stdout",
     "output_type": "stream",
     "text": [
      "Epoch 17: 100%|██████████| 20/20 [00:01<00:00, 11.61it/s, v_num=ba39, val_loss=0.0149, valid_per_image_iou=0.991, valid_dataset_iou=0.991, valid_f1_score=0.996, train_per_image_iou=0.990, train_dataset_iou=0.990, train_f1_score=0.995]"
     ]
    },
    {
     "name": "stderr",
     "output_type": "stream",
     "text": [
      "Epoch 17, global step 360: 'val_loss' reached 0.01551 (best 0.01551), saving model to 'C:\\\\Tumi\\\\Other Subjects\\\\CV\\\\ComputerVisionLab\\\\Lab3\\\\deepCheckpoints\\\\deeplabv3plus-resnet34.ckpt' as top 1\n"
     ]
    },
    {
     "name": "stdout",
     "output_type": "stream",
     "text": [
      "Epoch 18: 100%|██████████| 20/20 [00:01<00:00, 11.73it/s, v_num=ba39, val_loss=0.0145, valid_per_image_iou=0.991, valid_dataset_iou=0.991, valid_f1_score=0.995, train_per_image_iou=0.990, train_dataset_iou=0.990, train_f1_score=0.995]"
     ]
    },
    {
     "name": "stderr",
     "output_type": "stream",
     "text": [
      "Epoch 18, global step 380: 'val_loss' reached 0.01446 (best 0.01446), saving model to 'C:\\\\Tumi\\\\Other Subjects\\\\CV\\\\ComputerVisionLab\\\\Lab3\\\\deepCheckpoints\\\\deeplabv3plus-resnet34.ckpt' as top 1\n"
     ]
    },
    {
     "name": "stdout",
     "output_type": "stream",
     "text": [
      "Epoch 19: 100%|██████████| 20/20 [00:01<00:00, 11.49it/s, v_num=ba39, val_loss=0.014, valid_per_image_iou=0.992, valid_dataset_iou=0.992, valid_f1_score=0.996, train_per_image_iou=0.990, train_dataset_iou=0.990, train_f1_score=0.995] "
     ]
    },
    {
     "name": "stderr",
     "output_type": "stream",
     "text": [
      "Epoch 19, global step 400: 'val_loss' reached 0.01367 (best 0.01367), saving model to 'C:\\\\Tumi\\\\Other Subjects\\\\CV\\\\ComputerVisionLab\\\\Lab3\\\\deepCheckpoints\\\\deeplabv3plus-resnet34.ckpt' as top 1\n"
     ]
    },
    {
     "name": "stdout",
     "output_type": "stream",
     "text": [
      "Epoch 20: 100%|██████████| 20/20 [00:01<00:00, 11.32it/s, v_num=ba39, val_loss=0.0121, valid_per_image_iou=0.992, valid_dataset_iou=0.992, valid_f1_score=0.996, train_per_image_iou=0.991, train_dataset_iou=0.991, train_f1_score=0.995]"
     ]
    },
    {
     "name": "stderr",
     "output_type": "stream",
     "text": [
      "Epoch 20, global step 420: 'val_loss' reached 0.01285 (best 0.01285), saving model to 'C:\\\\Tumi\\\\Other Subjects\\\\CV\\\\ComputerVisionLab\\\\Lab3\\\\deepCheckpoints\\\\deeplabv3plus-resnet34.ckpt' as top 1\n"
     ]
    },
    {
     "name": "stdout",
     "output_type": "stream",
     "text": [
      "Epoch 21: 100%|██████████| 20/20 [00:01<00:00, 11.66it/s, v_num=ba39, val_loss=0.0116, valid_per_image_iou=0.992, valid_dataset_iou=0.992, valid_f1_score=0.996, train_per_image_iou=0.991, train_dataset_iou=0.991, train_f1_score=0.995]"
     ]
    },
    {
     "name": "stderr",
     "output_type": "stream",
     "text": [
      "Epoch 21, global step 440: 'val_loss' reached 0.01204 (best 0.01204), saving model to 'C:\\\\Tumi\\\\Other Subjects\\\\CV\\\\ComputerVisionLab\\\\Lab3\\\\deepCheckpoints\\\\deeplabv3plus-resnet34.ckpt' as top 1\n"
     ]
    },
    {
     "name": "stdout",
     "output_type": "stream",
     "text": [
      "Epoch 22: 100%|██████████| 20/20 [00:01<00:00, 11.46it/s, v_num=ba39, val_loss=0.012, valid_per_image_iou=0.992, valid_dataset_iou=0.992, valid_f1_score=0.996, train_per_image_iou=0.991, train_dataset_iou=0.991, train_f1_score=0.996] "
     ]
    },
    {
     "name": "stderr",
     "output_type": "stream",
     "text": [
      "Epoch 22, global step 460: 'val_loss' reached 0.01149 (best 0.01149), saving model to 'C:\\\\Tumi\\\\Other Subjects\\\\CV\\\\ComputerVisionLab\\\\Lab3\\\\deepCheckpoints\\\\deeplabv3plus-resnet34.ckpt' as top 1\n"
     ]
    },
    {
     "name": "stdout",
     "output_type": "stream",
     "text": [
      "Epoch 23: 100%|██████████| 20/20 [00:01<00:00, 11.24it/s, v_num=ba39, val_loss=0.0105, valid_per_image_iou=0.993, valid_dataset_iou=0.993, valid_f1_score=0.996, train_per_image_iou=0.991, train_dataset_iou=0.991, train_f1_score=0.996]"
     ]
    },
    {
     "name": "stderr",
     "output_type": "stream",
     "text": [
      "Epoch 23, global step 480: 'val_loss' reached 0.01095 (best 0.01095), saving model to 'C:\\\\Tumi\\\\Other Subjects\\\\CV\\\\ComputerVisionLab\\\\Lab3\\\\deepCheckpoints\\\\deeplabv3plus-resnet34.ckpt' as top 1\n"
     ]
    },
    {
     "name": "stdout",
     "output_type": "stream",
     "text": [
      "Epoch 24: 100%|██████████| 20/20 [00:01<00:00, 11.29it/s, v_num=ba39, val_loss=0.00987, valid_per_image_iou=0.993, valid_dataset_iou=0.993, valid_f1_score=0.996, train_per_image_iou=0.991, train_dataset_iou=0.991, train_f1_score=0.996]"
     ]
    },
    {
     "name": "stderr",
     "output_type": "stream",
     "text": [
      "Epoch 24, global step 500: 'val_loss' reached 0.01043 (best 0.01043), saving model to 'C:\\\\Tumi\\\\Other Subjects\\\\CV\\\\ComputerVisionLab\\\\Lab3\\\\deepCheckpoints\\\\deeplabv3plus-resnet34.ckpt' as top 1\n"
     ]
    },
    {
     "name": "stdout",
     "output_type": "stream",
     "text": [
      "Epoch 25: 100%|██████████| 20/20 [00:01<00:00, 11.47it/s, v_num=ba39, val_loss=0.0101, valid_per_image_iou=0.992, valid_dataset_iou=0.992, valid_f1_score=0.996, train_per_image_iou=0.992, train_dataset_iou=0.992, train_f1_score=0.996] "
     ]
    },
    {
     "name": "stderr",
     "output_type": "stream",
     "text": [
      "Epoch 25, global step 520: 'val_loss' reached 0.01000 (best 0.01000), saving model to 'C:\\\\Tumi\\\\Other Subjects\\\\CV\\\\ComputerVisionLab\\\\Lab3\\\\deepCheckpoints\\\\deeplabv3plus-resnet34.ckpt' as top 1\n"
     ]
    },
    {
     "name": "stdout",
     "output_type": "stream",
     "text": [
      "Epoch 26: 100%|██████████| 20/20 [00:01<00:00, 11.46it/s, v_num=ba39, val_loss=0.00933, valid_per_image_iou=0.993, valid_dataset_iou=0.993, valid_f1_score=0.996, train_per_image_iou=0.992, train_dataset_iou=0.992, train_f1_score=0.996]"
     ]
    },
    {
     "name": "stderr",
     "output_type": "stream",
     "text": [
      "Epoch 26, global step 540: 'val_loss' reached 0.00962 (best 0.00962), saving model to 'C:\\\\Tumi\\\\Other Subjects\\\\CV\\\\ComputerVisionLab\\\\Lab3\\\\deepCheckpoints\\\\deeplabv3plus-resnet34.ckpt' as top 1\n"
     ]
    },
    {
     "name": "stdout",
     "output_type": "stream",
     "text": [
      "Epoch 27: 100%|██████████| 20/20 [00:01<00:00, 11.27it/s, v_num=ba39, val_loss=0.00924, valid_per_image_iou=0.993, valid_dataset_iou=0.993, valid_f1_score=0.996, train_per_image_iou=0.992, train_dataset_iou=0.992, train_f1_score=0.996]"
     ]
    },
    {
     "name": "stderr",
     "output_type": "stream",
     "text": [
      "Epoch 27, global step 560: 'val_loss' reached 0.00928 (best 0.00928), saving model to 'C:\\\\Tumi\\\\Other Subjects\\\\CV\\\\ComputerVisionLab\\\\Lab3\\\\deepCheckpoints\\\\deeplabv3plus-resnet34.ckpt' as top 1\n"
     ]
    },
    {
     "name": "stdout",
     "output_type": "stream",
     "text": [
      "Epoch 28: 100%|██████████| 20/20 [00:01<00:00, 11.41it/s, v_num=ba39, val_loss=0.00887, valid_per_image_iou=0.992, valid_dataset_iou=0.992, valid_f1_score=0.996, train_per_image_iou=0.992, train_dataset_iou=0.992, train_f1_score=0.996]"
     ]
    },
    {
     "name": "stderr",
     "output_type": "stream",
     "text": [
      "Epoch 28, global step 580: 'val_loss' reached 0.00902 (best 0.00902), saving model to 'C:\\\\Tumi\\\\Other Subjects\\\\CV\\\\ComputerVisionLab\\\\Lab3\\\\deepCheckpoints\\\\deeplabv3plus-resnet34.ckpt' as top 1\n"
     ]
    },
    {
     "name": "stdout",
     "output_type": "stream",
     "text": [
      "Epoch 29: 100%|██████████| 20/20 [00:01<00:00, 11.43it/s, v_num=ba39, val_loss=0.00907, valid_per_image_iou=0.992, valid_dataset_iou=0.992, valid_f1_score=0.996, train_per_image_iou=0.992, train_dataset_iou=0.992, train_f1_score=0.996]"
     ]
    },
    {
     "name": "stderr",
     "output_type": "stream",
     "text": [
      "Epoch 29, global step 600: 'val_loss' reached 0.00866 (best 0.00866), saving model to 'C:\\\\Tumi\\\\Other Subjects\\\\CV\\\\ComputerVisionLab\\\\Lab3\\\\deepCheckpoints\\\\deeplabv3plus-resnet34.ckpt' as top 1\n"
     ]
    },
    {
     "name": "stdout",
     "output_type": "stream",
     "text": [
      "Epoch 30: 100%|██████████| 20/20 [00:01<00:00, 11.25it/s, v_num=ba39, val_loss=0.00861, valid_per_image_iou=0.993, valid_dataset_iou=0.993, valid_f1_score=0.996, train_per_image_iou=0.992, train_dataset_iou=0.992, train_f1_score=0.996]"
     ]
    },
    {
     "name": "stderr",
     "output_type": "stream",
     "text": [
      "Epoch 30, global step 620: 'val_loss' reached 0.00849 (best 0.00849), saving model to 'C:\\\\Tumi\\\\Other Subjects\\\\CV\\\\ComputerVisionLab\\\\Lab3\\\\deepCheckpoints\\\\deeplabv3plus-resnet34.ckpt' as top 1\n"
     ]
    },
    {
     "name": "stdout",
     "output_type": "stream",
     "text": [
      "Epoch 31: 100%|██████████| 20/20 [00:01<00:00, 11.44it/s, v_num=ba39, val_loss=0.0084, valid_per_image_iou=0.993, valid_dataset_iou=0.993, valid_f1_score=0.996, train_per_image_iou=0.992, train_dataset_iou=0.992, train_f1_score=0.996] "
     ]
    },
    {
     "name": "stderr",
     "output_type": "stream",
     "text": [
      "Epoch 31, global step 640: 'val_loss' reached 0.00815 (best 0.00815), saving model to 'C:\\\\Tumi\\\\Other Subjects\\\\CV\\\\ComputerVisionLab\\\\Lab3\\\\deepCheckpoints\\\\deeplabv3plus-resnet34.ckpt' as top 1\n"
     ]
    },
    {
     "name": "stdout",
     "output_type": "stream",
     "text": [
      "Epoch 32: 100%|██████████| 20/20 [00:01<00:00, 11.19it/s, v_num=ba39, val_loss=0.00858, valid_per_image_iou=0.992, valid_dataset_iou=0.992, valid_f1_score=0.996, train_per_image_iou=0.992, train_dataset_iou=0.992, train_f1_score=0.996]"
     ]
    },
    {
     "name": "stderr",
     "output_type": "stream",
     "text": [
      "Epoch 32, global step 660: 'val_loss' reached 0.00798 (best 0.00798), saving model to 'C:\\\\Tumi\\\\Other Subjects\\\\CV\\\\ComputerVisionLab\\\\Lab3\\\\deepCheckpoints\\\\deeplabv3plus-resnet34.ckpt' as top 1\n"
     ]
    },
    {
     "name": "stdout",
     "output_type": "stream",
     "text": [
      "Epoch 33: 100%|██████████| 20/20 [00:01<00:00, 11.58it/s, v_num=ba39, val_loss=0.00766, valid_per_image_iou=0.993, valid_dataset_iou=0.993, valid_f1_score=0.997, train_per_image_iou=0.992, train_dataset_iou=0.992, train_f1_score=0.996]"
     ]
    },
    {
     "name": "stderr",
     "output_type": "stream",
     "text": [
      "Epoch 33, global step 680: 'val_loss' reached 0.00772 (best 0.00772), saving model to 'C:\\\\Tumi\\\\Other Subjects\\\\CV\\\\ComputerVisionLab\\\\Lab3\\\\deepCheckpoints\\\\deeplabv3plus-resnet34.ckpt' as top 1\n"
     ]
    },
    {
     "name": "stdout",
     "output_type": "stream",
     "text": [
      "Epoch 34: 100%|██████████| 20/20 [00:01<00:00, 11.41it/s, v_num=ba39, val_loss=0.00775, valid_per_image_iou=0.993, valid_dataset_iou=0.993, valid_f1_score=0.997, train_per_image_iou=0.992, train_dataset_iou=0.992, train_f1_score=0.996]"
     ]
    },
    {
     "name": "stderr",
     "output_type": "stream",
     "text": [
      "Epoch 34, global step 700: 'val_loss' reached 0.00756 (best 0.00756), saving model to 'C:\\\\Tumi\\\\Other Subjects\\\\CV\\\\ComputerVisionLab\\\\Lab3\\\\deepCheckpoints\\\\deeplabv3plus-resnet34.ckpt' as top 1\n"
     ]
    },
    {
     "name": "stdout",
     "output_type": "stream",
     "text": [
      "Epoch 35: 100%|██████████| 20/20 [00:01<00:00, 11.38it/s, v_num=ba39, val_loss=0.00732, valid_per_image_iou=0.993, valid_dataset_iou=0.993, valid_f1_score=0.996, train_per_image_iou=0.992, train_dataset_iou=0.992, train_f1_score=0.996]"
     ]
    },
    {
     "name": "stderr",
     "output_type": "stream",
     "text": [
      "Epoch 35, global step 720: 'val_loss' reached 0.00741 (best 0.00741), saving model to 'C:\\\\Tumi\\\\Other Subjects\\\\CV\\\\ComputerVisionLab\\\\Lab3\\\\deepCheckpoints\\\\deeplabv3plus-resnet34.ckpt' as top 1\n"
     ]
    },
    {
     "name": "stdout",
     "output_type": "stream",
     "text": [
      "Epoch 36: 100%|██████████| 20/20 [00:01<00:00, 11.38it/s, v_num=ba39, val_loss=0.00724, valid_per_image_iou=0.993, valid_dataset_iou=0.993, valid_f1_score=0.997, train_per_image_iou=0.992, train_dataset_iou=0.992, train_f1_score=0.996]"
     ]
    },
    {
     "name": "stderr",
     "output_type": "stream",
     "text": [
      "Epoch 36, global step 740: 'val_loss' reached 0.00723 (best 0.00723), saving model to 'C:\\\\Tumi\\\\Other Subjects\\\\CV\\\\ComputerVisionLab\\\\Lab3\\\\deepCheckpoints\\\\deeplabv3plus-resnet34.ckpt' as top 1\n"
     ]
    },
    {
     "name": "stdout",
     "output_type": "stream",
     "text": [
      "Epoch 37: 100%|██████████| 20/20 [00:01<00:00, 11.31it/s, v_num=ba39, val_loss=0.00734, valid_per_image_iou=0.993, valid_dataset_iou=0.993, valid_f1_score=0.997, train_per_image_iou=0.992, train_dataset_iou=0.992, train_f1_score=0.996]"
     ]
    },
    {
     "name": "stderr",
     "output_type": "stream",
     "text": [
      "Epoch 37, global step 760: 'val_loss' reached 0.00707 (best 0.00707), saving model to 'C:\\\\Tumi\\\\Other Subjects\\\\CV\\\\ComputerVisionLab\\\\Lab3\\\\deepCheckpoints\\\\deeplabv3plus-resnet34.ckpt' as top 1\n"
     ]
    },
    {
     "name": "stdout",
     "output_type": "stream",
     "text": [
      "Epoch 38: 100%|██████████| 20/20 [00:01<00:00, 11.36it/s, v_num=ba39, val_loss=0.00712, valid_per_image_iou=0.993, valid_dataset_iou=0.993, valid_f1_score=0.996, train_per_image_iou=0.992, train_dataset_iou=0.992, train_f1_score=0.996]"
     ]
    },
    {
     "name": "stderr",
     "output_type": "stream",
     "text": [
      "Epoch 38, global step 780: 'val_loss' reached 0.00689 (best 0.00689), saving model to 'C:\\\\Tumi\\\\Other Subjects\\\\CV\\\\ComputerVisionLab\\\\Lab3\\\\deepCheckpoints\\\\deeplabv3plus-resnet34.ckpt' as top 1\n"
     ]
    },
    {
     "name": "stdout",
     "output_type": "stream",
     "text": [
      "Epoch 39: 100%|██████████| 20/20 [00:01<00:00, 11.41it/s, v_num=ba39, val_loss=0.00696, valid_per_image_iou=0.993, valid_dataset_iou=0.993, valid_f1_score=0.996, train_per_image_iou=0.992, train_dataset_iou=0.992, train_f1_score=0.996]"
     ]
    },
    {
     "name": "stderr",
     "output_type": "stream",
     "text": [
      "Epoch 39, global step 800: 'val_loss' reached 0.00682 (best 0.00682), saving model to 'C:\\\\Tumi\\\\Other Subjects\\\\CV\\\\ComputerVisionLab\\\\Lab3\\\\deepCheckpoints\\\\deeplabv3plus-resnet34.ckpt' as top 1\n"
     ]
    },
    {
     "name": "stdout",
     "output_type": "stream",
     "text": [
      "Epoch 40: 100%|██████████| 20/20 [00:01<00:00, 11.38it/s, v_num=ba39, val_loss=0.00704, valid_per_image_iou=0.993, valid_dataset_iou=0.993, valid_f1_score=0.996, train_per_image_iou=0.992, train_dataset_iou=0.992, train_f1_score=0.996]"
     ]
    },
    {
     "name": "stderr",
     "output_type": "stream",
     "text": [
      "Epoch 40, global step 820: 'val_loss' reached 0.00664 (best 0.00664), saving model to 'C:\\\\Tumi\\\\Other Subjects\\\\CV\\\\ComputerVisionLab\\\\Lab3\\\\deepCheckpoints\\\\deeplabv3plus-resnet34.ckpt' as top 1\n"
     ]
    },
    {
     "name": "stdout",
     "output_type": "stream",
     "text": [
      "Epoch 41: 100%|██████████| 20/20 [00:01<00:00, 11.17it/s, v_num=ba39, val_loss=0.00663, valid_per_image_iou=0.993, valid_dataset_iou=0.993, valid_f1_score=0.997, train_per_image_iou=0.992, train_dataset_iou=0.992, train_f1_score=0.996]"
     ]
    },
    {
     "name": "stderr",
     "output_type": "stream",
     "text": [
      "Epoch 41, global step 840: 'val_loss' reached 0.00652 (best 0.00652), saving model to 'C:\\\\Tumi\\\\Other Subjects\\\\CV\\\\ComputerVisionLab\\\\Lab3\\\\deepCheckpoints\\\\deeplabv3plus-resnet34.ckpt' as top 1\n"
     ]
    },
    {
     "name": "stdout",
     "output_type": "stream",
     "text": [
      "Epoch 42: 100%|██████████| 20/20 [00:01<00:00, 11.34it/s, v_num=ba39, val_loss=0.0067, valid_per_image_iou=0.993, valid_dataset_iou=0.993, valid_f1_score=0.996, train_per_image_iou=0.992, train_dataset_iou=0.992, train_f1_score=0.996] "
     ]
    },
    {
     "name": "stderr",
     "output_type": "stream",
     "text": [
      "Epoch 42, global step 860: 'val_loss' reached 0.00646 (best 0.00646), saving model to 'C:\\\\Tumi\\\\Other Subjects\\\\CV\\\\ComputerVisionLab\\\\Lab3\\\\deepCheckpoints\\\\deeplabv3plus-resnet34.ckpt' as top 1\n"
     ]
    },
    {
     "name": "stdout",
     "output_type": "stream",
     "text": [
      "Epoch 43: 100%|██████████| 20/20 [00:01<00:00, 11.43it/s, v_num=ba39, val_loss=0.00638, valid_per_image_iou=0.994, valid_dataset_iou=0.994, valid_f1_score=0.997, train_per_image_iou=0.992, train_dataset_iou=0.992, train_f1_score=0.996]"
     ]
    },
    {
     "name": "stderr",
     "output_type": "stream",
     "text": [
      "Epoch 43, global step 880: 'val_loss' reached 0.00631 (best 0.00631), saving model to 'C:\\\\Tumi\\\\Other Subjects\\\\CV\\\\ComputerVisionLab\\\\Lab3\\\\deepCheckpoints\\\\deeplabv3plus-resnet34.ckpt' as top 1\n"
     ]
    },
    {
     "name": "stdout",
     "output_type": "stream",
     "text": [
      "Epoch 44: 100%|██████████| 20/20 [00:01<00:00, 11.35it/s, v_num=ba39, val_loss=0.00656, valid_per_image_iou=0.993, valid_dataset_iou=0.993, valid_f1_score=0.997, train_per_image_iou=0.992, train_dataset_iou=0.992, train_f1_score=0.996]"
     ]
    },
    {
     "name": "stderr",
     "output_type": "stream",
     "text": [
      "Epoch 44, global step 900: 'val_loss' reached 0.00622 (best 0.00622), saving model to 'C:\\\\Tumi\\\\Other Subjects\\\\CV\\\\ComputerVisionLab\\\\Lab3\\\\deepCheckpoints\\\\deeplabv3plus-resnet34.ckpt' as top 1\n"
     ]
    },
    {
     "name": "stdout",
     "output_type": "stream",
     "text": [
      "Epoch 45: 100%|██████████| 20/20 [00:01<00:00, 11.39it/s, v_num=ba39, val_loss=0.00621, valid_per_image_iou=0.993, valid_dataset_iou=0.993, valid_f1_score=0.997, train_per_image_iou=0.992, train_dataset_iou=0.992, train_f1_score=0.996]"
     ]
    },
    {
     "name": "stderr",
     "output_type": "stream",
     "text": [
      "Epoch 45, global step 920: 'val_loss' reached 0.00611 (best 0.00611), saving model to 'C:\\\\Tumi\\\\Other Subjects\\\\CV\\\\ComputerVisionLab\\\\Lab3\\\\deepCheckpoints\\\\deeplabv3plus-resnet34.ckpt' as top 1\n"
     ]
    },
    {
     "name": "stdout",
     "output_type": "stream",
     "text": [
      "Epoch 46: 100%|██████████| 20/20 [00:01<00:00, 11.39it/s, v_num=ba39, val_loss=0.00604, valid_per_image_iou=0.994, valid_dataset_iou=0.994, valid_f1_score=0.997, train_per_image_iou=0.993, train_dataset_iou=0.993, train_f1_score=0.996]"
     ]
    },
    {
     "name": "stderr",
     "output_type": "stream",
     "text": [
      "Epoch 46, global step 940: 'val_loss' reached 0.00600 (best 0.00600), saving model to 'C:\\\\Tumi\\\\Other Subjects\\\\CV\\\\ComputerVisionLab\\\\Lab3\\\\deepCheckpoints\\\\deeplabv3plus-resnet34.ckpt' as top 1\n"
     ]
    },
    {
     "name": "stdout",
     "output_type": "stream",
     "text": [
      "Epoch 47: 100%|██████████| 20/20 [00:01<00:00, 11.28it/s, v_num=ba39, val_loss=0.00598, valid_per_image_iou=0.994, valid_dataset_iou=0.994, valid_f1_score=0.997, train_per_image_iou=0.993, train_dataset_iou=0.993, train_f1_score=0.996]"
     ]
    },
    {
     "name": "stderr",
     "output_type": "stream",
     "text": [
      "Epoch 47, global step 960: 'val_loss' reached 0.00592 (best 0.00592), saving model to 'C:\\\\Tumi\\\\Other Subjects\\\\CV\\\\ComputerVisionLab\\\\Lab3\\\\deepCheckpoints\\\\deeplabv3plus-resnet34.ckpt' as top 1\n"
     ]
    },
    {
     "name": "stdout",
     "output_type": "stream",
     "text": [
      "Epoch 48: 100%|██████████| 20/20 [00:01<00:00, 11.62it/s, v_num=ba39, val_loss=0.00607, valid_per_image_iou=0.993, valid_dataset_iou=0.993, valid_f1_score=0.997, train_per_image_iou=0.993, train_dataset_iou=0.993, train_f1_score=0.996]"
     ]
    },
    {
     "name": "stderr",
     "output_type": "stream",
     "text": [
      "Epoch 48, global step 980: 'val_loss' reached 0.00580 (best 0.00580), saving model to 'C:\\\\Tumi\\\\Other Subjects\\\\CV\\\\ComputerVisionLab\\\\Lab3\\\\deepCheckpoints\\\\deeplabv3plus-resnet34.ckpt' as top 1\n"
     ]
    },
    {
     "name": "stdout",
     "output_type": "stream",
     "text": [
      "Epoch 49: 100%|██████████| 20/20 [00:01<00:00, 11.28it/s, v_num=ba39, val_loss=0.00592, valid_per_image_iou=0.993, valid_dataset_iou=0.993, valid_f1_score=0.997, train_per_image_iou=0.993, train_dataset_iou=0.993, train_f1_score=0.996]"
     ]
    },
    {
     "name": "stderr",
     "output_type": "stream",
     "text": [
      "Epoch 49, global step 1000: 'val_loss' reached 0.00573 (best 0.00573), saving model to 'C:\\\\Tumi\\\\Other Subjects\\\\CV\\\\ComputerVisionLab\\\\Lab3\\\\deepCheckpoints\\\\deeplabv3plus-resnet34.ckpt' as top 1\n"
     ]
    },
    {
     "name": "stdout",
     "output_type": "stream",
     "text": [
      "Epoch 50: 100%|██████████| 20/20 [00:01<00:00, 11.36it/s, v_num=ba39, val_loss=0.00587, valid_per_image_iou=0.994, valid_dataset_iou=0.994, valid_f1_score=0.997, train_per_image_iou=0.993, train_dataset_iou=0.993, train_f1_score=0.996]"
     ]
    },
    {
     "name": "stderr",
     "output_type": "stream",
     "text": [
      "Epoch 50, global step 1020: 'val_loss' reached 0.00564 (best 0.00564), saving model to 'C:\\\\Tumi\\\\Other Subjects\\\\CV\\\\ComputerVisionLab\\\\Lab3\\\\deepCheckpoints\\\\deeplabv3plus-resnet34.ckpt' as top 1\n"
     ]
    },
    {
     "name": "stdout",
     "output_type": "stream",
     "text": [
      "Epoch 51: 100%|██████████| 20/20 [00:01<00:00, 11.44it/s, v_num=ba39, val_loss=0.006, valid_per_image_iou=0.993, valid_dataset_iou=0.993, valid_f1_score=0.997, train_per_image_iou=0.993, train_dataset_iou=0.993, train_f1_score=0.996]  "
     ]
    },
    {
     "name": "stderr",
     "output_type": "stream",
     "text": [
      "Epoch 51, global step 1040: 'val_loss' reached 0.00560 (best 0.00560), saving model to 'C:\\\\Tumi\\\\Other Subjects\\\\CV\\\\ComputerVisionLab\\\\Lab3\\\\deepCheckpoints\\\\deeplabv3plus-resnet34.ckpt' as top 1\n"
     ]
    },
    {
     "name": "stdout",
     "output_type": "stream",
     "text": [
      "Epoch 52: 100%|██████████| 20/20 [00:01<00:00, 11.37it/s, v_num=ba39, val_loss=0.00585, valid_per_image_iou=0.993, valid_dataset_iou=0.993, valid_f1_score=0.997, train_per_image_iou=0.993, train_dataset_iou=0.993, train_f1_score=0.996]"
     ]
    },
    {
     "name": "stderr",
     "output_type": "stream",
     "text": [
      "Epoch 52, global step 1060: 'val_loss' reached 0.00555 (best 0.00555), saving model to 'C:\\\\Tumi\\\\Other Subjects\\\\CV\\\\ComputerVisionLab\\\\Lab3\\\\deepCheckpoints\\\\deeplabv3plus-resnet34.ckpt' as top 1\n"
     ]
    },
    {
     "name": "stdout",
     "output_type": "stream",
     "text": [
      "Epoch 53: 100%|██████████| 20/20 [00:01<00:00, 11.23it/s, v_num=ba39, val_loss=0.00591, valid_per_image_iou=0.993, valid_dataset_iou=0.993, valid_f1_score=0.997, train_per_image_iou=0.993, train_dataset_iou=0.993, train_f1_score=0.996]"
     ]
    },
    {
     "name": "stderr",
     "output_type": "stream",
     "text": [
      "Epoch 53, global step 1080: 'val_loss' reached 0.00550 (best 0.00550), saving model to 'C:\\\\Tumi\\\\Other Subjects\\\\CV\\\\ComputerVisionLab\\\\Lab3\\\\deepCheckpoints\\\\deeplabv3plus-resnet34.ckpt' as top 1\n"
     ]
    },
    {
     "name": "stdout",
     "output_type": "stream",
     "text": [
      "Epoch 54: 100%|██████████| 20/20 [00:01<00:00, 11.45it/s, v_num=ba39, val_loss=0.00592, valid_per_image_iou=0.993, valid_dataset_iou=0.993, valid_f1_score=0.997, train_per_image_iou=0.993, train_dataset_iou=0.993, train_f1_score=0.996]"
     ]
    },
    {
     "name": "stderr",
     "output_type": "stream",
     "text": [
      "Epoch 54, global step 1100: 'val_loss' reached 0.00541 (best 0.00541), saving model to 'C:\\\\Tumi\\\\Other Subjects\\\\CV\\\\ComputerVisionLab\\\\Lab3\\\\deepCheckpoints\\\\deeplabv3plus-resnet34.ckpt' as top 1\n"
     ]
    },
    {
     "name": "stdout",
     "output_type": "stream",
     "text": [
      "Epoch 55: 100%|██████████| 20/20 [00:01<00:00, 11.26it/s, v_num=ba39, val_loss=0.00573, valid_per_image_iou=0.993, valid_dataset_iou=0.993, valid_f1_score=0.997, train_per_image_iou=0.993, train_dataset_iou=0.993, train_f1_score=0.996]"
     ]
    },
    {
     "name": "stderr",
     "output_type": "stream",
     "text": [
      "Epoch 55, global step 1120: 'val_loss' reached 0.00538 (best 0.00538), saving model to 'C:\\\\Tumi\\\\Other Subjects\\\\CV\\\\ComputerVisionLab\\\\Lab3\\\\deepCheckpoints\\\\deeplabv3plus-resnet34.ckpt' as top 1\n"
     ]
    },
    {
     "name": "stdout",
     "output_type": "stream",
     "text": [
      "Epoch 56: 100%|██████████| 20/20 [00:01<00:00, 11.30it/s, v_num=ba39, val_loss=0.00564, valid_per_image_iou=0.993, valid_dataset_iou=0.993, valid_f1_score=0.997, train_per_image_iou=0.993, train_dataset_iou=0.993, train_f1_score=0.996]"
     ]
    },
    {
     "name": "stderr",
     "output_type": "stream",
     "text": [
      "Epoch 56, global step 1140: 'val_loss' reached 0.00530 (best 0.00530), saving model to 'C:\\\\Tumi\\\\Other Subjects\\\\CV\\\\ComputerVisionLab\\\\Lab3\\\\deepCheckpoints\\\\deeplabv3plus-resnet34.ckpt' as top 1\n"
     ]
    },
    {
     "name": "stdout",
     "output_type": "stream",
     "text": [
      "Epoch 57: 100%|██████████| 20/20 [00:01<00:00, 12.30it/s, v_num=ba39, val_loss=0.0057, valid_per_image_iou=0.993, valid_dataset_iou=0.993, valid_f1_score=0.997, train_per_image_iou=0.993, train_dataset_iou=0.993, train_f1_score=0.996] "
     ]
    },
    {
     "name": "stderr",
     "output_type": "stream",
     "text": [
      "Epoch 57, global step 1160: 'val_loss' reached 0.00523 (best 0.00523), saving model to 'C:\\\\Tumi\\\\Other Subjects\\\\CV\\\\ComputerVisionLab\\\\Lab3\\\\deepCheckpoints\\\\deeplabv3plus-resnet34.ckpt' as top 1\n"
     ]
    },
    {
     "name": "stdout",
     "output_type": "stream",
     "text": [
      "Epoch 58: 100%|██████████| 20/20 [00:01<00:00, 11.26it/s, v_num=ba39, val_loss=0.00556, valid_per_image_iou=0.993, valid_dataset_iou=0.993, valid_f1_score=0.997, train_per_image_iou=0.993, train_dataset_iou=0.993, train_f1_score=0.996]"
     ]
    },
    {
     "name": "stderr",
     "output_type": "stream",
     "text": [
      "Epoch 58, global step 1180: 'val_loss' reached 0.00518 (best 0.00518), saving model to 'C:\\\\Tumi\\\\Other Subjects\\\\CV\\\\ComputerVisionLab\\\\Lab3\\\\deepCheckpoints\\\\deeplabv3plus-resnet34.ckpt' as top 1\n"
     ]
    },
    {
     "name": "stdout",
     "output_type": "stream",
     "text": [
      "Epoch 59: 100%|██████████| 20/20 [00:01<00:00, 11.55it/s, v_num=ba39, val_loss=0.0057, valid_per_image_iou=0.993, valid_dataset_iou=0.993, valid_f1_score=0.997, train_per_image_iou=0.993, train_dataset_iou=0.993, train_f1_score=0.996] "
     ]
    },
    {
     "name": "stderr",
     "output_type": "stream",
     "text": [
      "Epoch 59, global step 1200: 'val_loss' reached 0.00516 (best 0.00516), saving model to 'C:\\\\Tumi\\\\Other Subjects\\\\CV\\\\ComputerVisionLab\\\\Lab3\\\\deepCheckpoints\\\\deeplabv3plus-resnet34.ckpt' as top 1\n"
     ]
    },
    {
     "name": "stdout",
     "output_type": "stream",
     "text": [
      "Epoch 60: 100%|██████████| 20/20 [00:01<00:00, 11.42it/s, v_num=ba39, val_loss=0.00553, valid_per_image_iou=0.994, valid_dataset_iou=0.994, valid_f1_score=0.997, train_per_image_iou=0.993, train_dataset_iou=0.993, train_f1_score=0.996]"
     ]
    },
    {
     "name": "stderr",
     "output_type": "stream",
     "text": [
      "Epoch 60, global step 1220: 'val_loss' reached 0.00511 (best 0.00511), saving model to 'C:\\\\Tumi\\\\Other Subjects\\\\CV\\\\ComputerVisionLab\\\\Lab3\\\\deepCheckpoints\\\\deeplabv3plus-resnet34.ckpt' as top 1\n"
     ]
    },
    {
     "name": "stdout",
     "output_type": "stream",
     "text": [
      "Epoch 61: 100%|██████████| 20/20 [00:01<00:00, 11.26it/s, v_num=ba39, val_loss=0.00564, valid_per_image_iou=0.993, valid_dataset_iou=0.993, valid_f1_score=0.997, train_per_image_iou=0.993, train_dataset_iou=0.993, train_f1_score=0.996]"
     ]
    },
    {
     "name": "stderr",
     "output_type": "stream",
     "text": [
      "Epoch 61, global step 1240: 'val_loss' reached 0.00507 (best 0.00507), saving model to 'C:\\\\Tumi\\\\Other Subjects\\\\CV\\\\ComputerVisionLab\\\\Lab3\\\\deepCheckpoints\\\\deeplabv3plus-resnet34.ckpt' as top 1\n"
     ]
    },
    {
     "name": "stdout",
     "output_type": "stream",
     "text": [
      "Epoch 62: 100%|██████████| 20/20 [00:01<00:00, 11.59it/s, v_num=ba39, val_loss=0.00556, valid_per_image_iou=0.993, valid_dataset_iou=0.993, valid_f1_score=0.997, train_per_image_iou=0.993, train_dataset_iou=0.993, train_f1_score=0.996]"
     ]
    },
    {
     "name": "stderr",
     "output_type": "stream",
     "text": [
      "Epoch 62, global step 1260: 'val_loss' reached 0.00504 (best 0.00504), saving model to 'C:\\\\Tumi\\\\Other Subjects\\\\CV\\\\ComputerVisionLab\\\\Lab3\\\\deepCheckpoints\\\\deeplabv3plus-resnet34.ckpt' as top 1\n"
     ]
    },
    {
     "name": "stdout",
     "output_type": "stream",
     "text": [
      "Epoch 63: 100%|██████████| 20/20 [00:01<00:00, 11.44it/s, v_num=ba39, val_loss=0.00544, valid_per_image_iou=0.993, valid_dataset_iou=0.993, valid_f1_score=0.997, train_per_image_iou=0.993, train_dataset_iou=0.993, train_f1_score=0.996]"
     ]
    },
    {
     "name": "stderr",
     "output_type": "stream",
     "text": [
      "Epoch 63, global step 1280: 'val_loss' reached 0.00499 (best 0.00499), saving model to 'C:\\\\Tumi\\\\Other Subjects\\\\CV\\\\ComputerVisionLab\\\\Lab3\\\\deepCheckpoints\\\\deeplabv3plus-resnet34.ckpt' as top 1\n"
     ]
    },
    {
     "name": "stdout",
     "output_type": "stream",
     "text": [
      "Epoch 64: 100%|██████████| 20/20 [00:01<00:00, 11.30it/s, v_num=ba39, val_loss=0.00538, valid_per_image_iou=0.994, valid_dataset_iou=0.994, valid_f1_score=0.997, train_per_image_iou=0.993, train_dataset_iou=0.993, train_f1_score=0.996]"
     ]
    },
    {
     "name": "stderr",
     "output_type": "stream",
     "text": [
      "Epoch 64, global step 1300: 'val_loss' reached 0.00495 (best 0.00495), saving model to 'C:\\\\Tumi\\\\Other Subjects\\\\CV\\\\ComputerVisionLab\\\\Lab3\\\\deepCheckpoints\\\\deeplabv3plus-resnet34.ckpt' as top 1\n"
     ]
    },
    {
     "name": "stdout",
     "output_type": "stream",
     "text": [
      "Epoch 65: 100%|██████████| 20/20 [00:01<00:00, 11.17it/s, v_num=ba39, val_loss=0.00547, valid_per_image_iou=0.993, valid_dataset_iou=0.993, valid_f1_score=0.997, train_per_image_iou=0.993, train_dataset_iou=0.993, train_f1_score=0.996]"
     ]
    },
    {
     "name": "stderr",
     "output_type": "stream",
     "text": [
      "Epoch 65, global step 1320: 'val_loss' reached 0.00493 (best 0.00493), saving model to 'C:\\\\Tumi\\\\Other Subjects\\\\CV\\\\ComputerVisionLab\\\\Lab3\\\\deepCheckpoints\\\\deeplabv3plus-resnet34.ckpt' as top 1\n"
     ]
    },
    {
     "name": "stdout",
     "output_type": "stream",
     "text": [
      "Epoch 66: 100%|██████████| 20/20 [00:01<00:00, 11.55it/s, v_num=ba39, val_loss=0.00548, valid_per_image_iou=0.993, valid_dataset_iou=0.993, valid_f1_score=0.997, train_per_image_iou=0.993, train_dataset_iou=0.993, train_f1_score=0.996]"
     ]
    },
    {
     "name": "stderr",
     "output_type": "stream",
     "text": [
      "Epoch 66, global step 1340: 'val_loss' reached 0.00488 (best 0.00488), saving model to 'C:\\\\Tumi\\\\Other Subjects\\\\CV\\\\ComputerVisionLab\\\\Lab3\\\\deepCheckpoints\\\\deeplabv3plus-resnet34.ckpt' as top 1\n"
     ]
    },
    {
     "name": "stdout",
     "output_type": "stream",
     "text": [
      "Epoch 67: 100%|██████████| 20/20 [00:01<00:00, 11.32it/s, v_num=ba39, val_loss=0.00527, valid_per_image_iou=0.994, valid_dataset_iou=0.994, valid_f1_score=0.997, train_per_image_iou=0.993, train_dataset_iou=0.993, train_f1_score=0.996]"
     ]
    },
    {
     "name": "stderr",
     "output_type": "stream",
     "text": [
      "Epoch 67, global step 1360: 'val_loss' reached 0.00487 (best 0.00487), saving model to 'C:\\\\Tumi\\\\Other Subjects\\\\CV\\\\ComputerVisionLab\\\\Lab3\\\\deepCheckpoints\\\\deeplabv3plus-resnet34.ckpt' as top 1\n"
     ]
    },
    {
     "name": "stdout",
     "output_type": "stream",
     "text": [
      "Epoch 68: 100%|██████████| 20/20 [00:01<00:00, 11.36it/s, v_num=ba39, val_loss=0.00523, valid_per_image_iou=0.994, valid_dataset_iou=0.994, valid_f1_score=0.997, train_per_image_iou=0.993, train_dataset_iou=0.993, train_f1_score=0.996]"
     ]
    },
    {
     "name": "stderr",
     "output_type": "stream",
     "text": [
      "Epoch 68, global step 1380: 'val_loss' reached 0.00482 (best 0.00482), saving model to 'C:\\\\Tumi\\\\Other Subjects\\\\CV\\\\ComputerVisionLab\\\\Lab3\\\\deepCheckpoints\\\\deeplabv3plus-resnet34.ckpt' as top 1\n"
     ]
    },
    {
     "name": "stdout",
     "output_type": "stream",
     "text": [
      "Epoch 69: 100%|██████████| 20/20 [00:01<00:00, 11.43it/s, v_num=ba39, val_loss=0.00534, valid_per_image_iou=0.994, valid_dataset_iou=0.994, valid_f1_score=0.997, train_per_image_iou=0.993, train_dataset_iou=0.993, train_f1_score=0.997]"
     ]
    },
    {
     "name": "stderr",
     "output_type": "stream",
     "text": [
      "Epoch 69, global step 1400: 'val_loss' reached 0.00481 (best 0.00481), saving model to 'C:\\\\Tumi\\\\Other Subjects\\\\CV\\\\ComputerVisionLab\\\\Lab3\\\\deepCheckpoints\\\\deeplabv3plus-resnet34.ckpt' as top 1\n"
     ]
    },
    {
     "name": "stdout",
     "output_type": "stream",
     "text": [
      "Epoch 70: 100%|██████████| 20/20 [00:01<00:00, 11.12it/s, v_num=ba39, val_loss=0.00525, valid_per_image_iou=0.994, valid_dataset_iou=0.994, valid_f1_score=0.997, train_per_image_iou=0.993, train_dataset_iou=0.993, train_f1_score=0.997]"
     ]
    },
    {
     "name": "stderr",
     "output_type": "stream",
     "text": [
      "Epoch 70, global step 1420: 'val_loss' reached 0.00478 (best 0.00478), saving model to 'C:\\\\Tumi\\\\Other Subjects\\\\CV\\\\ComputerVisionLab\\\\Lab3\\\\deepCheckpoints\\\\deeplabv3plus-resnet34.ckpt' as top 1\n"
     ]
    },
    {
     "name": "stdout",
     "output_type": "stream",
     "text": [
      "Epoch 71: 100%|██████████| 20/20 [00:01<00:00, 11.41it/s, v_num=ba39, val_loss=0.00522, valid_per_image_iou=0.993, valid_dataset_iou=0.993, valid_f1_score=0.997, train_per_image_iou=0.993, train_dataset_iou=0.993, train_f1_score=0.997]"
     ]
    },
    {
     "name": "stderr",
     "output_type": "stream",
     "text": [
      "Epoch 71, global step 1440: 'val_loss' reached 0.00475 (best 0.00475), saving model to 'C:\\\\Tumi\\\\Other Subjects\\\\CV\\\\ComputerVisionLab\\\\Lab3\\\\deepCheckpoints\\\\deeplabv3plus-resnet34.ckpt' as top 1\n"
     ]
    },
    {
     "name": "stdout",
     "output_type": "stream",
     "text": [
      "Epoch 72: 100%|██████████| 20/20 [00:01<00:00, 11.34it/s, v_num=ba39, val_loss=0.00526, valid_per_image_iou=0.994, valid_dataset_iou=0.994, valid_f1_score=0.997, train_per_image_iou=0.993, train_dataset_iou=0.993, train_f1_score=0.997]"
     ]
    },
    {
     "name": "stderr",
     "output_type": "stream",
     "text": [
      "Epoch 72, global step 1460: 'val_loss' was not in top 1\n"
     ]
    },
    {
     "name": "stdout",
     "output_type": "stream",
     "text": [
      "Epoch 73: 100%|██████████| 20/20 [00:01<00:00, 12.51it/s, v_num=ba39, val_loss=0.00516, valid_per_image_iou=0.994, valid_dataset_iou=0.994, valid_f1_score=0.997, train_per_image_iou=0.993, train_dataset_iou=0.993, train_f1_score=0.997]"
     ]
    },
    {
     "name": "stderr",
     "output_type": "stream",
     "text": [
      "Epoch 73, global step 1480: 'val_loss' reached 0.00470 (best 0.00470), saving model to 'C:\\\\Tumi\\\\Other Subjects\\\\CV\\\\ComputerVisionLab\\\\Lab3\\\\deepCheckpoints\\\\deeplabv3plus-resnet34.ckpt' as top 1\n"
     ]
    },
    {
     "name": "stdout",
     "output_type": "stream",
     "text": [
      "Epoch 74: 100%|██████████| 20/20 [00:01<00:00, 11.38it/s, v_num=ba39, val_loss=0.00506, valid_per_image_iou=0.994, valid_dataset_iou=0.994, valid_f1_score=0.997, train_per_image_iou=0.993, train_dataset_iou=0.993, train_f1_score=0.997]"
     ]
    },
    {
     "name": "stderr",
     "output_type": "stream",
     "text": [
      "Epoch 74, global step 1500: 'val_loss' reached 0.00467 (best 0.00467), saving model to 'C:\\\\Tumi\\\\Other Subjects\\\\CV\\\\ComputerVisionLab\\\\Lab3\\\\deepCheckpoints\\\\deeplabv3plus-resnet34.ckpt' as top 1\n"
     ]
    },
    {
     "name": "stdout",
     "output_type": "stream",
     "text": [
      "Epoch 75: 100%|██████████| 20/20 [00:01<00:00, 11.48it/s, v_num=ba39, val_loss=0.00516, valid_per_image_iou=0.994, valid_dataset_iou=0.994, valid_f1_score=0.997, train_per_image_iou=0.993, train_dataset_iou=0.993, train_f1_score=0.997]"
     ]
    },
    {
     "name": "stderr",
     "output_type": "stream",
     "text": [
      "Epoch 75, global step 1520: 'val_loss' reached 0.00466 (best 0.00466), saving model to 'C:\\\\Tumi\\\\Other Subjects\\\\CV\\\\ComputerVisionLab\\\\Lab3\\\\deepCheckpoints\\\\deeplabv3plus-resnet34.ckpt' as top 1\n"
     ]
    },
    {
     "name": "stdout",
     "output_type": "stream",
     "text": [
      "Epoch 76: 100%|██████████| 20/20 [00:01<00:00, 11.28it/s, v_num=ba39, val_loss=0.00506, valid_per_image_iou=0.994, valid_dataset_iou=0.994, valid_f1_score=0.997, train_per_image_iou=0.993, train_dataset_iou=0.993, train_f1_score=0.997]"
     ]
    },
    {
     "name": "stderr",
     "output_type": "stream",
     "text": [
      "Epoch 76, global step 1540: 'val_loss' reached 0.00465 (best 0.00465), saving model to 'C:\\\\Tumi\\\\Other Subjects\\\\CV\\\\ComputerVisionLab\\\\Lab3\\\\deepCheckpoints\\\\deeplabv3plus-resnet34.ckpt' as top 1\n"
     ]
    },
    {
     "name": "stdout",
     "output_type": "stream",
     "text": [
      "Epoch 77: 100%|██████████| 20/20 [00:01<00:00, 11.63it/s, v_num=ba39, val_loss=0.00507, valid_per_image_iou=0.994, valid_dataset_iou=0.994, valid_f1_score=0.997, train_per_image_iou=0.993, train_dataset_iou=0.993, train_f1_score=0.997]"
     ]
    },
    {
     "name": "stderr",
     "output_type": "stream",
     "text": [
      "Epoch 77, global step 1560: 'val_loss' reached 0.00461 (best 0.00461), saving model to 'C:\\\\Tumi\\\\Other Subjects\\\\CV\\\\ComputerVisionLab\\\\Lab3\\\\deepCheckpoints\\\\deeplabv3plus-resnet34.ckpt' as top 1\n"
     ]
    },
    {
     "name": "stdout",
     "output_type": "stream",
     "text": [
      "Epoch 78: 100%|██████████| 20/20 [00:01<00:00, 11.44it/s, v_num=ba39, val_loss=0.0051, valid_per_image_iou=0.994, valid_dataset_iou=0.994, valid_f1_score=0.997, train_per_image_iou=0.993, train_dataset_iou=0.993, train_f1_score=0.997] "
     ]
    },
    {
     "name": "stderr",
     "output_type": "stream",
     "text": [
      "Epoch 78, global step 1580: 'val_loss' was not in top 1\n"
     ]
    },
    {
     "name": "stdout",
     "output_type": "stream",
     "text": [
      "Epoch 79: 100%|██████████| 20/20 [00:01<00:00, 12.52it/s, v_num=ba39, val_loss=0.00498, valid_per_image_iou=0.994, valid_dataset_iou=0.994, valid_f1_score=0.997, train_per_image_iou=0.993, train_dataset_iou=0.993, train_f1_score=0.997]"
     ]
    },
    {
     "name": "stderr",
     "output_type": "stream",
     "text": [
      "Epoch 79, global step 1600: 'val_loss' reached 0.00460 (best 0.00460), saving model to 'C:\\\\Tumi\\\\Other Subjects\\\\CV\\\\ComputerVisionLab\\\\Lab3\\\\deepCheckpoints\\\\deeplabv3plus-resnet34.ckpt' as top 1\n"
     ]
    },
    {
     "name": "stdout",
     "output_type": "stream",
     "text": [
      "Epoch 80: 100%|██████████| 20/20 [00:01<00:00, 11.50it/s, v_num=ba39, val_loss=0.00503, valid_per_image_iou=0.994, valid_dataset_iou=0.994, valid_f1_score=0.997, train_per_image_iou=0.993, train_dataset_iou=0.993, train_f1_score=0.997]"
     ]
    },
    {
     "name": "stderr",
     "output_type": "stream",
     "text": [
      "Epoch 80, global step 1620: 'val_loss' reached 0.00459 (best 0.00459), saving model to 'C:\\\\Tumi\\\\Other Subjects\\\\CV\\\\ComputerVisionLab\\\\Lab3\\\\deepCheckpoints\\\\deeplabv3plus-resnet34.ckpt' as top 1\n"
     ]
    },
    {
     "name": "stdout",
     "output_type": "stream",
     "text": [
      "Epoch 81: 100%|██████████| 20/20 [00:01<00:00, 11.35it/s, v_num=ba39, val_loss=0.00498, valid_per_image_iou=0.994, valid_dataset_iou=0.994, valid_f1_score=0.997, train_per_image_iou=0.993, train_dataset_iou=0.993, train_f1_score=0.997]"
     ]
    },
    {
     "name": "stderr",
     "output_type": "stream",
     "text": [
      "Epoch 81, global step 1640: 'val_loss' reached 0.00456 (best 0.00456), saving model to 'C:\\\\Tumi\\\\Other Subjects\\\\CV\\\\ComputerVisionLab\\\\Lab3\\\\deepCheckpoints\\\\deeplabv3plus-resnet34.ckpt' as top 1\n"
     ]
    },
    {
     "name": "stdout",
     "output_type": "stream",
     "text": [
      "Epoch 82: 100%|██████████| 20/20 [00:01<00:00, 11.18it/s, v_num=ba39, val_loss=0.00505, valid_per_image_iou=0.994, valid_dataset_iou=0.994, valid_f1_score=0.997, train_per_image_iou=0.993, train_dataset_iou=0.993, train_f1_score=0.997]"
     ]
    },
    {
     "name": "stderr",
     "output_type": "stream",
     "text": [
      "Epoch 82, global step 1660: 'val_loss' was not in top 1\n"
     ]
    },
    {
     "name": "stdout",
     "output_type": "stream",
     "text": [
      "Epoch 83: 100%|██████████| 20/20 [00:01<00:00, 12.55it/s, v_num=ba39, val_loss=0.00507, valid_per_image_iou=0.994, valid_dataset_iou=0.994, valid_f1_score=0.997, train_per_image_iou=0.993, train_dataset_iou=0.993, train_f1_score=0.997]"
     ]
    },
    {
     "name": "stderr",
     "output_type": "stream",
     "text": [
      "Epoch 83, global step 1680: 'val_loss' reached 0.00454 (best 0.00454), saving model to 'C:\\\\Tumi\\\\Other Subjects\\\\CV\\\\ComputerVisionLab\\\\Lab3\\\\deepCheckpoints\\\\deeplabv3plus-resnet34.ckpt' as top 1\n"
     ]
    },
    {
     "name": "stdout",
     "output_type": "stream",
     "text": [
      "Epoch 84: 100%|██████████| 20/20 [00:01<00:00, 11.44it/s, v_num=ba39, val_loss=0.00504, valid_per_image_iou=0.994, valid_dataset_iou=0.994, valid_f1_score=0.997, train_per_image_iou=0.993, train_dataset_iou=0.993, train_f1_score=0.997]"
     ]
    },
    {
     "name": "stderr",
     "output_type": "stream",
     "text": [
      "Epoch 84, global step 1700: 'val_loss' reached 0.00452 (best 0.00452), saving model to 'C:\\\\Tumi\\\\Other Subjects\\\\CV\\\\ComputerVisionLab\\\\Lab3\\\\deepCheckpoints\\\\deeplabv3plus-resnet34.ckpt' as top 1\n"
     ]
    },
    {
     "name": "stdout",
     "output_type": "stream",
     "text": [
      "Epoch 85: 100%|██████████| 20/20 [00:01<00:00, 11.20it/s, v_num=ba39, val_loss=0.005, valid_per_image_iou=0.994, valid_dataset_iou=0.994, valid_f1_score=0.997, train_per_image_iou=0.993, train_dataset_iou=0.993, train_f1_score=0.997]  "
     ]
    },
    {
     "name": "stderr",
     "output_type": "stream",
     "text": [
      "Epoch 85, global step 1720: 'val_loss' reached 0.00450 (best 0.00450), saving model to 'C:\\\\Tumi\\\\Other Subjects\\\\CV\\\\ComputerVisionLab\\\\Lab3\\\\deepCheckpoints\\\\deeplabv3plus-resnet34.ckpt' as top 1\n"
     ]
    },
    {
     "name": "stdout",
     "output_type": "stream",
     "text": [
      "Epoch 86: 100%|██████████| 20/20 [00:01<00:00, 11.60it/s, v_num=ba39, val_loss=0.00502, valid_per_image_iou=0.994, valid_dataset_iou=0.994, valid_f1_score=0.997, train_per_image_iou=0.993, train_dataset_iou=0.993, train_f1_score=0.997]"
     ]
    },
    {
     "name": "stderr",
     "output_type": "stream",
     "text": [
      "Epoch 86, global step 1740: 'val_loss' was not in top 1\n"
     ]
    },
    {
     "name": "stdout",
     "output_type": "stream",
     "text": [
      "Epoch 87: 100%|██████████| 20/20 [00:01<00:00, 12.54it/s, v_num=ba39, val_loss=0.00508, valid_per_image_iou=0.994, valid_dataset_iou=0.994, valid_f1_score=0.997, train_per_image_iou=0.993, train_dataset_iou=0.993, train_f1_score=0.997]"
     ]
    },
    {
     "name": "stderr",
     "output_type": "stream",
     "text": [
      "Epoch 87, global step 1760: 'val_loss' reached 0.00450 (best 0.00450), saving model to 'C:\\\\Tumi\\\\Other Subjects\\\\CV\\\\ComputerVisionLab\\\\Lab3\\\\deepCheckpoints\\\\deeplabv3plus-resnet34.ckpt' as top 1\n"
     ]
    },
    {
     "name": "stdout",
     "output_type": "stream",
     "text": [
      "Epoch 88: 100%|██████████| 20/20 [00:01<00:00, 11.26it/s, v_num=ba39, val_loss=0.00505, valid_per_image_iou=0.994, valid_dataset_iou=0.994, valid_f1_score=0.997, train_per_image_iou=0.993, train_dataset_iou=0.993, train_f1_score=0.997]"
     ]
    },
    {
     "name": "stderr",
     "output_type": "stream",
     "text": [
      "Epoch 88, global step 1780: 'val_loss' reached 0.00448 (best 0.00448), saving model to 'C:\\\\Tumi\\\\Other Subjects\\\\CV\\\\ComputerVisionLab\\\\Lab3\\\\deepCheckpoints\\\\deeplabv3plus-resnet34.ckpt' as top 1\n"
     ]
    },
    {
     "name": "stdout",
     "output_type": "stream",
     "text": [
      "Epoch 89: 100%|██████████| 20/20 [00:01<00:00, 11.68it/s, v_num=ba39, val_loss=0.00506, valid_per_image_iou=0.994, valid_dataset_iou=0.994, valid_f1_score=0.997, train_per_image_iou=0.993, train_dataset_iou=0.993, train_f1_score=0.997]"
     ]
    },
    {
     "name": "stderr",
     "output_type": "stream",
     "text": [
      "Epoch 89, global step 1800: 'val_loss' was not in top 1\n"
     ]
    },
    {
     "name": "stdout",
     "output_type": "stream",
     "text": [
      "Epoch 90: 100%|██████████| 20/20 [00:01<00:00, 12.54it/s, v_num=ba39, val_loss=0.005, valid_per_image_iou=0.994, valid_dataset_iou=0.994, valid_f1_score=0.997, train_per_image_iou=0.993, train_dataset_iou=0.993, train_f1_score=0.997]  "
     ]
    },
    {
     "name": "stderr",
     "output_type": "stream",
     "text": [
      "Epoch 90, global step 1820: 'val_loss' reached 0.00445 (best 0.00445), saving model to 'C:\\\\Tumi\\\\Other Subjects\\\\CV\\\\ComputerVisionLab\\\\Lab3\\\\deepCheckpoints\\\\deeplabv3plus-resnet34.ckpt' as top 1\n"
     ]
    },
    {
     "name": "stdout",
     "output_type": "stream",
     "text": [
      "Epoch 91: 100%|██████████| 20/20 [00:01<00:00, 11.23it/s, v_num=ba39, val_loss=0.00492, valid_per_image_iou=0.994, valid_dataset_iou=0.994, valid_f1_score=0.997, train_per_image_iou=0.993, train_dataset_iou=0.993, train_f1_score=0.997]"
     ]
    },
    {
     "name": "stderr",
     "output_type": "stream",
     "text": [
      "Epoch 91, global step 1840: 'val_loss' was not in top 1\n"
     ]
    },
    {
     "name": "stdout",
     "output_type": "stream",
     "text": [
      "Epoch 92: 100%|██████████| 20/20 [00:01<00:00, 12.55it/s, v_num=ba39, val_loss=0.00497, valid_per_image_iou=0.994, valid_dataset_iou=0.994, valid_f1_score=0.997, train_per_image_iou=0.993, train_dataset_iou=0.993, train_f1_score=0.997]"
     ]
    },
    {
     "name": "stderr",
     "output_type": "stream",
     "text": [
      "Epoch 92, global step 1860: 'val_loss' reached 0.00444 (best 0.00444), saving model to 'C:\\\\Tumi\\\\Other Subjects\\\\CV\\\\ComputerVisionLab\\\\Lab3\\\\deepCheckpoints\\\\deeplabv3plus-resnet34.ckpt' as top 1\n"
     ]
    },
    {
     "name": "stdout",
     "output_type": "stream",
     "text": [
      "Epoch 93: 100%|██████████| 20/20 [00:01<00:00, 11.55it/s, v_num=ba39, val_loss=0.00503, valid_per_image_iou=0.994, valid_dataset_iou=0.994, valid_f1_score=0.997, train_per_image_iou=0.993, train_dataset_iou=0.993, train_f1_score=0.997]"
     ]
    },
    {
     "name": "stderr",
     "output_type": "stream",
     "text": [
      "Epoch 93, global step 1880: 'val_loss' was not in top 1\n"
     ]
    },
    {
     "name": "stdout",
     "output_type": "stream",
     "text": [
      "Epoch 94: 100%|██████████| 20/20 [00:01<00:00, 12.54it/s, v_num=ba39, val_loss=0.00501, valid_per_image_iou=0.994, valid_dataset_iou=0.994, valid_f1_score=0.997, train_per_image_iou=0.993, train_dataset_iou=0.993, train_f1_score=0.997]"
     ]
    },
    {
     "name": "stderr",
     "output_type": "stream",
     "text": [
      "Epoch 94, global step 1900: 'val_loss' was not in top 1\n"
     ]
    },
    {
     "name": "stdout",
     "output_type": "stream",
     "text": [
      "Epoch 95: 100%|██████████| 20/20 [00:01<00:00, 12.55it/s, v_num=ba39, val_loss=0.00506, valid_per_image_iou=0.994, valid_dataset_iou=0.994, valid_f1_score=0.997, train_per_image_iou=0.993, train_dataset_iou=0.993, train_f1_score=0.997]"
     ]
    },
    {
     "name": "stderr",
     "output_type": "stream",
     "text": [
      "Epoch 95, global step 1920: 'val_loss' was not in top 1\n"
     ]
    },
    {
     "name": "stdout",
     "output_type": "stream",
     "text": [
      "Epoch 96: 100%|██████████| 20/20 [00:01<00:00, 12.52it/s, v_num=ba39, val_loss=0.00498, valid_per_image_iou=0.994, valid_dataset_iou=0.994, valid_f1_score=0.997, train_per_image_iou=0.993, train_dataset_iou=0.993, train_f1_score=0.997]"
     ]
    },
    {
     "name": "stderr",
     "output_type": "stream",
     "text": [
      "Epoch 96, global step 1940: 'val_loss' reached 0.00442 (best 0.00442), saving model to 'C:\\\\Tumi\\\\Other Subjects\\\\CV\\\\ComputerVisionLab\\\\Lab3\\\\deepCheckpoints\\\\deeplabv3plus-resnet34.ckpt' as top 1\n"
     ]
    },
    {
     "name": "stdout",
     "output_type": "stream",
     "text": [
      "Epoch 97: 100%|██████████| 20/20 [00:01<00:00, 11.31it/s, v_num=ba39, val_loss=0.00501, valid_per_image_iou=0.994, valid_dataset_iou=0.994, valid_f1_score=0.997, train_per_image_iou=0.993, train_dataset_iou=0.993, train_f1_score=0.997]"
     ]
    },
    {
     "name": "stderr",
     "output_type": "stream",
     "text": [
      "Epoch 97, global step 1960: 'val_loss' was not in top 1\n"
     ]
    },
    {
     "name": "stdout",
     "output_type": "stream",
     "text": [
      "Epoch 98: 100%|██████████| 20/20 [00:01<00:00, 12.53it/s, v_num=ba39, val_loss=0.00504, valid_per_image_iou=0.994, valid_dataset_iou=0.994, valid_f1_score=0.997, train_per_image_iou=0.993, train_dataset_iou=0.993, train_f1_score=0.997]"
     ]
    },
    {
     "name": "stderr",
     "output_type": "stream",
     "text": [
      "Epoch 98, global step 1980: 'val_loss' was not in top 1\n"
     ]
    },
    {
     "name": "stdout",
     "output_type": "stream",
     "text": [
      "Epoch 99: 100%|██████████| 20/20 [00:01<00:00, 12.54it/s, v_num=ba39, val_loss=0.005, valid_per_image_iou=0.994, valid_dataset_iou=0.994, valid_f1_score=0.997, train_per_image_iou=0.993, train_dataset_iou=0.993, train_f1_score=0.997]  "
     ]
    },
    {
     "name": "stderr",
     "output_type": "stream",
     "text": [
      "Epoch 99, global step 2000: 'val_loss' reached 0.00441 (best 0.00441), saving model to 'C:\\\\Tumi\\\\Other Subjects\\\\CV\\\\ComputerVisionLab\\\\Lab3\\\\deepCheckpoints\\\\deeplabv3plus-resnet34.ckpt' as top 1\n",
      "`Trainer.fit` stopped: `max_epochs=100` reached.\n"
     ]
    },
    {
     "name": "stdout",
     "output_type": "stream",
     "text": [
      "Epoch 99: 100%|██████████| 20/20 [00:03<00:00,  5.65it/s, v_num=ba39, val_loss=0.005, valid_per_image_iou=0.994, valid_dataset_iou=0.994, valid_f1_score=0.997, train_per_image_iou=0.993, train_dataset_iou=0.993, train_f1_score=0.997]\n"
     ]
    },
    {
     "name": "stderr",
     "output_type": "stream",
     "text": [
      "LOCAL_RANK: 0 - CUDA_VISIBLE_DEVICES: [0]\n"
     ]
    },
    {
     "name": "stdout",
     "output_type": "stream",
     "text": [
      "Validation DataLoader 0: 100%|██████████| 2/2 [00:00<00:00, 10.24it/s] "
     ]
    },
    {
     "name": "stderr",
     "output_type": "stream",
     "text": [
      "LOCAL_RANK: 0 - CUDA_VISIBLE_DEVICES: [0]\n",
      "c:\\Program Files\\Python312\\Lib\\site-packages\\pytorch_lightning\\trainer\\connectors\\data_connector.py:475: Your `test_dataloader`'s sampler has shuffling enabled, it is strongly recommended that you turn shuffling off for val/test dataloaders.\n",
      "c:\\Program Files\\Python312\\Lib\\site-packages\\pytorch_lightning\\trainer\\connectors\\data_connector.py:424: The 'test_dataloader' does not have many workers which may be a bottleneck. Consider increasing the value of the `num_workers` argument` to `num_workers=15` in the `DataLoader` to improve performance.\n"
     ]
    },
    {
     "name": "stdout",
     "output_type": "stream",
     "text": [
      "\n",
      "[{'val_loss': 0.005004435777664185, 'valid_per_image_iou': 0.9936294555664062, 'valid_dataset_iou': 0.9936292767524719, 'valid_f1_score': 0.9968039989471436}]\n",
      "Testing DataLoader 0: 100%|██████████| 4/4 [00:00<00:00, 36.13it/s]\n",
      "[{'val_loss': 0.004751726984977722, 'test_per_image_iou': 0.9939194917678833, 'test_dataset_iou': 0.9939191341400146, 'test_f1_score': 0.9969498515129089}]\n"
     ]
    }
   ],
   "source": [
    "deepvPlus_model = DeepV_plus(\"deeplabv3plus\", \"resnet34\", in_channels=3, out_classes=2)\n",
    "train_deep_model(deepvPlus_model)"
   ]
  },
  {
   "cell_type": "code",
   "execution_count": 10,
   "metadata": {},
   "outputs": [
    {
     "name": "stdout",
     "output_type": "stream",
     "text": [
      "imagenet\n"
     ]
    },
    {
     "data": {
      "text/html": [
       "<style>\n",
       "    table.wandb td:nth-child(1) { padding: 0 10px; text-align: left ; width: auto;} td:nth-child(2) {text-align: left ; width: 100%}\n",
       "    .wandb-row { display: flex; flex-direction: row; flex-wrap: wrap; justify-content: flex-start; width: 100% }\n",
       "    .wandb-col { display: flex; flex-direction: column; flex-basis: 100%; flex: 1; padding: 10px; }\n",
       "    </style>\n",
       "<div class=\"wandb-row\"><div class=\"wandb-col\"><h3>Run history:</h3><br/><table class=\"wandb\"><tr><td>epoch</td><td>▁▁▁▁▂▂▂▂▂▃▃▃▃▃▃▄▄▄▄▄▅▅▅▅▅▅▆▆▆▆▆▇▇▇▇▇▇███</td></tr><tr><td>test_dataset_iou</td><td>▁</td></tr><tr><td>test_f1_score</td><td>▁</td></tr><tr><td>test_per_image_iou</td><td>▁</td></tr><tr><td>train_dataset_iou</td><td>▁▆▇█████████████████████████████████████</td></tr><tr><td>train_f1_score</td><td>▁▆▇█████████████████████████████████████</td></tr><tr><td>train_per_image_iou</td><td>▁▆▇█████████████████████████████████████</td></tr><tr><td>trainer/global_step</td><td>▁▁▁▁▂▂▂▂▂▃▃▃▃▃▃▄▄▄▄▄▅▅▅▅▅▆▆▆▆▆▆▇▇▇▇▇████</td></tr><tr><td>val_loss</td><td>█▄▂▂▂▁▁▁▁▁▁▁▁▁▁▁▁▁▁▁▁▁▁▁▁▁▁▁▁▁▁▁▁▁▁▁▁▁▁▁</td></tr><tr><td>valid_dataset_iou</td><td>▁▇██████████████████████████████████████</td></tr><tr><td>valid_f1_score</td><td>▁▇██████████████████████████████████████</td></tr><tr><td>valid_per_image_iou</td><td>▁▇██████████████████████████████████████</td></tr></table><br/></div><div class=\"wandb-col\"><h3>Run summary:</h3><br/><table class=\"wandb\"><tr><td>epoch</td><td>100</td></tr><tr><td>test_dataset_iou</td><td>0.99392</td></tr><tr><td>test_f1_score</td><td>0.99695</td></tr><tr><td>test_per_image_iou</td><td>0.99392</td></tr><tr><td>train_dataset_iou</td><td>0.99323</td></tr><tr><td>train_f1_score</td><td>0.9966</td></tr><tr><td>train_per_image_iou</td><td>0.99323</td></tr><tr><td>trainer/global_step</td><td>2000</td></tr><tr><td>val_loss</td><td>0.00475</td></tr><tr><td>valid_dataset_iou</td><td>0.99363</td></tr><tr><td>valid_f1_score</td><td>0.9968</td></tr><tr><td>valid_per_image_iou</td><td>0.99363</td></tr></table><br/></div></div>"
      ],
      "text/plain": [
       "<IPython.core.display.HTML object>"
      ]
     },
     "metadata": {},
     "output_type": "display_data"
    },
    {
     "data": {
      "text/html": [
       " View run <strong style=\"color:#cdcd00\">deeplabv3plus-resnet34</strong> at: <a href='https://wandb.ai/2180153-wits-university/DeepLabV3Plus/runs/60p0ba39' target=\"_blank\">https://wandb.ai/2180153-wits-university/DeepLabV3Plus/runs/60p0ba39</a><br/> View project at: <a href='https://wandb.ai/2180153-wits-university/DeepLabV3Plus' target=\"_blank\">https://wandb.ai/2180153-wits-university/DeepLabV3Plus</a><br/>Synced 5 W&B file(s), 0 media file(s), 1 artifact file(s) and 0 other file(s)"
      ],
      "text/plain": [
       "<IPython.core.display.HTML object>"
      ]
     },
     "metadata": {},
     "output_type": "display_data"
    },
    {
     "data": {
      "text/html": [
       "Find logs at: <code>.\\wandb\\run-20240922_120642-60p0ba39\\logs</code>"
      ],
      "text/plain": [
       "<IPython.core.display.HTML object>"
      ]
     },
     "metadata": {},
     "output_type": "display_data"
    },
    {
     "data": {
      "text/html": [
       "The new W&B backend becomes opt-out in version 0.18.0; try it out with `wandb.require(\"core\")`! See https://wandb.me/wandb-core for more information."
      ],
      "text/plain": [
       "<IPython.core.display.HTML object>"
      ]
     },
     "metadata": {},
     "output_type": "display_data"
    },
    {
     "name": "stderr",
     "output_type": "stream",
     "text": [
      "GPU available: True (cuda), used: True\n",
      "TPU available: False, using: 0 TPU cores\n",
      "HPU available: False, using: 0 HPUs\n"
     ]
    },
    {
     "data": {
      "text/html": [
       "Tracking run with wandb version 0.17.8"
      ],
      "text/plain": [
       "<IPython.core.display.HTML object>"
      ]
     },
     "metadata": {},
     "output_type": "display_data"
    },
    {
     "data": {
      "text/html": [
       "Run data is saved locally in <code>.\\wandb\\run-20240922_121327-xgup338k</code>"
      ],
      "text/plain": [
       "<IPython.core.display.HTML object>"
      ]
     },
     "metadata": {},
     "output_type": "display_data"
    },
    {
     "data": {
      "text/html": [
       "Syncing run <strong><a href='https://wandb.ai/2180153-wits-university/DeepLabV3Plus/runs/xgup338k' target=\"_blank\">deeplabv3plus-resnext50_32x4d</a></strong> to <a href='https://wandb.ai/2180153-wits-university/DeepLabV3Plus' target=\"_blank\">Weights & Biases</a> (<a href='https://wandb.me/run' target=\"_blank\">docs</a>)<br/>"
      ],
      "text/plain": [
       "<IPython.core.display.HTML object>"
      ]
     },
     "metadata": {},
     "output_type": "display_data"
    },
    {
     "data": {
      "text/html": [
       " View project at <a href='https://wandb.ai/2180153-wits-university/DeepLabV3Plus' target=\"_blank\">https://wandb.ai/2180153-wits-university/DeepLabV3Plus</a>"
      ],
      "text/plain": [
       "<IPython.core.display.HTML object>"
      ]
     },
     "metadata": {},
     "output_type": "display_data"
    },
    {
     "data": {
      "text/html": [
       " View run at <a href='https://wandb.ai/2180153-wits-university/DeepLabV3Plus/runs/xgup338k' target=\"_blank\">https://wandb.ai/2180153-wits-university/DeepLabV3Plus/runs/xgup338k</a>"
      ],
      "text/plain": [
       "<IPython.core.display.HTML object>"
      ]
     },
     "metadata": {},
     "output_type": "display_data"
    },
    {
     "name": "stderr",
     "output_type": "stream",
     "text": [
      "c:\\Program Files\\Python312\\Lib\\site-packages\\pytorch_lightning\\callbacks\\model_checkpoint.py:654: Checkpoint directory C:\\Tumi\\Other Subjects\\CV\\ComputerVisionLab\\Lab3\\deepCheckpoints exists and is not empty.\n",
      "LOCAL_RANK: 0 - CUDA_VISIBLE_DEVICES: [0]\n",
      "\n",
      "  | Name    | Type          | Params | Mode \n",
      "--------------------------------------------------\n",
      "0 | model   | DeepLabV3Plus | 26.1 M | train\n",
      "1 | loss_fn | DiceLoss      | 0      | train\n",
      "--------------------------------------------------\n",
      "26.1 M    Trainable params\n",
      "0         Non-trainable params\n",
      "26.1 M    Total params\n",
      "104.599   Total estimated model params size (MB)\n",
      "208       Modules in train mode\n",
      "0         Modules in eval mode\n"
     ]
    },
    {
     "name": "stdout",
     "output_type": "stream",
     "text": [
      "Sanity Checking DataLoader 0:   0%|          | 0/2 [00:00<?, ?it/s]"
     ]
    },
    {
     "name": "stderr",
     "output_type": "stream",
     "text": [
      "c:\\Program Files\\Python312\\Lib\\site-packages\\pytorch_lightning\\trainer\\connectors\\data_connector.py:424: The 'val_dataloader' does not have many workers which may be a bottleneck. Consider increasing the value of the `num_workers` argument` to `num_workers=15` in the `DataLoader` to improve performance.\n"
     ]
    },
    {
     "name": "stdout",
     "output_type": "stream",
     "text": [
      "                                                                           "
     ]
    },
    {
     "name": "stderr",
     "output_type": "stream",
     "text": [
      "c:\\Program Files\\Python312\\Lib\\site-packages\\pytorch_lightning\\trainer\\connectors\\data_connector.py:424: The 'train_dataloader' does not have many workers which may be a bottleneck. Consider increasing the value of the `num_workers` argument` to `num_workers=15` in the `DataLoader` to improve performance.\n"
     ]
    },
    {
     "name": "stdout",
     "output_type": "stream",
     "text": [
      "Epoch 0: 100%|██████████| 20/20 [00:02<00:00,  6.79it/s, v_num=338k, val_loss=0.345, valid_per_image_iou=0.822, valid_dataset_iou=0.822, valid_f1_score=0.902]"
     ]
    },
    {
     "name": "stderr",
     "output_type": "stream",
     "text": [
      "Epoch 0, global step 20: 'val_loss' reached 0.30209 (best 0.30209), saving model to 'C:\\\\Tumi\\\\Other Subjects\\\\CV\\\\ComputerVisionLab\\\\Lab3\\\\deepCheckpoints\\\\deeplabv3plus-resnext50_32x4d.ckpt' as top 1\n"
     ]
    },
    {
     "name": "stdout",
     "output_type": "stream",
     "text": [
      "Epoch 1: 100%|██████████| 20/20 [00:03<00:00,  6.24it/s, v_num=338k, val_loss=0.153, valid_per_image_iou=0.904, valid_dataset_iou=0.904, valid_f1_score=0.950, train_per_image_iou=0.755, train_dataset_iou=0.747, train_f1_score=0.855]"
     ]
    },
    {
     "name": "stderr",
     "output_type": "stream",
     "text": [
      "Epoch 1, global step 40: 'val_loss' reached 0.16680 (best 0.16680), saving model to 'C:\\\\Tumi\\\\Other Subjects\\\\CV\\\\ComputerVisionLab\\\\Lab3\\\\deepCheckpoints\\\\deeplabv3plus-resnext50_32x4d.ckpt' as top 1\n"
     ]
    },
    {
     "name": "stdout",
     "output_type": "stream",
     "text": [
      "Epoch 2: 100%|██████████| 20/20 [00:03<00:00,  6.53it/s, v_num=338k, val_loss=0.104, valid_per_image_iou=0.951, valid_dataset_iou=0.951, valid_f1_score=0.975, train_per_image_iou=0.854, train_dataset_iou=0.854, train_f1_score=0.921]"
     ]
    },
    {
     "name": "stderr",
     "output_type": "stream",
     "text": [
      "Epoch 2, global step 60: 'val_loss' reached 0.11874 (best 0.11874), saving model to 'C:\\\\Tumi\\\\Other Subjects\\\\CV\\\\ComputerVisionLab\\\\Lab3\\\\deepCheckpoints\\\\deeplabv3plus-resnext50_32x4d.ckpt' as top 1\n"
     ]
    },
    {
     "name": "stdout",
     "output_type": "stream",
     "text": [
      "Epoch 3: 100%|██████████| 20/20 [00:03<00:00,  6.53it/s, v_num=338k, val_loss=0.0701, valid_per_image_iou=0.975, valid_dataset_iou=0.975, valid_f1_score=0.988, train_per_image_iou=0.918, train_dataset_iou=0.918, train_f1_score=0.957]"
     ]
    },
    {
     "name": "stderr",
     "output_type": "stream",
     "text": [
      "Epoch 3, global step 80: 'val_loss' reached 0.08986 (best 0.08986), saving model to 'C:\\\\Tumi\\\\Other Subjects\\\\CV\\\\ComputerVisionLab\\\\Lab3\\\\deepCheckpoints\\\\deeplabv3plus-resnext50_32x4d.ckpt' as top 1\n"
     ]
    },
    {
     "name": "stdout",
     "output_type": "stream",
     "text": [
      "Epoch 4: 100%|██████████| 20/20 [00:03<00:00,  6.46it/s, v_num=338k, val_loss=0.0609, valid_per_image_iou=0.978, valid_dataset_iou=0.978, valid_f1_score=0.989, train_per_image_iou=0.952, train_dataset_iou=0.952, train_f1_score=0.975]"
     ]
    },
    {
     "name": "stderr",
     "output_type": "stream",
     "text": [
      "Epoch 4, global step 100: 'val_loss' reached 0.07046 (best 0.07046), saving model to 'C:\\\\Tumi\\\\Other Subjects\\\\CV\\\\ComputerVisionLab\\\\Lab3\\\\deepCheckpoints\\\\deeplabv3plus-resnext50_32x4d.ckpt' as top 1\n"
     ]
    },
    {
     "name": "stdout",
     "output_type": "stream",
     "text": [
      "Epoch 5: 100%|██████████| 20/20 [00:03<00:00,  6.43it/s, v_num=338k, val_loss=0.0531, valid_per_image_iou=0.982, valid_dataset_iou=0.982, valid_f1_score=0.991, train_per_image_iou=0.967, train_dataset_iou=0.967, train_f1_score=0.983]"
     ]
    },
    {
     "name": "stderr",
     "output_type": "stream",
     "text": [
      "Epoch 5, global step 120: 'val_loss' reached 0.05698 (best 0.05698), saving model to 'C:\\\\Tumi\\\\Other Subjects\\\\CV\\\\ComputerVisionLab\\\\Lab3\\\\deepCheckpoints\\\\deeplabv3plus-resnext50_32x4d.ckpt' as top 1\n"
     ]
    },
    {
     "name": "stdout",
     "output_type": "stream",
     "text": [
      "Epoch 6: 100%|██████████| 20/20 [00:03<00:00,  6.55it/s, v_num=338k, val_loss=0.0429, valid_per_image_iou=0.986, valid_dataset_iou=0.986, valid_f1_score=0.993, train_per_image_iou=0.975, train_dataset_iou=0.975, train_f1_score=0.988]"
     ]
    },
    {
     "name": "stderr",
     "output_type": "stream",
     "text": [
      "Epoch 6, global step 140: 'val_loss' reached 0.04689 (best 0.04689), saving model to 'C:\\\\Tumi\\\\Other Subjects\\\\CV\\\\ComputerVisionLab\\\\Lab3\\\\deepCheckpoints\\\\deeplabv3plus-resnext50_32x4d.ckpt' as top 1\n"
     ]
    },
    {
     "name": "stdout",
     "output_type": "stream",
     "text": [
      "Epoch 7: 100%|██████████| 20/20 [00:03<00:00,  6.44it/s, v_num=338k, val_loss=0.0348, valid_per_image_iou=0.988, valid_dataset_iou=0.988, valid_f1_score=0.994, train_per_image_iou=0.980, train_dataset_iou=0.980, train_f1_score=0.990]"
     ]
    },
    {
     "name": "stderr",
     "output_type": "stream",
     "text": [
      "Epoch 7, global step 160: 'val_loss' reached 0.03970 (best 0.03970), saving model to 'C:\\\\Tumi\\\\Other Subjects\\\\CV\\\\ComputerVisionLab\\\\Lab3\\\\deepCheckpoints\\\\deeplabv3plus-resnext50_32x4d.ckpt' as top 1\n"
     ]
    },
    {
     "name": "stdout",
     "output_type": "stream",
     "text": [
      "Epoch 8: 100%|██████████| 20/20 [00:03<00:00,  6.41it/s, v_num=338k, val_loss=0.0308, valid_per_image_iou=0.989, valid_dataset_iou=0.989, valid_f1_score=0.995, train_per_image_iou=0.983, train_dataset_iou=0.983, train_f1_score=0.992]"
     ]
    },
    {
     "name": "stderr",
     "output_type": "stream",
     "text": [
      "Epoch 8, global step 180: 'val_loss' reached 0.03367 (best 0.03367), saving model to 'C:\\\\Tumi\\\\Other Subjects\\\\CV\\\\ComputerVisionLab\\\\Lab3\\\\deepCheckpoints\\\\deeplabv3plus-resnext50_32x4d.ckpt' as top 1\n"
     ]
    },
    {
     "name": "stdout",
     "output_type": "stream",
     "text": [
      "Epoch 9: 100%|██████████| 20/20 [00:03<00:00,  6.43it/s, v_num=338k, val_loss=0.0262, valid_per_image_iou=0.990, valid_dataset_iou=0.990, valid_f1_score=0.995, train_per_image_iou=0.985, train_dataset_iou=0.985, train_f1_score=0.993]"
     ]
    },
    {
     "name": "stderr",
     "output_type": "stream",
     "text": [
      "Epoch 9, global step 200: 'val_loss' reached 0.02906 (best 0.02906), saving model to 'C:\\\\Tumi\\\\Other Subjects\\\\CV\\\\ComputerVisionLab\\\\Lab3\\\\deepCheckpoints\\\\deeplabv3plus-resnext50_32x4d.ckpt' as top 1\n"
     ]
    },
    {
     "name": "stdout",
     "output_type": "stream",
     "text": [
      "Epoch 10: 100%|██████████| 20/20 [00:03<00:00,  6.55it/s, v_num=338k, val_loss=0.0234, valid_per_image_iou=0.991, valid_dataset_iou=0.991, valid_f1_score=0.995, train_per_image_iou=0.987, train_dataset_iou=0.987, train_f1_score=0.994]"
     ]
    },
    {
     "name": "stderr",
     "output_type": "stream",
     "text": [
      "Epoch 10, global step 220: 'val_loss' reached 0.02551 (best 0.02551), saving model to 'C:\\\\Tumi\\\\Other Subjects\\\\CV\\\\ComputerVisionLab\\\\Lab3\\\\deepCheckpoints\\\\deeplabv3plus-resnext50_32x4d.ckpt' as top 1\n"
     ]
    },
    {
     "name": "stdout",
     "output_type": "stream",
     "text": [
      "Epoch 11: 100%|██████████| 20/20 [00:03<00:00,  6.48it/s, v_num=338k, val_loss=0.0209, valid_per_image_iou=0.991, valid_dataset_iou=0.991, valid_f1_score=0.996, train_per_image_iou=0.988, train_dataset_iou=0.988, train_f1_score=0.994]"
     ]
    },
    {
     "name": "stderr",
     "output_type": "stream",
     "text": [
      "Epoch 11, global step 240: 'val_loss' reached 0.02268 (best 0.02268), saving model to 'C:\\\\Tumi\\\\Other Subjects\\\\CV\\\\ComputerVisionLab\\\\Lab3\\\\deepCheckpoints\\\\deeplabv3plus-resnext50_32x4d.ckpt' as top 1\n"
     ]
    },
    {
     "name": "stdout",
     "output_type": "stream",
     "text": [
      "Epoch 12: 100%|██████████| 20/20 [00:03<00:00,  6.36it/s, v_num=338k, val_loss=0.0188, valid_per_image_iou=0.992, valid_dataset_iou=0.992, valid_f1_score=0.996, train_per_image_iou=0.989, train_dataset_iou=0.989, train_f1_score=0.994]"
     ]
    },
    {
     "name": "stderr",
     "output_type": "stream",
     "text": [
      "Epoch 12, global step 260: 'val_loss' reached 0.02031 (best 0.02031), saving model to 'C:\\\\Tumi\\\\Other Subjects\\\\CV\\\\ComputerVisionLab\\\\Lab3\\\\deepCheckpoints\\\\deeplabv3plus-resnext50_32x4d.ckpt' as top 1\n"
     ]
    },
    {
     "name": "stdout",
     "output_type": "stream",
     "text": [
      "Epoch 13: 100%|██████████| 20/20 [00:03<00:00,  6.55it/s, v_num=338k, val_loss=0.0167, valid_per_image_iou=0.992, valid_dataset_iou=0.992, valid_f1_score=0.996, train_per_image_iou=0.990, train_dataset_iou=0.990, train_f1_score=0.995]"
     ]
    },
    {
     "name": "stderr",
     "output_type": "stream",
     "text": [
      "Epoch 13, global step 280: 'val_loss' reached 0.01840 (best 0.01840), saving model to 'C:\\\\Tumi\\\\Other Subjects\\\\CV\\\\ComputerVisionLab\\\\Lab3\\\\deepCheckpoints\\\\deeplabv3plus-resnext50_32x4d.ckpt' as top 1\n"
     ]
    },
    {
     "name": "stdout",
     "output_type": "stream",
     "text": [
      "Epoch 14: 100%|██████████| 20/20 [00:03<00:00,  6.48it/s, v_num=338k, val_loss=0.0159, valid_per_image_iou=0.992, valid_dataset_iou=0.992, valid_f1_score=0.996, train_per_image_iou=0.990, train_dataset_iou=0.990, train_f1_score=0.995]"
     ]
    },
    {
     "name": "stderr",
     "output_type": "stream",
     "text": [
      "Epoch 14, global step 300: 'val_loss' reached 0.01689 (best 0.01689), saving model to 'C:\\\\Tumi\\\\Other Subjects\\\\CV\\\\ComputerVisionLab\\\\Lab3\\\\deepCheckpoints\\\\deeplabv3plus-resnext50_32x4d.ckpt' as top 1\n"
     ]
    },
    {
     "name": "stdout",
     "output_type": "stream",
     "text": [
      "Epoch 15: 100%|██████████| 20/20 [00:03<00:00,  6.41it/s, v_num=338k, val_loss=0.0146, valid_per_image_iou=0.992, valid_dataset_iou=0.992, valid_f1_score=0.996, train_per_image_iou=0.990, train_dataset_iou=0.990, train_f1_score=0.995]"
     ]
    },
    {
     "name": "stderr",
     "output_type": "stream",
     "text": [
      "Epoch 15, global step 320: 'val_loss' reached 0.01554 (best 0.01554), saving model to 'C:\\\\Tumi\\\\Other Subjects\\\\CV\\\\ComputerVisionLab\\\\Lab3\\\\deepCheckpoints\\\\deeplabv3plus-resnext50_32x4d.ckpt' as top 1\n"
     ]
    },
    {
     "name": "stdout",
     "output_type": "stream",
     "text": [
      "Epoch 16: 100%|██████████| 20/20 [00:03<00:00,  6.31it/s, v_num=338k, val_loss=0.0133, valid_per_image_iou=0.993, valid_dataset_iou=0.993, valid_f1_score=0.997, train_per_image_iou=0.991, train_dataset_iou=0.991, train_f1_score=0.995]"
     ]
    },
    {
     "name": "stderr",
     "output_type": "stream",
     "text": [
      "Epoch 16, global step 340: 'val_loss' reached 0.01457 (best 0.01457), saving model to 'C:\\\\Tumi\\\\Other Subjects\\\\CV\\\\ComputerVisionLab\\\\Lab3\\\\deepCheckpoints\\\\deeplabv3plus-resnext50_32x4d.ckpt' as top 1\n"
     ]
    },
    {
     "name": "stdout",
     "output_type": "stream",
     "text": [
      "Epoch 17: 100%|██████████| 20/20 [00:03<00:00,  6.51it/s, v_num=338k, val_loss=0.0128, valid_per_image_iou=0.993, valid_dataset_iou=0.993, valid_f1_score=0.996, train_per_image_iou=0.991, train_dataset_iou=0.991, train_f1_score=0.995]"
     ]
    },
    {
     "name": "stderr",
     "output_type": "stream",
     "text": [
      "Epoch 17, global step 360: 'val_loss' reached 0.01353 (best 0.01353), saving model to 'C:\\\\Tumi\\\\Other Subjects\\\\CV\\\\ComputerVisionLab\\\\Lab3\\\\deepCheckpoints\\\\deeplabv3plus-resnext50_32x4d.ckpt' as top 1\n"
     ]
    },
    {
     "name": "stdout",
     "output_type": "stream",
     "text": [
      "Epoch 18: 100%|██████████| 20/20 [00:03<00:00,  6.47it/s, v_num=338k, val_loss=0.0119, valid_per_image_iou=0.993, valid_dataset_iou=0.993, valid_f1_score=0.997, train_per_image_iou=0.991, train_dataset_iou=0.991, train_f1_score=0.995]"
     ]
    },
    {
     "name": "stderr",
     "output_type": "stream",
     "text": [
      "Epoch 18, global step 380: 'val_loss' reached 0.01263 (best 0.01263), saving model to 'C:\\\\Tumi\\\\Other Subjects\\\\CV\\\\ComputerVisionLab\\\\Lab3\\\\deepCheckpoints\\\\deeplabv3plus-resnext50_32x4d.ckpt' as top 1\n"
     ]
    },
    {
     "name": "stdout",
     "output_type": "stream",
     "text": [
      "Epoch 19: 100%|██████████| 20/20 [00:03<00:00,  6.52it/s, v_num=338k, val_loss=0.0113, valid_per_image_iou=0.992, valid_dataset_iou=0.992, valid_f1_score=0.996, train_per_image_iou=0.991, train_dataset_iou=0.991, train_f1_score=0.996]"
     ]
    },
    {
     "name": "stderr",
     "output_type": "stream",
     "text": [
      "Epoch 19, global step 400: 'val_loss' reached 0.01198 (best 0.01198), saving model to 'C:\\\\Tumi\\\\Other Subjects\\\\CV\\\\ComputerVisionLab\\\\Lab3\\\\deepCheckpoints\\\\deeplabv3plus-resnext50_32x4d.ckpt' as top 1\n"
     ]
    },
    {
     "name": "stdout",
     "output_type": "stream",
     "text": [
      "Epoch 20: 100%|██████████| 20/20 [00:03<00:00,  6.43it/s, v_num=338k, val_loss=0.0107, valid_per_image_iou=0.993, valid_dataset_iou=0.993, valid_f1_score=0.996, train_per_image_iou=0.991, train_dataset_iou=0.991, train_f1_score=0.996]"
     ]
    },
    {
     "name": "stderr",
     "output_type": "stream",
     "text": [
      "Epoch 20, global step 420: 'val_loss' reached 0.01135 (best 0.01135), saving model to 'C:\\\\Tumi\\\\Other Subjects\\\\CV\\\\ComputerVisionLab\\\\Lab3\\\\deepCheckpoints\\\\deeplabv3plus-resnext50_32x4d.ckpt' as top 1\n"
     ]
    },
    {
     "name": "stdout",
     "output_type": "stream",
     "text": [
      "Epoch 21: 100%|██████████| 20/20 [00:03<00:00,  6.46it/s, v_num=338k, val_loss=0.0104, valid_per_image_iou=0.993, valid_dataset_iou=0.993, valid_f1_score=0.997, train_per_image_iou=0.991, train_dataset_iou=0.991, train_f1_score=0.996]"
     ]
    },
    {
     "name": "stderr",
     "output_type": "stream",
     "text": [
      "Epoch 21, global step 440: 'val_loss' reached 0.01077 (best 0.01077), saving model to 'C:\\\\Tumi\\\\Other Subjects\\\\CV\\\\ComputerVisionLab\\\\Lab3\\\\deepCheckpoints\\\\deeplabv3plus-resnext50_32x4d.ckpt' as top 1\n"
     ]
    },
    {
     "name": "stdout",
     "output_type": "stream",
     "text": [
      "Epoch 22: 100%|██████████| 20/20 [00:03<00:00,  6.51it/s, v_num=338k, val_loss=0.00994, valid_per_image_iou=0.993, valid_dataset_iou=0.993, valid_f1_score=0.997, train_per_image_iou=0.992, train_dataset_iou=0.992, train_f1_score=0.996]"
     ]
    },
    {
     "name": "stderr",
     "output_type": "stream",
     "text": [
      "Epoch 22, global step 460: 'val_loss' reached 0.01026 (best 0.01026), saving model to 'C:\\\\Tumi\\\\Other Subjects\\\\CV\\\\ComputerVisionLab\\\\Lab3\\\\deepCheckpoints\\\\deeplabv3plus-resnext50_32x4d.ckpt' as top 1\n"
     ]
    },
    {
     "name": "stdout",
     "output_type": "stream",
     "text": [
      "Epoch 23: 100%|██████████| 20/20 [00:03<00:00,  6.40it/s, v_num=338k, val_loss=0.00924, valid_per_image_iou=0.994, valid_dataset_iou=0.994, valid_f1_score=0.997, train_per_image_iou=0.992, train_dataset_iou=0.992, train_f1_score=0.996]"
     ]
    },
    {
     "name": "stderr",
     "output_type": "stream",
     "text": [
      "Epoch 23, global step 480: 'val_loss' reached 0.00973 (best 0.00973), saving model to 'C:\\\\Tumi\\\\Other Subjects\\\\CV\\\\ComputerVisionLab\\\\Lab3\\\\deepCheckpoints\\\\deeplabv3plus-resnext50_32x4d.ckpt' as top 1\n"
     ]
    },
    {
     "name": "stdout",
     "output_type": "stream",
     "text": [
      "Epoch 24: 100%|██████████| 20/20 [00:03<00:00,  6.40it/s, v_num=338k, val_loss=0.00914, valid_per_image_iou=0.993, valid_dataset_iou=0.993, valid_f1_score=0.997, train_per_image_iou=0.992, train_dataset_iou=0.992, train_f1_score=0.996]"
     ]
    },
    {
     "name": "stderr",
     "output_type": "stream",
     "text": [
      "Epoch 24, global step 500: 'val_loss' reached 0.00929 (best 0.00929), saving model to 'C:\\\\Tumi\\\\Other Subjects\\\\CV\\\\ComputerVisionLab\\\\Lab3\\\\deepCheckpoints\\\\deeplabv3plus-resnext50_32x4d.ckpt' as top 1\n"
     ]
    },
    {
     "name": "stdout",
     "output_type": "stream",
     "text": [
      "Epoch 25: 100%|██████████| 20/20 [00:03<00:00,  6.38it/s, v_num=338k, val_loss=0.00864, valid_per_image_iou=0.994, valid_dataset_iou=0.994, valid_f1_score=0.997, train_per_image_iou=0.992, train_dataset_iou=0.992, train_f1_score=0.996]"
     ]
    },
    {
     "name": "stderr",
     "output_type": "stream",
     "text": [
      "Epoch 25, global step 520: 'val_loss' reached 0.00899 (best 0.00899), saving model to 'C:\\\\Tumi\\\\Other Subjects\\\\CV\\\\ComputerVisionLab\\\\Lab3\\\\deepCheckpoints\\\\deeplabv3plus-resnext50_32x4d.ckpt' as top 1\n"
     ]
    },
    {
     "name": "stdout",
     "output_type": "stream",
     "text": [
      "Epoch 26: 100%|██████████| 20/20 [00:03<00:00,  6.44it/s, v_num=338k, val_loss=0.00835, valid_per_image_iou=0.994, valid_dataset_iou=0.994, valid_f1_score=0.997, train_per_image_iou=0.992, train_dataset_iou=0.992, train_f1_score=0.996]"
     ]
    },
    {
     "name": "stderr",
     "output_type": "stream",
     "text": [
      "Epoch 26, global step 540: 'val_loss' reached 0.00862 (best 0.00862), saving model to 'C:\\\\Tumi\\\\Other Subjects\\\\CV\\\\ComputerVisionLab\\\\Lab3\\\\deepCheckpoints\\\\deeplabv3plus-resnext50_32x4d.ckpt' as top 1\n"
     ]
    },
    {
     "name": "stdout",
     "output_type": "stream",
     "text": [
      "Epoch 27: 100%|██████████| 20/20 [00:03<00:00,  6.45it/s, v_num=338k, val_loss=0.00817, valid_per_image_iou=0.993, valid_dataset_iou=0.993, valid_f1_score=0.997, train_per_image_iou=0.992, train_dataset_iou=0.992, train_f1_score=0.996]"
     ]
    },
    {
     "name": "stderr",
     "output_type": "stream",
     "text": [
      "Epoch 27, global step 560: 'val_loss' reached 0.00832 (best 0.00832), saving model to 'C:\\\\Tumi\\\\Other Subjects\\\\CV\\\\ComputerVisionLab\\\\Lab3\\\\deepCheckpoints\\\\deeplabv3plus-resnext50_32x4d.ckpt' as top 1\n"
     ]
    },
    {
     "name": "stdout",
     "output_type": "stream",
     "text": [
      "Epoch 28: 100%|██████████| 20/20 [00:03<00:00,  6.54it/s, v_num=338k, val_loss=0.00813, valid_per_image_iou=0.993, valid_dataset_iou=0.993, valid_f1_score=0.997, train_per_image_iou=0.992, train_dataset_iou=0.992, train_f1_score=0.996]"
     ]
    },
    {
     "name": "stderr",
     "output_type": "stream",
     "text": [
      "Epoch 28, global step 580: 'val_loss' reached 0.00805 (best 0.00805), saving model to 'C:\\\\Tumi\\\\Other Subjects\\\\CV\\\\ComputerVisionLab\\\\Lab3\\\\deepCheckpoints\\\\deeplabv3plus-resnext50_32x4d.ckpt' as top 1\n"
     ]
    },
    {
     "name": "stdout",
     "output_type": "stream",
     "text": [
      "Epoch 29: 100%|██████████| 20/20 [00:03<00:00,  6.24it/s, v_num=338k, val_loss=0.00742, valid_per_image_iou=0.994, valid_dataset_iou=0.994, valid_f1_score=0.997, train_per_image_iou=0.992, train_dataset_iou=0.992, train_f1_score=0.996]"
     ]
    },
    {
     "name": "stderr",
     "output_type": "stream",
     "text": [
      "Epoch 29, global step 600: 'val_loss' reached 0.00777 (best 0.00777), saving model to 'C:\\\\Tumi\\\\Other Subjects\\\\CV\\\\ComputerVisionLab\\\\Lab3\\\\deepCheckpoints\\\\deeplabv3plus-resnext50_32x4d.ckpt' as top 1\n"
     ]
    },
    {
     "name": "stdout",
     "output_type": "stream",
     "text": [
      "Epoch 30: 100%|██████████| 20/20 [00:03<00:00,  6.42it/s, v_num=338k, val_loss=0.00731, valid_per_image_iou=0.994, valid_dataset_iou=0.994, valid_f1_score=0.997, train_per_image_iou=0.992, train_dataset_iou=0.992, train_f1_score=0.996]"
     ]
    },
    {
     "name": "stderr",
     "output_type": "stream",
     "text": [
      "Epoch 30, global step 620: 'val_loss' reached 0.00753 (best 0.00753), saving model to 'C:\\\\Tumi\\\\Other Subjects\\\\CV\\\\ComputerVisionLab\\\\Lab3\\\\deepCheckpoints\\\\deeplabv3plus-resnext50_32x4d.ckpt' as top 1\n"
     ]
    },
    {
     "name": "stdout",
     "output_type": "stream",
     "text": [
      "Epoch 31: 100%|██████████| 20/20 [00:03<00:00,  6.50it/s, v_num=338k, val_loss=0.00723, valid_per_image_iou=0.994, valid_dataset_iou=0.994, valid_f1_score=0.997, train_per_image_iou=0.992, train_dataset_iou=0.992, train_f1_score=0.996]"
     ]
    },
    {
     "name": "stderr",
     "output_type": "stream",
     "text": [
      "Epoch 31, global step 640: 'val_loss' reached 0.00731 (best 0.00731), saving model to 'C:\\\\Tumi\\\\Other Subjects\\\\CV\\\\ComputerVisionLab\\\\Lab3\\\\deepCheckpoints\\\\deeplabv3plus-resnext50_32x4d.ckpt' as top 1\n"
     ]
    },
    {
     "name": "stdout",
     "output_type": "stream",
     "text": [
      "Epoch 32: 100%|██████████| 20/20 [00:03<00:00,  6.20it/s, v_num=338k, val_loss=0.00714, valid_per_image_iou=0.994, valid_dataset_iou=0.994, valid_f1_score=0.997, train_per_image_iou=0.992, train_dataset_iou=0.992, train_f1_score=0.996]"
     ]
    },
    {
     "name": "stderr",
     "output_type": "stream",
     "text": [
      "Epoch 32, global step 660: 'val_loss' reached 0.00708 (best 0.00708), saving model to 'C:\\\\Tumi\\\\Other Subjects\\\\CV\\\\ComputerVisionLab\\\\Lab3\\\\deepCheckpoints\\\\deeplabv3plus-resnext50_32x4d.ckpt' as top 1\n"
     ]
    },
    {
     "name": "stdout",
     "output_type": "stream",
     "text": [
      "Epoch 33: 100%|██████████| 20/20 [00:03<00:00,  6.44it/s, v_num=338k, val_loss=0.00678, valid_per_image_iou=0.994, valid_dataset_iou=0.994, valid_f1_score=0.997, train_per_image_iou=0.993, train_dataset_iou=0.993, train_f1_score=0.996]"
     ]
    },
    {
     "name": "stderr",
     "output_type": "stream",
     "text": [
      "Epoch 33, global step 680: 'val_loss' reached 0.00697 (best 0.00697), saving model to 'C:\\\\Tumi\\\\Other Subjects\\\\CV\\\\ComputerVisionLab\\\\Lab3\\\\deepCheckpoints\\\\deeplabv3plus-resnext50_32x4d.ckpt' as top 1\n"
     ]
    },
    {
     "name": "stdout",
     "output_type": "stream",
     "text": [
      "Epoch 34: 100%|██████████| 20/20 [00:03<00:00,  6.43it/s, v_num=338k, val_loss=0.00674, valid_per_image_iou=0.994, valid_dataset_iou=0.994, valid_f1_score=0.997, train_per_image_iou=0.993, train_dataset_iou=0.993, train_f1_score=0.996]"
     ]
    },
    {
     "name": "stderr",
     "output_type": "stream",
     "text": [
      "Epoch 34, global step 700: 'val_loss' reached 0.00678 (best 0.00678), saving model to 'C:\\\\Tumi\\\\Other Subjects\\\\CV\\\\ComputerVisionLab\\\\Lab3\\\\deepCheckpoints\\\\deeplabv3plus-resnext50_32x4d.ckpt' as top 1\n"
     ]
    },
    {
     "name": "stdout",
     "output_type": "stream",
     "text": [
      "Epoch 35: 100%|██████████| 20/20 [00:03<00:00,  6.50it/s, v_num=338k, val_loss=0.00631, valid_per_image_iou=0.994, valid_dataset_iou=0.994, valid_f1_score=0.997, train_per_image_iou=0.993, train_dataset_iou=0.993, train_f1_score=0.996]"
     ]
    },
    {
     "name": "stderr",
     "output_type": "stream",
     "text": [
      "Epoch 35, global step 720: 'val_loss' reached 0.00656 (best 0.00656), saving model to 'C:\\\\Tumi\\\\Other Subjects\\\\CV\\\\ComputerVisionLab\\\\Lab3\\\\deepCheckpoints\\\\deeplabv3plus-resnext50_32x4d.ckpt' as top 1\n"
     ]
    },
    {
     "name": "stdout",
     "output_type": "stream",
     "text": [
      "Epoch 36: 100%|██████████| 20/20 [00:03<00:00,  6.35it/s, v_num=338k, val_loss=0.0064, valid_per_image_iou=0.994, valid_dataset_iou=0.994, valid_f1_score=0.997, train_per_image_iou=0.993, train_dataset_iou=0.993, train_f1_score=0.996] "
     ]
    },
    {
     "name": "stderr",
     "output_type": "stream",
     "text": [
      "Epoch 36, global step 740: 'val_loss' reached 0.00644 (best 0.00644), saving model to 'C:\\\\Tumi\\\\Other Subjects\\\\CV\\\\ComputerVisionLab\\\\Lab3\\\\deepCheckpoints\\\\deeplabv3plus-resnext50_32x4d.ckpt' as top 1\n"
     ]
    },
    {
     "name": "stdout",
     "output_type": "stream",
     "text": [
      "Epoch 37: 100%|██████████| 20/20 [00:03<00:00,  6.45it/s, v_num=338k, val_loss=0.00619, valid_per_image_iou=0.994, valid_dataset_iou=0.994, valid_f1_score=0.997, train_per_image_iou=0.993, train_dataset_iou=0.993, train_f1_score=0.996]"
     ]
    },
    {
     "name": "stderr",
     "output_type": "stream",
     "text": [
      "Epoch 37, global step 760: 'val_loss' reached 0.00626 (best 0.00626), saving model to 'C:\\\\Tumi\\\\Other Subjects\\\\CV\\\\ComputerVisionLab\\\\Lab3\\\\deepCheckpoints\\\\deeplabv3plus-resnext50_32x4d.ckpt' as top 1\n"
     ]
    },
    {
     "name": "stdout",
     "output_type": "stream",
     "text": [
      "Epoch 38: 100%|██████████| 20/20 [00:03<00:00,  6.38it/s, v_num=338k, val_loss=0.00612, valid_per_image_iou=0.994, valid_dataset_iou=0.994, valid_f1_score=0.997, train_per_image_iou=0.993, train_dataset_iou=0.993, train_f1_score=0.996]"
     ]
    },
    {
     "name": "stderr",
     "output_type": "stream",
     "text": [
      "Epoch 38, global step 780: 'val_loss' reached 0.00612 (best 0.00612), saving model to 'C:\\\\Tumi\\\\Other Subjects\\\\CV\\\\ComputerVisionLab\\\\Lab3\\\\deepCheckpoints\\\\deeplabv3plus-resnext50_32x4d.ckpt' as top 1\n"
     ]
    },
    {
     "name": "stdout",
     "output_type": "stream",
     "text": [
      "Epoch 39: 100%|██████████| 20/20 [00:03<00:00,  6.44it/s, v_num=338k, val_loss=0.00572, valid_per_image_iou=0.995, valid_dataset_iou=0.995, valid_f1_score=0.997, train_per_image_iou=0.993, train_dataset_iou=0.993, train_f1_score=0.996]"
     ]
    },
    {
     "name": "stderr",
     "output_type": "stream",
     "text": [
      "Epoch 39, global step 800: 'val_loss' reached 0.00596 (best 0.00596), saving model to 'C:\\\\Tumi\\\\Other Subjects\\\\CV\\\\ComputerVisionLab\\\\Lab3\\\\deepCheckpoints\\\\deeplabv3plus-resnext50_32x4d.ckpt' as top 1\n"
     ]
    },
    {
     "name": "stdout",
     "output_type": "stream",
     "text": [
      "Epoch 40: 100%|██████████| 20/20 [00:03<00:00,  6.58it/s, v_num=338k, val_loss=0.00609, valid_per_image_iou=0.994, valid_dataset_iou=0.994, valid_f1_score=0.997, train_per_image_iou=0.993, train_dataset_iou=0.993, train_f1_score=0.996]"
     ]
    },
    {
     "name": "stderr",
     "output_type": "stream",
     "text": [
      "Epoch 40, global step 820: 'val_loss' reached 0.00593 (best 0.00593), saving model to 'C:\\\\Tumi\\\\Other Subjects\\\\CV\\\\ComputerVisionLab\\\\Lab3\\\\deepCheckpoints\\\\deeplabv3plus-resnext50_32x4d.ckpt' as top 1\n"
     ]
    },
    {
     "name": "stdout",
     "output_type": "stream",
     "text": [
      "Epoch 41: 100%|██████████| 20/20 [00:03<00:00,  6.50it/s, v_num=338k, val_loss=0.00585, valid_per_image_iou=0.994, valid_dataset_iou=0.994, valid_f1_score=0.997, train_per_image_iou=0.993, train_dataset_iou=0.993, train_f1_score=0.996]"
     ]
    },
    {
     "name": "stderr",
     "output_type": "stream",
     "text": [
      "Epoch 41, global step 840: 'val_loss' reached 0.00578 (best 0.00578), saving model to 'C:\\\\Tumi\\\\Other Subjects\\\\CV\\\\ComputerVisionLab\\\\Lab3\\\\deepCheckpoints\\\\deeplabv3plus-resnext50_32x4d.ckpt' as top 1\n"
     ]
    },
    {
     "name": "stdout",
     "output_type": "stream",
     "text": [
      "Epoch 42: 100%|██████████| 20/20 [00:03<00:00,  6.52it/s, v_num=338k, val_loss=0.00582, valid_per_image_iou=0.994, valid_dataset_iou=0.994, valid_f1_score=0.997, train_per_image_iou=0.993, train_dataset_iou=0.993, train_f1_score=0.996]"
     ]
    },
    {
     "name": "stderr",
     "output_type": "stream",
     "text": [
      "Epoch 42, global step 860: 'val_loss' reached 0.00568 (best 0.00568), saving model to 'C:\\\\Tumi\\\\Other Subjects\\\\CV\\\\ComputerVisionLab\\\\Lab3\\\\deepCheckpoints\\\\deeplabv3plus-resnext50_32x4d.ckpt' as top 1\n"
     ]
    },
    {
     "name": "stdout",
     "output_type": "stream",
     "text": [
      "Epoch 43: 100%|██████████| 20/20 [00:03<00:00,  6.60it/s, v_num=338k, val_loss=0.00573, valid_per_image_iou=0.994, valid_dataset_iou=0.994, valid_f1_score=0.997, train_per_image_iou=0.993, train_dataset_iou=0.993, train_f1_score=0.996]"
     ]
    },
    {
     "name": "stderr",
     "output_type": "stream",
     "text": [
      "Epoch 43, global step 880: 'val_loss' reached 0.00558 (best 0.00558), saving model to 'C:\\\\Tumi\\\\Other Subjects\\\\CV\\\\ComputerVisionLab\\\\Lab3\\\\deepCheckpoints\\\\deeplabv3plus-resnext50_32x4d.ckpt' as top 1\n"
     ]
    },
    {
     "name": "stdout",
     "output_type": "stream",
     "text": [
      "Epoch 44: 100%|██████████| 20/20 [00:03<00:00,  6.46it/s, v_num=338k, val_loss=0.00563, valid_per_image_iou=0.994, valid_dataset_iou=0.994, valid_f1_score=0.997, train_per_image_iou=0.993, train_dataset_iou=0.993, train_f1_score=0.996]"
     ]
    },
    {
     "name": "stderr",
     "output_type": "stream",
     "text": [
      "Epoch 44, global step 900: 'val_loss' reached 0.00549 (best 0.00549), saving model to 'C:\\\\Tumi\\\\Other Subjects\\\\CV\\\\ComputerVisionLab\\\\Lab3\\\\deepCheckpoints\\\\deeplabv3plus-resnext50_32x4d.ckpt' as top 1\n"
     ]
    },
    {
     "name": "stdout",
     "output_type": "stream",
     "text": [
      "Epoch 45: 100%|██████████| 20/20 [00:03<00:00,  6.56it/s, v_num=338k, val_loss=0.0055, valid_per_image_iou=0.994, valid_dataset_iou=0.994, valid_f1_score=0.997, train_per_image_iou=0.993, train_dataset_iou=0.993, train_f1_score=0.996] "
     ]
    },
    {
     "name": "stderr",
     "output_type": "stream",
     "text": [
      "Epoch 45, global step 920: 'val_loss' reached 0.00540 (best 0.00540), saving model to 'C:\\\\Tumi\\\\Other Subjects\\\\CV\\\\ComputerVisionLab\\\\Lab3\\\\deepCheckpoints\\\\deeplabv3plus-resnext50_32x4d.ckpt' as top 1\n"
     ]
    },
    {
     "name": "stdout",
     "output_type": "stream",
     "text": [
      "Epoch 46: 100%|██████████| 20/20 [00:03<00:00,  6.52it/s, v_num=338k, val_loss=0.00535, valid_per_image_iou=0.994, valid_dataset_iou=0.994, valid_f1_score=0.997, train_per_image_iou=0.993, train_dataset_iou=0.993, train_f1_score=0.996]"
     ]
    },
    {
     "name": "stderr",
     "output_type": "stream",
     "text": [
      "Epoch 46, global step 940: 'val_loss' reached 0.00536 (best 0.00536), saving model to 'C:\\\\Tumi\\\\Other Subjects\\\\CV\\\\ComputerVisionLab\\\\Lab3\\\\deepCheckpoints\\\\deeplabv3plus-resnext50_32x4d.ckpt' as top 1\n"
     ]
    },
    {
     "name": "stdout",
     "output_type": "stream",
     "text": [
      "Epoch 47: 100%|██████████| 20/20 [00:03<00:00,  6.51it/s, v_num=338k, val_loss=0.00546, valid_per_image_iou=0.994, valid_dataset_iou=0.994, valid_f1_score=0.997, train_per_image_iou=0.993, train_dataset_iou=0.993, train_f1_score=0.997]"
     ]
    },
    {
     "name": "stderr",
     "output_type": "stream",
     "text": [
      "Epoch 47, global step 960: 'val_loss' reached 0.00524 (best 0.00524), saving model to 'C:\\\\Tumi\\\\Other Subjects\\\\CV\\\\ComputerVisionLab\\\\Lab3\\\\deepCheckpoints\\\\deeplabv3plus-resnext50_32x4d.ckpt' as top 1\n"
     ]
    },
    {
     "name": "stdout",
     "output_type": "stream",
     "text": [
      "Epoch 48: 100%|██████████| 20/20 [00:03<00:00,  6.50it/s, v_num=338k, val_loss=0.00538, valid_per_image_iou=0.994, valid_dataset_iou=0.994, valid_f1_score=0.997, train_per_image_iou=0.993, train_dataset_iou=0.993, train_f1_score=0.997]"
     ]
    },
    {
     "name": "stderr",
     "output_type": "stream",
     "text": [
      "Epoch 48, global step 980: 'val_loss' reached 0.00518 (best 0.00518), saving model to 'C:\\\\Tumi\\\\Other Subjects\\\\CV\\\\ComputerVisionLab\\\\Lab3\\\\deepCheckpoints\\\\deeplabv3plus-resnext50_32x4d.ckpt' as top 1\n"
     ]
    },
    {
     "name": "stdout",
     "output_type": "stream",
     "text": [
      "Epoch 49: 100%|██████████| 20/20 [00:03<00:00,  6.51it/s, v_num=338k, val_loss=0.00535, valid_per_image_iou=0.994, valid_dataset_iou=0.994, valid_f1_score=0.997, train_per_image_iou=0.993, train_dataset_iou=0.993, train_f1_score=0.997]"
     ]
    },
    {
     "name": "stderr",
     "output_type": "stream",
     "text": [
      "Epoch 49, global step 1000: 'val_loss' reached 0.00512 (best 0.00512), saving model to 'C:\\\\Tumi\\\\Other Subjects\\\\CV\\\\ComputerVisionLab\\\\Lab3\\\\deepCheckpoints\\\\deeplabv3plus-resnext50_32x4d.ckpt' as top 1\n"
     ]
    },
    {
     "name": "stdout",
     "output_type": "stream",
     "text": [
      "Epoch 50: 100%|██████████| 20/20 [00:03<00:00,  6.44it/s, v_num=338k, val_loss=0.00513, valid_per_image_iou=0.994, valid_dataset_iou=0.994, valid_f1_score=0.997, train_per_image_iou=0.993, train_dataset_iou=0.993, train_f1_score=0.997]"
     ]
    },
    {
     "name": "stderr",
     "output_type": "stream",
     "text": [
      "Epoch 50, global step 1020: 'val_loss' reached 0.00504 (best 0.00504), saving model to 'C:\\\\Tumi\\\\Other Subjects\\\\CV\\\\ComputerVisionLab\\\\Lab3\\\\deepCheckpoints\\\\deeplabv3plus-resnext50_32x4d.ckpt' as top 1\n"
     ]
    },
    {
     "name": "stdout",
     "output_type": "stream",
     "text": [
      "Epoch 51: 100%|██████████| 20/20 [00:03<00:00,  6.47it/s, v_num=338k, val_loss=0.00514, valid_per_image_iou=0.994, valid_dataset_iou=0.994, valid_f1_score=0.997, train_per_image_iou=0.993, train_dataset_iou=0.993, train_f1_score=0.997]"
     ]
    },
    {
     "name": "stderr",
     "output_type": "stream",
     "text": [
      "Epoch 51, global step 1040: 'val_loss' reached 0.00498 (best 0.00498), saving model to 'C:\\\\Tumi\\\\Other Subjects\\\\CV\\\\ComputerVisionLab\\\\Lab3\\\\deepCheckpoints\\\\deeplabv3plus-resnext50_32x4d.ckpt' as top 1\n"
     ]
    },
    {
     "name": "stdout",
     "output_type": "stream",
     "text": [
      "Epoch 52: 100%|██████████| 20/20 [00:03<00:00,  6.57it/s, v_num=338k, val_loss=0.0051, valid_per_image_iou=0.994, valid_dataset_iou=0.994, valid_f1_score=0.997, train_per_image_iou=0.993, train_dataset_iou=0.993, train_f1_score=0.997] "
     ]
    },
    {
     "name": "stderr",
     "output_type": "stream",
     "text": [
      "Epoch 52, global step 1060: 'val_loss' reached 0.00491 (best 0.00491), saving model to 'C:\\\\Tumi\\\\Other Subjects\\\\CV\\\\ComputerVisionLab\\\\Lab3\\\\deepCheckpoints\\\\deeplabv3plus-resnext50_32x4d.ckpt' as top 1\n"
     ]
    },
    {
     "name": "stdout",
     "output_type": "stream",
     "text": [
      "Epoch 53: 100%|██████████| 20/20 [00:03<00:00,  6.43it/s, v_num=338k, val_loss=0.00511, valid_per_image_iou=0.994, valid_dataset_iou=0.994, valid_f1_score=0.997, train_per_image_iou=0.993, train_dataset_iou=0.993, train_f1_score=0.997]"
     ]
    },
    {
     "name": "stderr",
     "output_type": "stream",
     "text": [
      "Epoch 53, global step 1080: 'val_loss' reached 0.00487 (best 0.00487), saving model to 'C:\\\\Tumi\\\\Other Subjects\\\\CV\\\\ComputerVisionLab\\\\Lab3\\\\deepCheckpoints\\\\deeplabv3plus-resnext50_32x4d.ckpt' as top 1\n"
     ]
    },
    {
     "name": "stdout",
     "output_type": "stream",
     "text": [
      "Epoch 54: 100%|██████████| 20/20 [00:03<00:00,  6.42it/s, v_num=338k, val_loss=0.00512, valid_per_image_iou=0.994, valid_dataset_iou=0.994, valid_f1_score=0.997, train_per_image_iou=0.993, train_dataset_iou=0.993, train_f1_score=0.997]"
     ]
    },
    {
     "name": "stderr",
     "output_type": "stream",
     "text": [
      "Epoch 54, global step 1100: 'val_loss' reached 0.00481 (best 0.00481), saving model to 'C:\\\\Tumi\\\\Other Subjects\\\\CV\\\\ComputerVisionLab\\\\Lab3\\\\deepCheckpoints\\\\deeplabv3plus-resnext50_32x4d.ckpt' as top 1\n"
     ]
    },
    {
     "name": "stdout",
     "output_type": "stream",
     "text": [
      "Epoch 55: 100%|██████████| 20/20 [00:03<00:00,  6.41it/s, v_num=338k, val_loss=0.00481, valid_per_image_iou=0.994, valid_dataset_iou=0.994, valid_f1_score=0.997, train_per_image_iou=0.993, train_dataset_iou=0.993, train_f1_score=0.997]"
     ]
    },
    {
     "name": "stderr",
     "output_type": "stream",
     "text": [
      "Epoch 55, global step 1120: 'val_loss' reached 0.00475 (best 0.00475), saving model to 'C:\\\\Tumi\\\\Other Subjects\\\\CV\\\\ComputerVisionLab\\\\Lab3\\\\deepCheckpoints\\\\deeplabv3plus-resnext50_32x4d.ckpt' as top 1\n"
     ]
    },
    {
     "name": "stdout",
     "output_type": "stream",
     "text": [
      "Epoch 56: 100%|██████████| 20/20 [00:03<00:00,  6.52it/s, v_num=338k, val_loss=0.00504, valid_per_image_iou=0.994, valid_dataset_iou=0.994, valid_f1_score=0.997, train_per_image_iou=0.993, train_dataset_iou=0.993, train_f1_score=0.997]"
     ]
    },
    {
     "name": "stderr",
     "output_type": "stream",
     "text": [
      "Epoch 56, global step 1140: 'val_loss' reached 0.00471 (best 0.00471), saving model to 'C:\\\\Tumi\\\\Other Subjects\\\\CV\\\\ComputerVisionLab\\\\Lab3\\\\deepCheckpoints\\\\deeplabv3plus-resnext50_32x4d.ckpt' as top 1\n"
     ]
    },
    {
     "name": "stdout",
     "output_type": "stream",
     "text": [
      "Epoch 57: 100%|██████████| 20/20 [00:03<00:00,  6.46it/s, v_num=338k, val_loss=0.00491, valid_per_image_iou=0.994, valid_dataset_iou=0.994, valid_f1_score=0.997, train_per_image_iou=0.993, train_dataset_iou=0.993, train_f1_score=0.997]"
     ]
    },
    {
     "name": "stderr",
     "output_type": "stream",
     "text": [
      "Epoch 57, global step 1160: 'val_loss' reached 0.00467 (best 0.00467), saving model to 'C:\\\\Tumi\\\\Other Subjects\\\\CV\\\\ComputerVisionLab\\\\Lab3\\\\deepCheckpoints\\\\deeplabv3plus-resnext50_32x4d.ckpt' as top 1\n"
     ]
    },
    {
     "name": "stdout",
     "output_type": "stream",
     "text": [
      "Epoch 58: 100%|██████████| 20/20 [00:03<00:00,  6.48it/s, v_num=338k, val_loss=0.00502, valid_per_image_iou=0.994, valid_dataset_iou=0.994, valid_f1_score=0.997, train_per_image_iou=0.993, train_dataset_iou=0.993, train_f1_score=0.997]"
     ]
    },
    {
     "name": "stderr",
     "output_type": "stream",
     "text": [
      "Epoch 58, global step 1180: 'val_loss' reached 0.00464 (best 0.00464), saving model to 'C:\\\\Tumi\\\\Other Subjects\\\\CV\\\\ComputerVisionLab\\\\Lab3\\\\deepCheckpoints\\\\deeplabv3plus-resnext50_32x4d.ckpt' as top 1\n"
     ]
    },
    {
     "name": "stdout",
     "output_type": "stream",
     "text": [
      "Epoch 59: 100%|██████████| 20/20 [00:03<00:00,  6.48it/s, v_num=338k, val_loss=0.0047, valid_per_image_iou=0.994, valid_dataset_iou=0.994, valid_f1_score=0.997, train_per_image_iou=0.993, train_dataset_iou=0.993, train_f1_score=0.997] "
     ]
    },
    {
     "name": "stderr",
     "output_type": "stream",
     "text": [
      "Epoch 59, global step 1200: 'val_loss' reached 0.00457 (best 0.00457), saving model to 'C:\\\\Tumi\\\\Other Subjects\\\\CV\\\\ComputerVisionLab\\\\Lab3\\\\deepCheckpoints\\\\deeplabv3plus-resnext50_32x4d.ckpt' as top 1\n"
     ]
    },
    {
     "name": "stdout",
     "output_type": "stream",
     "text": [
      "Epoch 60: 100%|██████████| 20/20 [00:03<00:00,  6.35it/s, v_num=338k, val_loss=0.00478, valid_per_image_iou=0.994, valid_dataset_iou=0.994, valid_f1_score=0.997, train_per_image_iou=0.993, train_dataset_iou=0.993, train_f1_score=0.997]"
     ]
    },
    {
     "name": "stderr",
     "output_type": "stream",
     "text": [
      "Epoch 60, global step 1220: 'val_loss' reached 0.00454 (best 0.00454), saving model to 'C:\\\\Tumi\\\\Other Subjects\\\\CV\\\\ComputerVisionLab\\\\Lab3\\\\deepCheckpoints\\\\deeplabv3plus-resnext50_32x4d.ckpt' as top 1\n"
     ]
    },
    {
     "name": "stdout",
     "output_type": "stream",
     "text": [
      "Epoch 61: 100%|██████████| 20/20 [00:03<00:00,  6.46it/s, v_num=338k, val_loss=0.00472, valid_per_image_iou=0.994, valid_dataset_iou=0.994, valid_f1_score=0.997, train_per_image_iou=0.993, train_dataset_iou=0.993, train_f1_score=0.997]"
     ]
    },
    {
     "name": "stderr",
     "output_type": "stream",
     "text": [
      "Epoch 61, global step 1240: 'val_loss' reached 0.00451 (best 0.00451), saving model to 'C:\\\\Tumi\\\\Other Subjects\\\\CV\\\\ComputerVisionLab\\\\Lab3\\\\deepCheckpoints\\\\deeplabv3plus-resnext50_32x4d.ckpt' as top 1\n"
     ]
    },
    {
     "name": "stdout",
     "output_type": "stream",
     "text": [
      "Epoch 62: 100%|██████████| 20/20 [00:03<00:00,  6.50it/s, v_num=338k, val_loss=0.00465, valid_per_image_iou=0.994, valid_dataset_iou=0.994, valid_f1_score=0.997, train_per_image_iou=0.993, train_dataset_iou=0.993, train_f1_score=0.997]"
     ]
    },
    {
     "name": "stderr",
     "output_type": "stream",
     "text": [
      "Epoch 62, global step 1260: 'val_loss' reached 0.00447 (best 0.00447), saving model to 'C:\\\\Tumi\\\\Other Subjects\\\\CV\\\\ComputerVisionLab\\\\Lab3\\\\deepCheckpoints\\\\deeplabv3plus-resnext50_32x4d.ckpt' as top 1\n"
     ]
    },
    {
     "name": "stdout",
     "output_type": "stream",
     "text": [
      "Epoch 63: 100%|██████████| 20/20 [00:03<00:00,  6.49it/s, v_num=338k, val_loss=0.00478, valid_per_image_iou=0.994, valid_dataset_iou=0.994, valid_f1_score=0.997, train_per_image_iou=0.993, train_dataset_iou=0.993, train_f1_score=0.997]"
     ]
    },
    {
     "name": "stderr",
     "output_type": "stream",
     "text": [
      "Epoch 63, global step 1280: 'val_loss' reached 0.00443 (best 0.00443), saving model to 'C:\\\\Tumi\\\\Other Subjects\\\\CV\\\\ComputerVisionLab\\\\Lab3\\\\deepCheckpoints\\\\deeplabv3plus-resnext50_32x4d.ckpt' as top 1\n"
     ]
    },
    {
     "name": "stdout",
     "output_type": "stream",
     "text": [
      "Epoch 64: 100%|██████████| 20/20 [00:03<00:00,  6.45it/s, v_num=338k, val_loss=0.00472, valid_per_image_iou=0.994, valid_dataset_iou=0.994, valid_f1_score=0.997, train_per_image_iou=0.993, train_dataset_iou=0.993, train_f1_score=0.997]"
     ]
    },
    {
     "name": "stderr",
     "output_type": "stream",
     "text": [
      "Epoch 64, global step 1300: 'val_loss' reached 0.00442 (best 0.00442), saving model to 'C:\\\\Tumi\\\\Other Subjects\\\\CV\\\\ComputerVisionLab\\\\Lab3\\\\deepCheckpoints\\\\deeplabv3plus-resnext50_32x4d.ckpt' as top 1\n"
     ]
    },
    {
     "name": "stdout",
     "output_type": "stream",
     "text": [
      "Epoch 65: 100%|██████████| 20/20 [00:03<00:00,  6.45it/s, v_num=338k, val_loss=0.00475, valid_per_image_iou=0.994, valid_dataset_iou=0.994, valid_f1_score=0.997, train_per_image_iou=0.993, train_dataset_iou=0.993, train_f1_score=0.997]"
     ]
    },
    {
     "name": "stderr",
     "output_type": "stream",
     "text": [
      "Epoch 65, global step 1320: 'val_loss' reached 0.00439 (best 0.00439), saving model to 'C:\\\\Tumi\\\\Other Subjects\\\\CV\\\\ComputerVisionLab\\\\Lab3\\\\deepCheckpoints\\\\deeplabv3plus-resnext50_32x4d.ckpt' as top 1\n"
     ]
    },
    {
     "name": "stdout",
     "output_type": "stream",
     "text": [
      "Epoch 66: 100%|██████████| 20/20 [00:03<00:00,  6.50it/s, v_num=338k, val_loss=0.00466, valid_per_image_iou=0.994, valid_dataset_iou=0.994, valid_f1_score=0.997, train_per_image_iou=0.993, train_dataset_iou=0.993, train_f1_score=0.997]"
     ]
    },
    {
     "name": "stderr",
     "output_type": "stream",
     "text": [
      "Epoch 66, global step 1340: 'val_loss' reached 0.00436 (best 0.00436), saving model to 'C:\\\\Tumi\\\\Other Subjects\\\\CV\\\\ComputerVisionLab\\\\Lab3\\\\deepCheckpoints\\\\deeplabv3plus-resnext50_32x4d.ckpt' as top 1\n"
     ]
    },
    {
     "name": "stdout",
     "output_type": "stream",
     "text": [
      "Epoch 67: 100%|██████████| 20/20 [00:03<00:00,  6.43it/s, v_num=338k, val_loss=0.0046, valid_per_image_iou=0.994, valid_dataset_iou=0.994, valid_f1_score=0.997, train_per_image_iou=0.993, train_dataset_iou=0.993, train_f1_score=0.997] "
     ]
    },
    {
     "name": "stderr",
     "output_type": "stream",
     "text": [
      "Epoch 67, global step 1360: 'val_loss' reached 0.00432 (best 0.00432), saving model to 'C:\\\\Tumi\\\\Other Subjects\\\\CV\\\\ComputerVisionLab\\\\Lab3\\\\deepCheckpoints\\\\deeplabv3plus-resnext50_32x4d.ckpt' as top 1\n"
     ]
    },
    {
     "name": "stdout",
     "output_type": "stream",
     "text": [
      "Epoch 68: 100%|██████████| 20/20 [00:03<00:00,  6.40it/s, v_num=338k, val_loss=0.00472, valid_per_image_iou=0.994, valid_dataset_iou=0.994, valid_f1_score=0.997, train_per_image_iou=0.993, train_dataset_iou=0.993, train_f1_score=0.997]"
     ]
    },
    {
     "name": "stderr",
     "output_type": "stream",
     "text": [
      "Epoch 68, global step 1380: 'val_loss' reached 0.00431 (best 0.00431), saving model to 'C:\\\\Tumi\\\\Other Subjects\\\\CV\\\\ComputerVisionLab\\\\Lab3\\\\deepCheckpoints\\\\deeplabv3plus-resnext50_32x4d.ckpt' as top 1\n"
     ]
    },
    {
     "name": "stdout",
     "output_type": "stream",
     "text": [
      "Epoch 69: 100%|██████████| 20/20 [00:03<00:00,  6.44it/s, v_num=338k, val_loss=0.00468, valid_per_image_iou=0.994, valid_dataset_iou=0.994, valid_f1_score=0.997, train_per_image_iou=0.993, train_dataset_iou=0.993, train_f1_score=0.997]"
     ]
    },
    {
     "name": "stderr",
     "output_type": "stream",
     "text": [
      "Epoch 69, global step 1400: 'val_loss' reached 0.00428 (best 0.00428), saving model to 'C:\\\\Tumi\\\\Other Subjects\\\\CV\\\\ComputerVisionLab\\\\Lab3\\\\deepCheckpoints\\\\deeplabv3plus-resnext50_32x4d.ckpt' as top 1\n"
     ]
    },
    {
     "name": "stdout",
     "output_type": "stream",
     "text": [
      "Epoch 70: 100%|██████████| 20/20 [00:03<00:00,  6.53it/s, v_num=338k, val_loss=0.0045, valid_per_image_iou=0.994, valid_dataset_iou=0.994, valid_f1_score=0.997, train_per_image_iou=0.993, train_dataset_iou=0.993, train_f1_score=0.997] "
     ]
    },
    {
     "name": "stderr",
     "output_type": "stream",
     "text": [
      "Epoch 70, global step 1420: 'val_loss' reached 0.00426 (best 0.00426), saving model to 'C:\\\\Tumi\\\\Other Subjects\\\\CV\\\\ComputerVisionLab\\\\Lab3\\\\deepCheckpoints\\\\deeplabv3plus-resnext50_32x4d.ckpt' as top 1\n"
     ]
    },
    {
     "name": "stdout",
     "output_type": "stream",
     "text": [
      "Epoch 71: 100%|██████████| 20/20 [00:03<00:00,  6.48it/s, v_num=338k, val_loss=0.00456, valid_per_image_iou=0.994, valid_dataset_iou=0.994, valid_f1_score=0.997, train_per_image_iou=0.993, train_dataset_iou=0.993, train_f1_score=0.997]"
     ]
    },
    {
     "name": "stderr",
     "output_type": "stream",
     "text": [
      "Epoch 71, global step 1440: 'val_loss' was not in top 1\n"
     ]
    },
    {
     "name": "stdout",
     "output_type": "stream",
     "text": [
      "Epoch 72: 100%|██████████| 20/20 [00:02<00:00,  6.81it/s, v_num=338k, val_loss=0.00459, valid_per_image_iou=0.994, valid_dataset_iou=0.994, valid_f1_score=0.997, train_per_image_iou=0.993, train_dataset_iou=0.993, train_f1_score=0.997]"
     ]
    },
    {
     "name": "stderr",
     "output_type": "stream",
     "text": [
      "Epoch 72, global step 1460: 'val_loss' reached 0.00422 (best 0.00422), saving model to 'C:\\\\Tumi\\\\Other Subjects\\\\CV\\\\ComputerVisionLab\\\\Lab3\\\\deepCheckpoints\\\\deeplabv3plus-resnext50_32x4d.ckpt' as top 1\n"
     ]
    },
    {
     "name": "stdout",
     "output_type": "stream",
     "text": [
      "Epoch 73: 100%|██████████| 20/20 [00:03<00:00,  6.61it/s, v_num=338k, val_loss=0.00444, valid_per_image_iou=0.994, valid_dataset_iou=0.994, valid_f1_score=0.997, train_per_image_iou=0.993, train_dataset_iou=0.993, train_f1_score=0.997]"
     ]
    },
    {
     "name": "stderr",
     "output_type": "stream",
     "text": [
      "Epoch 73, global step 1480: 'val_loss' reached 0.00418 (best 0.00418), saving model to 'C:\\\\Tumi\\\\Other Subjects\\\\CV\\\\ComputerVisionLab\\\\Lab3\\\\deepCheckpoints\\\\deeplabv3plus-resnext50_32x4d.ckpt' as top 1\n"
     ]
    },
    {
     "name": "stdout",
     "output_type": "stream",
     "text": [
      "Epoch 74: 100%|██████████| 20/20 [00:03<00:00,  6.53it/s, v_num=338k, val_loss=0.00454, valid_per_image_iou=0.994, valid_dataset_iou=0.994, valid_f1_score=0.997, train_per_image_iou=0.993, train_dataset_iou=0.993, train_f1_score=0.997]"
     ]
    },
    {
     "name": "stderr",
     "output_type": "stream",
     "text": [
      "Epoch 74, global step 1500: 'val_loss' reached 0.00416 (best 0.00416), saving model to 'C:\\\\Tumi\\\\Other Subjects\\\\CV\\\\ComputerVisionLab\\\\Lab3\\\\deepCheckpoints\\\\deeplabv3plus-resnext50_32x4d.ckpt' as top 1\n"
     ]
    },
    {
     "name": "stdout",
     "output_type": "stream",
     "text": [
      "Epoch 75: 100%|██████████| 20/20 [00:03<00:00,  6.59it/s, v_num=338k, val_loss=0.00456, valid_per_image_iou=0.994, valid_dataset_iou=0.994, valid_f1_score=0.997, train_per_image_iou=0.993, train_dataset_iou=0.993, train_f1_score=0.997]"
     ]
    },
    {
     "name": "stderr",
     "output_type": "stream",
     "text": [
      "Epoch 75, global step 1520: 'val_loss' reached 0.00415 (best 0.00415), saving model to 'C:\\\\Tumi\\\\Other Subjects\\\\CV\\\\ComputerVisionLab\\\\Lab3\\\\deepCheckpoints\\\\deeplabv3plus-resnext50_32x4d.ckpt' as top 1\n"
     ]
    },
    {
     "name": "stdout",
     "output_type": "stream",
     "text": [
      "Epoch 76: 100%|██████████| 20/20 [00:03<00:00,  6.53it/s, v_num=338k, val_loss=0.00448, valid_per_image_iou=0.994, valid_dataset_iou=0.994, valid_f1_score=0.997, train_per_image_iou=0.993, train_dataset_iou=0.993, train_f1_score=0.997]"
     ]
    },
    {
     "name": "stderr",
     "output_type": "stream",
     "text": [
      "Epoch 76, global step 1540: 'val_loss' reached 0.00412 (best 0.00412), saving model to 'C:\\\\Tumi\\\\Other Subjects\\\\CV\\\\ComputerVisionLab\\\\Lab3\\\\deepCheckpoints\\\\deeplabv3plus-resnext50_32x4d.ckpt' as top 1\n"
     ]
    },
    {
     "name": "stdout",
     "output_type": "stream",
     "text": [
      "Epoch 77: 100%|██████████| 20/20 [00:03<00:00,  6.55it/s, v_num=338k, val_loss=0.00447, valid_per_image_iou=0.994, valid_dataset_iou=0.994, valid_f1_score=0.997, train_per_image_iou=0.993, train_dataset_iou=0.993, train_f1_score=0.997]"
     ]
    },
    {
     "name": "stderr",
     "output_type": "stream",
     "text": [
      "Epoch 77, global step 1560: 'val_loss' was not in top 1\n"
     ]
    },
    {
     "name": "stdout",
     "output_type": "stream",
     "text": [
      "Epoch 78: 100%|██████████| 20/20 [00:02<00:00,  6.83it/s, v_num=338k, val_loss=0.00457, valid_per_image_iou=0.994, valid_dataset_iou=0.994, valid_f1_score=0.997, train_per_image_iou=0.993, train_dataset_iou=0.993, train_f1_score=0.997]"
     ]
    },
    {
     "name": "stderr",
     "output_type": "stream",
     "text": [
      "Epoch 78, global step 1580: 'val_loss' reached 0.00411 (best 0.00411), saving model to 'C:\\\\Tumi\\\\Other Subjects\\\\CV\\\\ComputerVisionLab\\\\Lab3\\\\deepCheckpoints\\\\deeplabv3plus-resnext50_32x4d.ckpt' as top 1\n"
     ]
    },
    {
     "name": "stdout",
     "output_type": "stream",
     "text": [
      "Epoch 79: 100%|██████████| 20/20 [00:03<00:00,  6.52it/s, v_num=338k, val_loss=0.00449, valid_per_image_iou=0.994, valid_dataset_iou=0.994, valid_f1_score=0.997, train_per_image_iou=0.993, train_dataset_iou=0.993, train_f1_score=0.997]"
     ]
    },
    {
     "name": "stderr",
     "output_type": "stream",
     "text": [
      "Epoch 79, global step 1600: 'val_loss' reached 0.00409 (best 0.00409), saving model to 'C:\\\\Tumi\\\\Other Subjects\\\\CV\\\\ComputerVisionLab\\\\Lab3\\\\deepCheckpoints\\\\deeplabv3plus-resnext50_32x4d.ckpt' as top 1\n"
     ]
    },
    {
     "name": "stdout",
     "output_type": "stream",
     "text": [
      "Epoch 80: 100%|██████████| 20/20 [00:03<00:00,  6.52it/s, v_num=338k, val_loss=0.00445, valid_per_image_iou=0.994, valid_dataset_iou=0.994, valid_f1_score=0.997, train_per_image_iou=0.994, train_dataset_iou=0.994, train_f1_score=0.997]"
     ]
    },
    {
     "name": "stderr",
     "output_type": "stream",
     "text": [
      "Epoch 80, global step 1620: 'val_loss' reached 0.00408 (best 0.00408), saving model to 'C:\\\\Tumi\\\\Other Subjects\\\\CV\\\\ComputerVisionLab\\\\Lab3\\\\deepCheckpoints\\\\deeplabv3plus-resnext50_32x4d.ckpt' as top 1\n"
     ]
    },
    {
     "name": "stdout",
     "output_type": "stream",
     "text": [
      "Epoch 81: 100%|██████████| 20/20 [00:03<00:00,  6.52it/s, v_num=338k, val_loss=0.00442, valid_per_image_iou=0.994, valid_dataset_iou=0.994, valid_f1_score=0.997, train_per_image_iou=0.993, train_dataset_iou=0.993, train_f1_score=0.997]"
     ]
    },
    {
     "name": "stderr",
     "output_type": "stream",
     "text": [
      "Epoch 81, global step 1640: 'val_loss' reached 0.00406 (best 0.00406), saving model to 'C:\\\\Tumi\\\\Other Subjects\\\\CV\\\\ComputerVisionLab\\\\Lab3\\\\deepCheckpoints\\\\deeplabv3plus-resnext50_32x4d.ckpt' as top 1\n"
     ]
    },
    {
     "name": "stdout",
     "output_type": "stream",
     "text": [
      "Epoch 82: 100%|██████████| 20/20 [00:03<00:00,  6.53it/s, v_num=338k, val_loss=0.0044, valid_per_image_iou=0.994, valid_dataset_iou=0.994, valid_f1_score=0.997, train_per_image_iou=0.993, train_dataset_iou=0.993, train_f1_score=0.997] "
     ]
    },
    {
     "name": "stderr",
     "output_type": "stream",
     "text": [
      "Epoch 82, global step 1660: 'val_loss' reached 0.00406 (best 0.00406), saving model to 'C:\\\\Tumi\\\\Other Subjects\\\\CV\\\\ComputerVisionLab\\\\Lab3\\\\deepCheckpoints\\\\deeplabv3plus-resnext50_32x4d.ckpt' as top 1\n"
     ]
    },
    {
     "name": "stdout",
     "output_type": "stream",
     "text": [
      "Epoch 83: 100%|██████████| 20/20 [00:03<00:00,  6.52it/s, v_num=338k, val_loss=0.00443, valid_per_image_iou=0.994, valid_dataset_iou=0.994, valid_f1_score=0.997, train_per_image_iou=0.993, train_dataset_iou=0.993, train_f1_score=0.997]"
     ]
    },
    {
     "name": "stderr",
     "output_type": "stream",
     "text": [
      "Epoch 83, global step 1680: 'val_loss' reached 0.00403 (best 0.00403), saving model to 'C:\\\\Tumi\\\\Other Subjects\\\\CV\\\\ComputerVisionLab\\\\Lab3\\\\deepCheckpoints\\\\deeplabv3plus-resnext50_32x4d.ckpt' as top 1\n"
     ]
    },
    {
     "name": "stdout",
     "output_type": "stream",
     "text": [
      "Epoch 84: 100%|██████████| 20/20 [00:03<00:00,  6.59it/s, v_num=338k, val_loss=0.00445, valid_per_image_iou=0.994, valid_dataset_iou=0.994, valid_f1_score=0.997, train_per_image_iou=0.994, train_dataset_iou=0.994, train_f1_score=0.997]"
     ]
    },
    {
     "name": "stderr",
     "output_type": "stream",
     "text": [
      "Epoch 84, global step 1700: 'val_loss' was not in top 1\n"
     ]
    },
    {
     "name": "stdout",
     "output_type": "stream",
     "text": [
      "Epoch 85: 100%|██████████| 20/20 [00:02<00:00,  6.82it/s, v_num=338k, val_loss=0.00444, valid_per_image_iou=0.994, valid_dataset_iou=0.994, valid_f1_score=0.997, train_per_image_iou=0.993, train_dataset_iou=0.993, train_f1_score=0.997]"
     ]
    },
    {
     "name": "stderr",
     "output_type": "stream",
     "text": [
      "Epoch 85, global step 1720: 'val_loss' reached 0.00401 (best 0.00401), saving model to 'C:\\\\Tumi\\\\Other Subjects\\\\CV\\\\ComputerVisionLab\\\\Lab3\\\\deepCheckpoints\\\\deeplabv3plus-resnext50_32x4d.ckpt' as top 1\n"
     ]
    },
    {
     "name": "stdout",
     "output_type": "stream",
     "text": [
      "Epoch 86: 100%|██████████| 20/20 [00:03<00:00,  6.47it/s, v_num=338k, val_loss=0.00438, valid_per_image_iou=0.994, valid_dataset_iou=0.994, valid_f1_score=0.997, train_per_image_iou=0.994, train_dataset_iou=0.994, train_f1_score=0.997]"
     ]
    },
    {
     "name": "stderr",
     "output_type": "stream",
     "text": [
      "Epoch 86, global step 1740: 'val_loss' was not in top 1\n"
     ]
    },
    {
     "name": "stdout",
     "output_type": "stream",
     "text": [
      "Epoch 87: 100%|██████████| 20/20 [00:02<00:00,  6.76it/s, v_num=338k, val_loss=0.00444, valid_per_image_iou=0.994, valid_dataset_iou=0.994, valid_f1_score=0.997, train_per_image_iou=0.994, train_dataset_iou=0.994, train_f1_score=0.997]"
     ]
    },
    {
     "name": "stderr",
     "output_type": "stream",
     "text": [
      "Epoch 87, global step 1760: 'val_loss' reached 0.00400 (best 0.00400), saving model to 'C:\\\\Tumi\\\\Other Subjects\\\\CV\\\\ComputerVisionLab\\\\Lab3\\\\deepCheckpoints\\\\deeplabv3plus-resnext50_32x4d.ckpt' as top 1\n"
     ]
    },
    {
     "name": "stdout",
     "output_type": "stream",
     "text": [
      "Epoch 88: 100%|██████████| 20/20 [00:03<00:00,  6.51it/s, v_num=338k, val_loss=0.00435, valid_per_image_iou=0.994, valid_dataset_iou=0.994, valid_f1_score=0.997, train_per_image_iou=0.994, train_dataset_iou=0.994, train_f1_score=0.997]"
     ]
    },
    {
     "name": "stderr",
     "output_type": "stream",
     "text": [
      "Epoch 88, global step 1780: 'val_loss' reached 0.00400 (best 0.00400), saving model to 'C:\\\\Tumi\\\\Other Subjects\\\\CV\\\\ComputerVisionLab\\\\Lab3\\\\deepCheckpoints\\\\deeplabv3plus-resnext50_32x4d.ckpt' as top 1\n"
     ]
    },
    {
     "name": "stdout",
     "output_type": "stream",
     "text": [
      "Epoch 89: 100%|██████████| 20/20 [00:03<00:00,  6.54it/s, v_num=338k, val_loss=0.00447, valid_per_image_iou=0.994, valid_dataset_iou=0.994, valid_f1_score=0.997, train_per_image_iou=0.994, train_dataset_iou=0.994, train_f1_score=0.997]"
     ]
    },
    {
     "name": "stderr",
     "output_type": "stream",
     "text": [
      "Epoch 89, global step 1800: 'val_loss' reached 0.00399 (best 0.00399), saving model to 'C:\\\\Tumi\\\\Other Subjects\\\\CV\\\\ComputerVisionLab\\\\Lab3\\\\deepCheckpoints\\\\deeplabv3plus-resnext50_32x4d.ckpt' as top 1\n"
     ]
    },
    {
     "name": "stdout",
     "output_type": "stream",
     "text": [
      "Epoch 90: 100%|██████████| 20/20 [00:03<00:00,  6.49it/s, v_num=338k, val_loss=0.00441, valid_per_image_iou=0.994, valid_dataset_iou=0.994, valid_f1_score=0.997, train_per_image_iou=0.994, train_dataset_iou=0.994, train_f1_score=0.997]"
     ]
    },
    {
     "name": "stderr",
     "output_type": "stream",
     "text": [
      "Epoch 90, global step 1820: 'val_loss' was not in top 1\n"
     ]
    },
    {
     "name": "stdout",
     "output_type": "stream",
     "text": [
      "Epoch 91: 100%|██████████| 20/20 [00:02<00:00,  6.84it/s, v_num=338k, val_loss=0.00443, valid_per_image_iou=0.994, valid_dataset_iou=0.994, valid_f1_score=0.997, train_per_image_iou=0.994, train_dataset_iou=0.994, train_f1_score=0.997]"
     ]
    },
    {
     "name": "stderr",
     "output_type": "stream",
     "text": [
      "Epoch 91, global step 1840: 'val_loss' reached 0.00397 (best 0.00397), saving model to 'C:\\\\Tumi\\\\Other Subjects\\\\CV\\\\ComputerVisionLab\\\\Lab3\\\\deepCheckpoints\\\\deeplabv3plus-resnext50_32x4d.ckpt' as top 1\n"
     ]
    },
    {
     "name": "stdout",
     "output_type": "stream",
     "text": [
      "Epoch 92: 100%|██████████| 20/20 [00:03<00:00,  6.59it/s, v_num=338k, val_loss=0.00435, valid_per_image_iou=0.994, valid_dataset_iou=0.994, valid_f1_score=0.997, train_per_image_iou=0.994, train_dataset_iou=0.994, train_f1_score=0.997]"
     ]
    },
    {
     "name": "stderr",
     "output_type": "stream",
     "text": [
      "Epoch 92, global step 1860: 'val_loss' was not in top 1\n"
     ]
    },
    {
     "name": "stdout",
     "output_type": "stream",
     "text": [
      "Epoch 93: 100%|██████████| 20/20 [00:02<00:00,  6.81it/s, v_num=338k, val_loss=0.00445, valid_per_image_iou=0.994, valid_dataset_iou=0.994, valid_f1_score=0.997, train_per_image_iou=0.994, train_dataset_iou=0.994, train_f1_score=0.997]"
     ]
    },
    {
     "name": "stderr",
     "output_type": "stream",
     "text": [
      "Epoch 93, global step 1880: 'val_loss' reached 0.00396 (best 0.00396), saving model to 'C:\\\\Tumi\\\\Other Subjects\\\\CV\\\\ComputerVisionLab\\\\Lab3\\\\deepCheckpoints\\\\deeplabv3plus-resnext50_32x4d.ckpt' as top 1\n"
     ]
    },
    {
     "name": "stdout",
     "output_type": "stream",
     "text": [
      "Epoch 94: 100%|██████████| 20/20 [00:03<00:00,  6.49it/s, v_num=338k, val_loss=0.00442, valid_per_image_iou=0.994, valid_dataset_iou=0.994, valid_f1_score=0.997, train_per_image_iou=0.994, train_dataset_iou=0.994, train_f1_score=0.997]"
     ]
    },
    {
     "name": "stderr",
     "output_type": "stream",
     "text": [
      "Epoch 94, global step 1900: 'val_loss' was not in top 1\n"
     ]
    },
    {
     "name": "stdout",
     "output_type": "stream",
     "text": [
      "Epoch 95: 100%|██████████| 20/20 [00:02<00:00,  6.84it/s, v_num=338k, val_loss=0.00431, valid_per_image_iou=0.994, valid_dataset_iou=0.994, valid_f1_score=0.997, train_per_image_iou=0.994, train_dataset_iou=0.994, train_f1_score=0.997]"
     ]
    },
    {
     "name": "stderr",
     "output_type": "stream",
     "text": [
      "Epoch 95, global step 1920: 'val_loss' reached 0.00395 (best 0.00395), saving model to 'C:\\\\Tumi\\\\Other Subjects\\\\CV\\\\ComputerVisionLab\\\\Lab3\\\\deepCheckpoints\\\\deeplabv3plus-resnext50_32x4d.ckpt' as top 1\n"
     ]
    },
    {
     "name": "stdout",
     "output_type": "stream",
     "text": [
      "Epoch 96: 100%|██████████| 20/20 [00:03<00:00,  6.46it/s, v_num=338k, val_loss=0.00444, valid_per_image_iou=0.994, valid_dataset_iou=0.994, valid_f1_score=0.997, train_per_image_iou=0.994, train_dataset_iou=0.994, train_f1_score=0.997]"
     ]
    },
    {
     "name": "stderr",
     "output_type": "stream",
     "text": [
      "Epoch 96, global step 1940: 'val_loss' was not in top 1\n"
     ]
    },
    {
     "name": "stdout",
     "output_type": "stream",
     "text": [
      "Epoch 97: 100%|██████████| 20/20 [00:02<00:00,  6.80it/s, v_num=338k, val_loss=0.00438, valid_per_image_iou=0.994, valid_dataset_iou=0.994, valid_f1_score=0.997, train_per_image_iou=0.994, train_dataset_iou=0.994, train_f1_score=0.997]"
     ]
    },
    {
     "name": "stderr",
     "output_type": "stream",
     "text": [
      "Epoch 97, global step 1960: 'val_loss' reached 0.00394 (best 0.00394), saving model to 'C:\\\\Tumi\\\\Other Subjects\\\\CV\\\\ComputerVisionLab\\\\Lab3\\\\deepCheckpoints\\\\deeplabv3plus-resnext50_32x4d.ckpt' as top 1\n"
     ]
    },
    {
     "name": "stdout",
     "output_type": "stream",
     "text": [
      "Epoch 98: 100%|██████████| 20/20 [00:03<00:00,  6.51it/s, v_num=338k, val_loss=0.00431, valid_per_image_iou=0.994, valid_dataset_iou=0.994, valid_f1_score=0.997, train_per_image_iou=0.994, train_dataset_iou=0.994, train_f1_score=0.997]"
     ]
    },
    {
     "name": "stderr",
     "output_type": "stream",
     "text": [
      "Epoch 98, global step 1980: 'val_loss' reached 0.00393 (best 0.00393), saving model to 'C:\\\\Tumi\\\\Other Subjects\\\\CV\\\\ComputerVisionLab\\\\Lab3\\\\deepCheckpoints\\\\deeplabv3plus-resnext50_32x4d.ckpt' as top 1\n"
     ]
    },
    {
     "name": "stdout",
     "output_type": "stream",
     "text": [
      "Epoch 99: 100%|██████████| 20/20 [00:03<00:00,  6.51it/s, v_num=338k, val_loss=0.00437, valid_per_image_iou=0.994, valid_dataset_iou=0.994, valid_f1_score=0.997, train_per_image_iou=0.994, train_dataset_iou=0.994, train_f1_score=0.997]"
     ]
    },
    {
     "name": "stderr",
     "output_type": "stream",
     "text": [
      "Epoch 99, global step 2000: 'val_loss' was not in top 1\n",
      "`Trainer.fit` stopped: `max_epochs=100` reached.\n"
     ]
    },
    {
     "name": "stdout",
     "output_type": "stream",
     "text": [
      "Epoch 99: 100%|██████████| 20/20 [00:04<00:00,  4.79it/s, v_num=338k, val_loss=0.00437, valid_per_image_iou=0.994, valid_dataset_iou=0.994, valid_f1_score=0.997, train_per_image_iou=0.994, train_dataset_iou=0.994, train_f1_score=0.997]\n"
     ]
    },
    {
     "name": "stderr",
     "output_type": "stream",
     "text": [
      "LOCAL_RANK: 0 - CUDA_VISIBLE_DEVICES: [0]\n"
     ]
    },
    {
     "name": "stdout",
     "output_type": "stream",
     "text": [
      "Validation DataLoader 0: 100%|██████████| 2/2 [00:00<00:00,  8.67it/s]"
     ]
    },
    {
     "name": "stderr",
     "output_type": "stream",
     "text": [
      "LOCAL_RANK: 0 - CUDA_VISIBLE_DEVICES: [0]\n",
      "c:\\Program Files\\Python312\\Lib\\site-packages\\pytorch_lightning\\trainer\\connectors\\data_connector.py:475: Your `test_dataloader`'s sampler has shuffling enabled, it is strongly recommended that you turn shuffling off for val/test dataloaders.\n",
      "c:\\Program Files\\Python312\\Lib\\site-packages\\pytorch_lightning\\trainer\\connectors\\data_connector.py:424: The 'test_dataloader' does not have many workers which may be a bottleneck. Consider increasing the value of the `num_workers` argument` to `num_workers=15` in the `DataLoader` to improve performance.\n"
     ]
    },
    {
     "name": "stdout",
     "output_type": "stream",
     "text": [
      "\n",
      "[{'val_loss': 0.0043708086013793945, 'valid_per_image_iou': 0.994335412979126, 'valid_dataset_iou': 0.9943353533744812, 'valid_f1_score': 0.9971591830253601}]\n",
      "Testing DataLoader 0: 100%|██████████| 4/4 [00:00<00:00, 31.06it/s]\n",
      "[{'val_loss': 0.004342958331108093, 'test_per_image_iou': 0.9942617416381836, 'test_dataset_iou': 0.9942614436149597, 'test_f1_score': 0.9971219897270203}]\n"
     ]
    }
   ],
   "source": [
    "deepvPlus_model = DeepV_plus(\"deeplabv3plus\", \"resnext50_32x4d\", in_channels=3, out_classes=2)\n",
    "train_deep_model(deepvPlus_model)\n"
   ]
  },
  {
   "cell_type": "code",
   "execution_count": 11,
   "metadata": {},
   "outputs": [
    {
     "name": "stdout",
     "output_type": "stream",
     "text": [
      "imagenet\n"
     ]
    },
    {
     "data": {
      "text/html": [
       "<style>\n",
       "    table.wandb td:nth-child(1) { padding: 0 10px; text-align: left ; width: auto;} td:nth-child(2) {text-align: left ; width: 100%}\n",
       "    .wandb-row { display: flex; flex-direction: row; flex-wrap: wrap; justify-content: flex-start; width: 100% }\n",
       "    .wandb-col { display: flex; flex-direction: column; flex-basis: 100%; flex: 1; padding: 10px; }\n",
       "    </style>\n",
       "<div class=\"wandb-row\"><div class=\"wandb-col\"><h3>Run history:</h3><br/><table class=\"wandb\"><tr><td>epoch</td><td>▁▁▁▁▂▂▂▂▂▃▃▃▃▃▃▄▄▄▄▄▅▅▅▅▅▅▆▆▆▆▆▇▇▇▇▇▇███</td></tr><tr><td>test_dataset_iou</td><td>▁</td></tr><tr><td>test_f1_score</td><td>▁</td></tr><tr><td>test_per_image_iou</td><td>▁</td></tr><tr><td>train_dataset_iou</td><td>▁▆▇█████████████████████████████████████</td></tr><tr><td>train_f1_score</td><td>▁▆██████████████████████████████████████</td></tr><tr><td>train_per_image_iou</td><td>▁▆▇█████████████████████████████████████</td></tr><tr><td>trainer/global_step</td><td>▁▁▁▁▂▂▂▂▂▃▃▃▃▃▃▄▄▄▄▄▅▅▅▅▅▆▆▆▆▆▆▇▇▇▇▇████</td></tr><tr><td>val_loss</td><td>█▄▂▂▂▁▁▁▁▁▁▁▁▁▁▁▁▁▁▁▁▁▁▁▁▁▁▁▁▁▁▁▁▁▁▁▁▁▁▁</td></tr><tr><td>valid_dataset_iou</td><td>▁▆██████████████████████████████████████</td></tr><tr><td>valid_f1_score</td><td>▁▆██████████████████████████████████████</td></tr><tr><td>valid_per_image_iou</td><td>▁▆██████████████████████████████████████</td></tr></table><br/></div><div class=\"wandb-col\"><h3>Run summary:</h3><br/><table class=\"wandb\"><tr><td>epoch</td><td>100</td></tr><tr><td>test_dataset_iou</td><td>0.99426</td></tr><tr><td>test_f1_score</td><td>0.99712</td></tr><tr><td>test_per_image_iou</td><td>0.99426</td></tr><tr><td>train_dataset_iou</td><td>0.99354</td></tr><tr><td>train_f1_score</td><td>0.99676</td></tr><tr><td>train_per_image_iou</td><td>0.99354</td></tr><tr><td>trainer/global_step</td><td>2000</td></tr><tr><td>val_loss</td><td>0.00434</td></tr><tr><td>valid_dataset_iou</td><td>0.99434</td></tr><tr><td>valid_f1_score</td><td>0.99716</td></tr><tr><td>valid_per_image_iou</td><td>0.99434</td></tr></table><br/></div></div>"
      ],
      "text/plain": [
       "<IPython.core.display.HTML object>"
      ]
     },
     "metadata": {},
     "output_type": "display_data"
    },
    {
     "data": {
      "text/html": [
       " View run <strong style=\"color:#cdcd00\">deeplabv3plus-resnext50_32x4d</strong> at: <a href='https://wandb.ai/2180153-wits-university/DeepLabV3Plus/runs/xgup338k' target=\"_blank\">https://wandb.ai/2180153-wits-university/DeepLabV3Plus/runs/xgup338k</a><br/> View project at: <a href='https://wandb.ai/2180153-wits-university/DeepLabV3Plus' target=\"_blank\">https://wandb.ai/2180153-wits-university/DeepLabV3Plus</a><br/>Synced 5 W&B file(s), 0 media file(s), 2 artifact file(s) and 0 other file(s)"
      ],
      "text/plain": [
       "<IPython.core.display.HTML object>"
      ]
     },
     "metadata": {},
     "output_type": "display_data"
    },
    {
     "data": {
      "text/html": [
       "Find logs at: <code>.\\wandb\\run-20240922_121327-xgup338k\\logs</code>"
      ],
      "text/plain": [
       "<IPython.core.display.HTML object>"
      ]
     },
     "metadata": {},
     "output_type": "display_data"
    },
    {
     "data": {
      "text/html": [
       "The new W&B backend becomes opt-out in version 0.18.0; try it out with `wandb.require(\"core\")`! See https://wandb.me/wandb-core for more information."
      ],
      "text/plain": [
       "<IPython.core.display.HTML object>"
      ]
     },
     "metadata": {},
     "output_type": "display_data"
    },
    {
     "name": "stderr",
     "output_type": "stream",
     "text": [
      "GPU available: True (cuda), used: True\n",
      "TPU available: False, using: 0 TPU cores\n",
      "HPU available: False, using: 0 HPUs\n"
     ]
    },
    {
     "data": {
      "text/html": [
       "Tracking run with wandb version 0.17.8"
      ],
      "text/plain": [
       "<IPython.core.display.HTML object>"
      ]
     },
     "metadata": {},
     "output_type": "display_data"
    },
    {
     "data": {
      "text/html": [
       "Run data is saved locally in <code>.\\wandb\\run-20240922_122325-cump66b6</code>"
      ],
      "text/plain": [
       "<IPython.core.display.HTML object>"
      ]
     },
     "metadata": {},
     "output_type": "display_data"
    },
    {
     "data": {
      "text/html": [
       "Syncing run <strong><a href='https://wandb.ai/2180153-wits-university/DeepLabV3Plus/runs/cump66b6' target=\"_blank\">deeplabv3plus-timm-regnetx_032</a></strong> to <a href='https://wandb.ai/2180153-wits-university/DeepLabV3Plus' target=\"_blank\">Weights & Biases</a> (<a href='https://wandb.me/run' target=\"_blank\">docs</a>)<br/>"
      ],
      "text/plain": [
       "<IPython.core.display.HTML object>"
      ]
     },
     "metadata": {},
     "output_type": "display_data"
    },
    {
     "data": {
      "text/html": [
       " View project at <a href='https://wandb.ai/2180153-wits-university/DeepLabV3Plus' target=\"_blank\">https://wandb.ai/2180153-wits-university/DeepLabV3Plus</a>"
      ],
      "text/plain": [
       "<IPython.core.display.HTML object>"
      ]
     },
     "metadata": {},
     "output_type": "display_data"
    },
    {
     "data": {
      "text/html": [
       " View run at <a href='https://wandb.ai/2180153-wits-university/DeepLabV3Plus/runs/cump66b6' target=\"_blank\">https://wandb.ai/2180153-wits-university/DeepLabV3Plus/runs/cump66b6</a>"
      ],
      "text/plain": [
       "<IPython.core.display.HTML object>"
      ]
     },
     "metadata": {},
     "output_type": "display_data"
    },
    {
     "name": "stderr",
     "output_type": "stream",
     "text": [
      "c:\\Program Files\\Python312\\Lib\\site-packages\\pytorch_lightning\\callbacks\\model_checkpoint.py:654: Checkpoint directory C:\\Tumi\\Other Subjects\\CV\\ComputerVisionLab\\Lab3\\deepCheckpoints exists and is not empty.\n",
      "LOCAL_RANK: 0 - CUDA_VISIBLE_DEVICES: [0]\n",
      "\n",
      "  | Name    | Type          | Params | Mode \n",
      "--------------------------------------------------\n",
      "0 | model   | DeepLabV3Plus | 16.1 M | train\n",
      "1 | loss_fn | DiceLoss      | 0      | train\n",
      "--------------------------------------------------\n",
      "16.1 M    Trainable params\n",
      "0         Non-trainable params\n",
      "16.1 M    Total params\n",
      "64.362    Total estimated model params size (MB)\n",
      "586       Modules in train mode\n",
      "0         Modules in eval mode\n"
     ]
    },
    {
     "name": "stdout",
     "output_type": "stream",
     "text": [
      "Sanity Checking DataLoader 0:  50%|█████     | 1/2 [00:00<00:00, 22.20it/s]"
     ]
    },
    {
     "name": "stderr",
     "output_type": "stream",
     "text": [
      "c:\\Program Files\\Python312\\Lib\\site-packages\\pytorch_lightning\\trainer\\connectors\\data_connector.py:424: The 'val_dataloader' does not have many workers which may be a bottleneck. Consider increasing the value of the `num_workers` argument` to `num_workers=15` in the `DataLoader` to improve performance.\n"
     ]
    },
    {
     "name": "stdout",
     "output_type": "stream",
     "text": [
      "                                                                           "
     ]
    },
    {
     "name": "stderr",
     "output_type": "stream",
     "text": [
      "c:\\Program Files\\Python312\\Lib\\site-packages\\pytorch_lightning\\trainer\\connectors\\data_connector.py:424: The 'train_dataloader' does not have many workers which may be a bottleneck. Consider increasing the value of the `num_workers` argument` to `num_workers=15` in the `DataLoader` to improve performance.\n"
     ]
    },
    {
     "name": "stdout",
     "output_type": "stream",
     "text": [
      "Epoch 0: 100%|██████████| 20/20 [00:03<00:00,  5.40it/s, v_num=66b6, val_loss=0.334, valid_per_image_iou=0.773, valid_dataset_iou=0.773, valid_f1_score=0.872]"
     ]
    },
    {
     "name": "stderr",
     "output_type": "stream",
     "text": [
      "Epoch 0, global step 20: 'val_loss' reached 0.30684 (best 0.30684), saving model to 'C:\\\\Tumi\\\\Other Subjects\\\\CV\\\\ComputerVisionLab\\\\Lab3\\\\deepCheckpoints\\\\deeplabv3plus-timm-regnetx_032.ckpt' as top 1\n"
     ]
    },
    {
     "name": "stdout",
     "output_type": "stream",
     "text": [
      "Epoch 1: 100%|██████████| 20/20 [00:03<00:00,  5.35it/s, v_num=66b6, val_loss=0.152, valid_per_image_iou=0.872, valid_dataset_iou=0.872, valid_f1_score=0.932, train_per_image_iou=0.756, train_dataset_iou=0.743, train_f1_score=0.852]"
     ]
    },
    {
     "name": "stderr",
     "output_type": "stream",
     "text": [
      "Epoch 1, global step 40: 'val_loss' reached 0.16841 (best 0.16841), saving model to 'C:\\\\Tumi\\\\Other Subjects\\\\CV\\\\ComputerVisionLab\\\\Lab3\\\\deepCheckpoints\\\\deeplabv3plus-timm-regnetx_032.ckpt' as top 1\n"
     ]
    },
    {
     "name": "stdout",
     "output_type": "stream",
     "text": [
      "Epoch 2: 100%|██████████| 20/20 [00:03<00:00,  5.38it/s, v_num=66b6, val_loss=0.112, valid_per_image_iou=0.918, valid_dataset_iou=0.918, valid_f1_score=0.957, train_per_image_iou=0.857, train_dataset_iou=0.856, train_f1_score=0.923]"
     ]
    },
    {
     "name": "stderr",
     "output_type": "stream",
     "text": [
      "Epoch 2, global step 60: 'val_loss' reached 0.12844 (best 0.12844), saving model to 'C:\\\\Tumi\\\\Other Subjects\\\\CV\\\\ComputerVisionLab\\\\Lab3\\\\deepCheckpoints\\\\deeplabv3plus-timm-regnetx_032.ckpt' as top 1\n"
     ]
    },
    {
     "name": "stdout",
     "output_type": "stream",
     "text": [
      "Epoch 3: 100%|██████████| 20/20 [00:03<00:00,  5.51it/s, v_num=66b6, val_loss=0.0915, valid_per_image_iou=0.946, valid_dataset_iou=0.946, valid_f1_score=0.972, train_per_image_iou=0.896, train_dataset_iou=0.896, train_f1_score=0.945]"
     ]
    },
    {
     "name": "stderr",
     "output_type": "stream",
     "text": [
      "Epoch 3, global step 80: 'val_loss' reached 0.10290 (best 0.10290), saving model to 'C:\\\\Tumi\\\\Other Subjects\\\\CV\\\\ComputerVisionLab\\\\Lab3\\\\deepCheckpoints\\\\deeplabv3plus-timm-regnetx_032.ckpt' as top 1\n"
     ]
    },
    {
     "name": "stdout",
     "output_type": "stream",
     "text": [
      "Epoch 4: 100%|██████████| 20/20 [00:03<00:00,  5.36it/s, v_num=66b6, val_loss=0.0731, valid_per_image_iou=0.964, valid_dataset_iou=0.964, valid_f1_score=0.982, train_per_image_iou=0.923, train_dataset_iou=0.923, train_f1_score=0.960]"
     ]
    },
    {
     "name": "stderr",
     "output_type": "stream",
     "text": [
      "Epoch 4, global step 100: 'val_loss' reached 0.08175 (best 0.08175), saving model to 'C:\\\\Tumi\\\\Other Subjects\\\\CV\\\\ComputerVisionLab\\\\Lab3\\\\deepCheckpoints\\\\deeplabv3plus-timm-regnetx_032.ckpt' as top 1\n"
     ]
    },
    {
     "name": "stdout",
     "output_type": "stream",
     "text": [
      "Epoch 5: 100%|██████████| 20/20 [00:03<00:00,  5.30it/s, v_num=66b6, val_loss=0.0598, valid_per_image_iou=0.973, valid_dataset_iou=0.973, valid_f1_score=0.986, train_per_image_iou=0.947, train_dataset_iou=0.947, train_f1_score=0.973]"
     ]
    },
    {
     "name": "stderr",
     "output_type": "stream",
     "text": [
      "Epoch 5, global step 120: 'val_loss' reached 0.06652 (best 0.06652), saving model to 'C:\\\\Tumi\\\\Other Subjects\\\\CV\\\\ComputerVisionLab\\\\Lab3\\\\deepCheckpoints\\\\deeplabv3plus-timm-regnetx_032.ckpt' as top 1\n"
     ]
    },
    {
     "name": "stdout",
     "output_type": "stream",
     "text": [
      "Epoch 6: 100%|██████████| 20/20 [00:03<00:00,  5.31it/s, v_num=66b6, val_loss=0.0513, valid_per_image_iou=0.977, valid_dataset_iou=0.977, valid_f1_score=0.989, train_per_image_iou=0.960, train_dataset_iou=0.960, train_f1_score=0.980]"
     ]
    },
    {
     "name": "stderr",
     "output_type": "stream",
     "text": [
      "Epoch 6, global step 140: 'val_loss' reached 0.05510 (best 0.05510), saving model to 'C:\\\\Tumi\\\\Other Subjects\\\\CV\\\\ComputerVisionLab\\\\Lab3\\\\deepCheckpoints\\\\deeplabv3plus-timm-regnetx_032.ckpt' as top 1\n"
     ]
    },
    {
     "name": "stdout",
     "output_type": "stream",
     "text": [
      "Epoch 7: 100%|██████████| 20/20 [00:03<00:00,  5.57it/s, v_num=66b6, val_loss=0.0444, valid_per_image_iou=0.977, valid_dataset_iou=0.977, valid_f1_score=0.988, train_per_image_iou=0.970, train_dataset_iou=0.970, train_f1_score=0.985]"
     ]
    },
    {
     "name": "stderr",
     "output_type": "stream",
     "text": [
      "Epoch 7, global step 160: 'val_loss' reached 0.04651 (best 0.04651), saving model to 'C:\\\\Tumi\\\\Other Subjects\\\\CV\\\\ComputerVisionLab\\\\Lab3\\\\deepCheckpoints\\\\deeplabv3plus-timm-regnetx_032.ckpt' as top 1\n"
     ]
    },
    {
     "name": "stdout",
     "output_type": "stream",
     "text": [
      "Epoch 8: 100%|██████████| 20/20 [00:03<00:00,  5.46it/s, v_num=66b6, val_loss=0.0389, valid_per_image_iou=0.982, valid_dataset_iou=0.982, valid_f1_score=0.991, train_per_image_iou=0.975, train_dataset_iou=0.975, train_f1_score=0.987]"
     ]
    },
    {
     "name": "stderr",
     "output_type": "stream",
     "text": [
      "Epoch 8, global step 180: 'val_loss' reached 0.03978 (best 0.03978), saving model to 'C:\\\\Tumi\\\\Other Subjects\\\\CV\\\\ComputerVisionLab\\\\Lab3\\\\deepCheckpoints\\\\deeplabv3plus-timm-regnetx_032.ckpt' as top 1\n"
     ]
    },
    {
     "name": "stdout",
     "output_type": "stream",
     "text": [
      "Epoch 9: 100%|██████████| 20/20 [00:03<00:00,  5.52it/s, v_num=66b6, val_loss=0.0351, valid_per_image_iou=0.982, valid_dataset_iou=0.982, valid_f1_score=0.991, train_per_image_iou=0.979, train_dataset_iou=0.979, train_f1_score=0.990]"
     ]
    },
    {
     "name": "stderr",
     "output_type": "stream",
     "text": [
      "Epoch 9, global step 200: 'val_loss' reached 0.03455 (best 0.03455), saving model to 'C:\\\\Tumi\\\\Other Subjects\\\\CV\\\\ComputerVisionLab\\\\Lab3\\\\deepCheckpoints\\\\deeplabv3plus-timm-regnetx_032.ckpt' as top 1\n"
     ]
    },
    {
     "name": "stdout",
     "output_type": "stream",
     "text": [
      "Epoch 10: 100%|██████████| 20/20 [00:03<00:00,  5.50it/s, v_num=66b6, val_loss=0.0317, valid_per_image_iou=0.983, valid_dataset_iou=0.983, valid_f1_score=0.992, train_per_image_iou=0.982, train_dataset_iou=0.982, train_f1_score=0.991]"
     ]
    },
    {
     "name": "stderr",
     "output_type": "stream",
     "text": [
      "Epoch 10, global step 220: 'val_loss' reached 0.03036 (best 0.03036), saving model to 'C:\\\\Tumi\\\\Other Subjects\\\\CV\\\\ComputerVisionLab\\\\Lab3\\\\deepCheckpoints\\\\deeplabv3plus-timm-regnetx_032.ckpt' as top 1\n"
     ]
    },
    {
     "name": "stdout",
     "output_type": "stream",
     "text": [
      "Epoch 11: 100%|██████████| 20/20 [00:03<00:00,  5.62it/s, v_num=66b6, val_loss=0.0277, valid_per_image_iou=0.985, valid_dataset_iou=0.985, valid_f1_score=0.992, train_per_image_iou=0.984, train_dataset_iou=0.984, train_f1_score=0.992]"
     ]
    },
    {
     "name": "stderr",
     "output_type": "stream",
     "text": [
      "Epoch 11, global step 240: 'val_loss' reached 0.02683 (best 0.02683), saving model to 'C:\\\\Tumi\\\\Other Subjects\\\\CV\\\\ComputerVisionLab\\\\Lab3\\\\deepCheckpoints\\\\deeplabv3plus-timm-regnetx_032.ckpt' as top 1\n"
     ]
    },
    {
     "name": "stdout",
     "output_type": "stream",
     "text": [
      "Epoch 12: 100%|██████████| 20/20 [00:03<00:00,  5.39it/s, v_num=66b6, val_loss=0.0266, valid_per_image_iou=0.985, valid_dataset_iou=0.985, valid_f1_score=0.992, train_per_image_iou=0.985, train_dataset_iou=0.985, train_f1_score=0.993]"
     ]
    },
    {
     "name": "stderr",
     "output_type": "stream",
     "text": [
      "Epoch 12, global step 260: 'val_loss' reached 0.02433 (best 0.02433), saving model to 'C:\\\\Tumi\\\\Other Subjects\\\\CV\\\\ComputerVisionLab\\\\Lab3\\\\deepCheckpoints\\\\deeplabv3plus-timm-regnetx_032.ckpt' as top 1\n"
     ]
    },
    {
     "name": "stdout",
     "output_type": "stream",
     "text": [
      "Epoch 13: 100%|██████████| 20/20 [00:03<00:00,  5.39it/s, v_num=66b6, val_loss=0.0238, valid_per_image_iou=0.985, valid_dataset_iou=0.985, valid_f1_score=0.993, train_per_image_iou=0.986, train_dataset_iou=0.986, train_f1_score=0.993]"
     ]
    },
    {
     "name": "stderr",
     "output_type": "stream",
     "text": [
      "Epoch 13, global step 280: 'val_loss' reached 0.02192 (best 0.02192), saving model to 'C:\\\\Tumi\\\\Other Subjects\\\\CV\\\\ComputerVisionLab\\\\Lab3\\\\deepCheckpoints\\\\deeplabv3plus-timm-regnetx_032.ckpt' as top 1\n"
     ]
    },
    {
     "name": "stdout",
     "output_type": "stream",
     "text": [
      "Epoch 14: 100%|██████████| 20/20 [00:03<00:00,  5.48it/s, v_num=66b6, val_loss=0.0225, valid_per_image_iou=0.986, valid_dataset_iou=0.986, valid_f1_score=0.993, train_per_image_iou=0.987, train_dataset_iou=0.987, train_f1_score=0.993]"
     ]
    },
    {
     "name": "stderr",
     "output_type": "stream",
     "text": [
      "Epoch 14, global step 300: 'val_loss' reached 0.02023 (best 0.02023), saving model to 'C:\\\\Tumi\\\\Other Subjects\\\\CV\\\\ComputerVisionLab\\\\Lab3\\\\deepCheckpoints\\\\deeplabv3plus-timm-regnetx_032.ckpt' as top 1\n"
     ]
    },
    {
     "name": "stdout",
     "output_type": "stream",
     "text": [
      "Epoch 15: 100%|██████████| 20/20 [00:03<00:00,  5.50it/s, v_num=66b6, val_loss=0.0194, valid_per_image_iou=0.987, valid_dataset_iou=0.987, valid_f1_score=0.993, train_per_image_iou=0.987, train_dataset_iou=0.987, train_f1_score=0.993]"
     ]
    },
    {
     "name": "stderr",
     "output_type": "stream",
     "text": [
      "Epoch 15, global step 320: 'val_loss' reached 0.01858 (best 0.01858), saving model to 'C:\\\\Tumi\\\\Other Subjects\\\\CV\\\\ComputerVisionLab\\\\Lab3\\\\deepCheckpoints\\\\deeplabv3plus-timm-regnetx_032.ckpt' as top 1\n"
     ]
    },
    {
     "name": "stdout",
     "output_type": "stream",
     "text": [
      "Epoch 16: 100%|██████████| 20/20 [00:03<00:00,  5.62it/s, v_num=66b6, val_loss=0.0184, valid_per_image_iou=0.987, valid_dataset_iou=0.987, valid_f1_score=0.994, train_per_image_iou=0.987, train_dataset_iou=0.987, train_f1_score=0.994]"
     ]
    },
    {
     "name": "stderr",
     "output_type": "stream",
     "text": [
      "Epoch 16, global step 340: 'val_loss' reached 0.01741 (best 0.01741), saving model to 'C:\\\\Tumi\\\\Other Subjects\\\\CV\\\\ComputerVisionLab\\\\Lab3\\\\deepCheckpoints\\\\deeplabv3plus-timm-regnetx_032.ckpt' as top 1\n"
     ]
    },
    {
     "name": "stdout",
     "output_type": "stream",
     "text": [
      "Epoch 17: 100%|██████████| 20/20 [00:03<00:00,  5.56it/s, v_num=66b6, val_loss=0.0182, valid_per_image_iou=0.988, valid_dataset_iou=0.988, valid_f1_score=0.994, train_per_image_iou=0.988, train_dataset_iou=0.988, train_f1_score=0.994]"
     ]
    },
    {
     "name": "stderr",
     "output_type": "stream",
     "text": [
      "Epoch 17, global step 360: 'val_loss' reached 0.01608 (best 0.01608), saving model to 'C:\\\\Tumi\\\\Other Subjects\\\\CV\\\\ComputerVisionLab\\\\Lab3\\\\deepCheckpoints\\\\deeplabv3plus-timm-regnetx_032.ckpt' as top 1\n"
     ]
    },
    {
     "name": "stdout",
     "output_type": "stream",
     "text": [
      "Epoch 18: 100%|██████████| 20/20 [00:03<00:00,  5.23it/s, v_num=66b6, val_loss=0.0168, valid_per_image_iou=0.988, valid_dataset_iou=0.988, valid_f1_score=0.994, train_per_image_iou=0.988, train_dataset_iou=0.988, train_f1_score=0.994]"
     ]
    },
    {
     "name": "stderr",
     "output_type": "stream",
     "text": [
      "Epoch 18, global step 380: 'val_loss' reached 0.01498 (best 0.01498), saving model to 'C:\\\\Tumi\\\\Other Subjects\\\\CV\\\\ComputerVisionLab\\\\Lab3\\\\deepCheckpoints\\\\deeplabv3plus-timm-regnetx_032.ckpt' as top 1\n"
     ]
    },
    {
     "name": "stdout",
     "output_type": "stream",
     "text": [
      "Epoch 19: 100%|██████████| 20/20 [00:03<00:00,  5.48it/s, v_num=66b6, val_loss=0.0166, valid_per_image_iou=0.988, valid_dataset_iou=0.988, valid_f1_score=0.994, train_per_image_iou=0.989, train_dataset_iou=0.989, train_f1_score=0.994]"
     ]
    },
    {
     "name": "stderr",
     "output_type": "stream",
     "text": [
      "Epoch 19, global step 400: 'val_loss' reached 0.01395 (best 0.01395), saving model to 'C:\\\\Tumi\\\\Other Subjects\\\\CV\\\\ComputerVisionLab\\\\Lab3\\\\deepCheckpoints\\\\deeplabv3plus-timm-regnetx_032.ckpt' as top 1\n"
     ]
    },
    {
     "name": "stdout",
     "output_type": "stream",
     "text": [
      "Epoch 20: 100%|██████████| 20/20 [00:03<00:00,  5.55it/s, v_num=66b6, val_loss=0.0144, valid_per_image_iou=0.989, valid_dataset_iou=0.989, valid_f1_score=0.995, train_per_image_iou=0.989, train_dataset_iou=0.989, train_f1_score=0.995]"
     ]
    },
    {
     "name": "stderr",
     "output_type": "stream",
     "text": [
      "Epoch 20, global step 420: 'val_loss' reached 0.01315 (best 0.01315), saving model to 'C:\\\\Tumi\\\\Other Subjects\\\\CV\\\\ComputerVisionLab\\\\Lab3\\\\deepCheckpoints\\\\deeplabv3plus-timm-regnetx_032.ckpt' as top 1\n"
     ]
    },
    {
     "name": "stdout",
     "output_type": "stream",
     "text": [
      "Epoch 21: 100%|██████████| 20/20 [00:03<00:00,  5.42it/s, v_num=66b6, val_loss=0.0143, valid_per_image_iou=0.989, valid_dataset_iou=0.989, valid_f1_score=0.994, train_per_image_iou=0.990, train_dataset_iou=0.990, train_f1_score=0.995]"
     ]
    },
    {
     "name": "stderr",
     "output_type": "stream",
     "text": [
      "Epoch 21, global step 440: 'val_loss' reached 0.01261 (best 0.01261), saving model to 'C:\\\\Tumi\\\\Other Subjects\\\\CV\\\\ComputerVisionLab\\\\Lab3\\\\deepCheckpoints\\\\deeplabv3plus-timm-regnetx_032.ckpt' as top 1\n"
     ]
    },
    {
     "name": "stdout",
     "output_type": "stream",
     "text": [
      "Epoch 22: 100%|██████████| 20/20 [00:03<00:00,  5.44it/s, v_num=66b6, val_loss=0.0138, valid_per_image_iou=0.989, valid_dataset_iou=0.989, valid_f1_score=0.994, train_per_image_iou=0.989, train_dataset_iou=0.989, train_f1_score=0.995]"
     ]
    },
    {
     "name": "stderr",
     "output_type": "stream",
     "text": [
      "Epoch 22, global step 460: 'val_loss' reached 0.01187 (best 0.01187), saving model to 'C:\\\\Tumi\\\\Other Subjects\\\\CV\\\\ComputerVisionLab\\\\Lab3\\\\deepCheckpoints\\\\deeplabv3plus-timm-regnetx_032.ckpt' as top 1\n"
     ]
    },
    {
     "name": "stdout",
     "output_type": "stream",
     "text": [
      "Epoch 23: 100%|██████████| 20/20 [00:03<00:00,  5.50it/s, v_num=66b6, val_loss=0.0125, valid_per_image_iou=0.990, valid_dataset_iou=0.990, valid_f1_score=0.995, train_per_image_iou=0.990, train_dataset_iou=0.990, train_f1_score=0.995]"
     ]
    },
    {
     "name": "stderr",
     "output_type": "stream",
     "text": [
      "Epoch 23, global step 480: 'val_loss' reached 0.01141 (best 0.01141), saving model to 'C:\\\\Tumi\\\\Other Subjects\\\\CV\\\\ComputerVisionLab\\\\Lab3\\\\deepCheckpoints\\\\deeplabv3plus-timm-regnetx_032.ckpt' as top 1\n"
     ]
    },
    {
     "name": "stdout",
     "output_type": "stream",
     "text": [
      "Epoch 24: 100%|██████████| 20/20 [00:03<00:00,  5.46it/s, v_num=66b6, val_loss=0.0119, valid_per_image_iou=0.990, valid_dataset_iou=0.990, valid_f1_score=0.995, train_per_image_iou=0.990, train_dataset_iou=0.990, train_f1_score=0.995]"
     ]
    },
    {
     "name": "stderr",
     "output_type": "stream",
     "text": [
      "Epoch 24, global step 500: 'val_loss' reached 0.01095 (best 0.01095), saving model to 'C:\\\\Tumi\\\\Other Subjects\\\\CV\\\\ComputerVisionLab\\\\Lab3\\\\deepCheckpoints\\\\deeplabv3plus-timm-regnetx_032.ckpt' as top 1\n"
     ]
    },
    {
     "name": "stdout",
     "output_type": "stream",
     "text": [
      "Epoch 25: 100%|██████████| 20/20 [00:03<00:00,  5.55it/s, v_num=66b6, val_loss=0.0118, valid_per_image_iou=0.990, valid_dataset_iou=0.990, valid_f1_score=0.995, train_per_image_iou=0.990, train_dataset_iou=0.990, train_f1_score=0.995]"
     ]
    },
    {
     "name": "stderr",
     "output_type": "stream",
     "text": [
      "Epoch 25, global step 520: 'val_loss' reached 0.01044 (best 0.01044), saving model to 'C:\\\\Tumi\\\\Other Subjects\\\\CV\\\\ComputerVisionLab\\\\Lab3\\\\deepCheckpoints\\\\deeplabv3plus-timm-regnetx_032.ckpt' as top 1\n"
     ]
    },
    {
     "name": "stdout",
     "output_type": "stream",
     "text": [
      "Epoch 26: 100%|██████████| 20/20 [00:03<00:00,  5.54it/s, v_num=66b6, val_loss=0.0115, valid_per_image_iou=0.990, valid_dataset_iou=0.990, valid_f1_score=0.995, train_per_image_iou=0.990, train_dataset_iou=0.990, train_f1_score=0.995]"
     ]
    },
    {
     "name": "stderr",
     "output_type": "stream",
     "text": [
      "Epoch 26, global step 540: 'val_loss' reached 0.00998 (best 0.00998), saving model to 'C:\\\\Tumi\\\\Other Subjects\\\\CV\\\\ComputerVisionLab\\\\Lab3\\\\deepCheckpoints\\\\deeplabv3plus-timm-regnetx_032.ckpt' as top 1\n"
     ]
    },
    {
     "name": "stdout",
     "output_type": "stream",
     "text": [
      "Epoch 27: 100%|██████████| 20/20 [00:03<00:00,  5.54it/s, v_num=66b6, val_loss=0.0107, valid_per_image_iou=0.990, valid_dataset_iou=0.990, valid_f1_score=0.995, train_per_image_iou=0.991, train_dataset_iou=0.991, train_f1_score=0.995] "
     ]
    },
    {
     "name": "stderr",
     "output_type": "stream",
     "text": [
      "Epoch 27, global step 560: 'val_loss' reached 0.00973 (best 0.00973), saving model to 'C:\\\\Tumi\\\\Other Subjects\\\\CV\\\\ComputerVisionLab\\\\Lab3\\\\deepCheckpoints\\\\deeplabv3plus-timm-regnetx_032.ckpt' as top 1\n"
     ]
    },
    {
     "name": "stdout",
     "output_type": "stream",
     "text": [
      "Epoch 28: 100%|██████████| 20/20 [00:03<00:00,  5.46it/s, v_num=66b6, val_loss=0.0105, valid_per_image_iou=0.991, valid_dataset_iou=0.991, valid_f1_score=0.995, train_per_image_iou=0.991, train_dataset_iou=0.991, train_f1_score=0.995] "
     ]
    },
    {
     "name": "stderr",
     "output_type": "stream",
     "text": [
      "Epoch 28, global step 580: 'val_loss' reached 0.00936 (best 0.00936), saving model to 'C:\\\\Tumi\\\\Other Subjects\\\\CV\\\\ComputerVisionLab\\\\Lab3\\\\deepCheckpoints\\\\deeplabv3plus-timm-regnetx_032.ckpt' as top 1\n"
     ]
    },
    {
     "name": "stdout",
     "output_type": "stream",
     "text": [
      "Epoch 29: 100%|██████████| 20/20 [00:03<00:00,  5.56it/s, v_num=66b6, val_loss=0.0102, valid_per_image_iou=0.990, valid_dataset_iou=0.990, valid_f1_score=0.995, train_per_image_iou=0.991, train_dataset_iou=0.991, train_f1_score=0.995] "
     ]
    },
    {
     "name": "stderr",
     "output_type": "stream",
     "text": [
      "Epoch 29, global step 600: 'val_loss' reached 0.00910 (best 0.00910), saving model to 'C:\\\\Tumi\\\\Other Subjects\\\\CV\\\\ComputerVisionLab\\\\Lab3\\\\deepCheckpoints\\\\deeplabv3plus-timm-regnetx_032.ckpt' as top 1\n"
     ]
    },
    {
     "name": "stdout",
     "output_type": "stream",
     "text": [
      "Epoch 30: 100%|██████████| 20/20 [00:03<00:00,  5.56it/s, v_num=66b6, val_loss=0.00974, valid_per_image_iou=0.991, valid_dataset_iou=0.991, valid_f1_score=0.996, train_per_image_iou=0.991, train_dataset_iou=0.991, train_f1_score=0.995]"
     ]
    },
    {
     "name": "stderr",
     "output_type": "stream",
     "text": [
      "Epoch 30, global step 620: 'val_loss' reached 0.00883 (best 0.00883), saving model to 'C:\\\\Tumi\\\\Other Subjects\\\\CV\\\\ComputerVisionLab\\\\Lab3\\\\deepCheckpoints\\\\deeplabv3plus-timm-regnetx_032.ckpt' as top 1\n"
     ]
    },
    {
     "name": "stdout",
     "output_type": "stream",
     "text": [
      "Epoch 31: 100%|██████████| 20/20 [00:03<00:00,  5.48it/s, v_num=66b6, val_loss=0.00937, valid_per_image_iou=0.991, valid_dataset_iou=0.991, valid_f1_score=0.995, train_per_image_iou=0.991, train_dataset_iou=0.991, train_f1_score=0.995]"
     ]
    },
    {
     "name": "stderr",
     "output_type": "stream",
     "text": [
      "Epoch 31, global step 640: 'val_loss' reached 0.00859 (best 0.00859), saving model to 'C:\\\\Tumi\\\\Other Subjects\\\\CV\\\\ComputerVisionLab\\\\Lab3\\\\deepCheckpoints\\\\deeplabv3plus-timm-regnetx_032.ckpt' as top 1\n"
     ]
    },
    {
     "name": "stdout",
     "output_type": "stream",
     "text": [
      "Epoch 32: 100%|██████████| 20/20 [00:03<00:00,  5.40it/s, v_num=66b6, val_loss=0.010, valid_per_image_iou=0.990, valid_dataset_iou=0.990, valid_f1_score=0.995, train_per_image_iou=0.991, train_dataset_iou=0.991, train_f1_score=0.996]  "
     ]
    },
    {
     "name": "stderr",
     "output_type": "stream",
     "text": [
      "Epoch 32, global step 660: 'val_loss' reached 0.00829 (best 0.00829), saving model to 'C:\\\\Tumi\\\\Other Subjects\\\\CV\\\\ComputerVisionLab\\\\Lab3\\\\deepCheckpoints\\\\deeplabv3plus-timm-regnetx_032.ckpt' as top 1\n"
     ]
    },
    {
     "name": "stdout",
     "output_type": "stream",
     "text": [
      "Epoch 33: 100%|██████████| 20/20 [00:03<00:00,  5.31it/s, v_num=66b6, val_loss=0.00946, valid_per_image_iou=0.991, valid_dataset_iou=0.991, valid_f1_score=0.996, train_per_image_iou=0.991, train_dataset_iou=0.991, train_f1_score=0.996]"
     ]
    },
    {
     "name": "stderr",
     "output_type": "stream",
     "text": [
      "Epoch 33, global step 680: 'val_loss' reached 0.00806 (best 0.00806), saving model to 'C:\\\\Tumi\\\\Other Subjects\\\\CV\\\\ComputerVisionLab\\\\Lab3\\\\deepCheckpoints\\\\deeplabv3plus-timm-regnetx_032.ckpt' as top 1\n"
     ]
    },
    {
     "name": "stdout",
     "output_type": "stream",
     "text": [
      "Epoch 34: 100%|██████████| 20/20 [00:03<00:00,  5.42it/s, v_num=66b6, val_loss=0.0088, valid_per_image_iou=0.991, valid_dataset_iou=0.991, valid_f1_score=0.996, train_per_image_iou=0.991, train_dataset_iou=0.991, train_f1_score=0.996] "
     ]
    },
    {
     "name": "stderr",
     "output_type": "stream",
     "text": [
      "Epoch 34, global step 700: 'val_loss' reached 0.00784 (best 0.00784), saving model to 'C:\\\\Tumi\\\\Other Subjects\\\\CV\\\\ComputerVisionLab\\\\Lab3\\\\deepCheckpoints\\\\deeplabv3plus-timm-regnetx_032.ckpt' as top 1\n"
     ]
    },
    {
     "name": "stdout",
     "output_type": "stream",
     "text": [
      "Epoch 35: 100%|██████████| 20/20 [00:03<00:00,  5.35it/s, v_num=66b6, val_loss=0.00884, valid_per_image_iou=0.991, valid_dataset_iou=0.991, valid_f1_score=0.995, train_per_image_iou=0.991, train_dataset_iou=0.991, train_f1_score=0.996]"
     ]
    },
    {
     "name": "stderr",
     "output_type": "stream",
     "text": [
      "Epoch 35, global step 720: 'val_loss' reached 0.00761 (best 0.00761), saving model to 'C:\\\\Tumi\\\\Other Subjects\\\\CV\\\\ComputerVisionLab\\\\Lab3\\\\deepCheckpoints\\\\deeplabv3plus-timm-regnetx_032.ckpt' as top 1\n"
     ]
    },
    {
     "name": "stdout",
     "output_type": "stream",
     "text": [
      "Epoch 36: 100%|██████████| 20/20 [00:03<00:00,  5.43it/s, v_num=66b6, val_loss=0.00831, valid_per_image_iou=0.991, valid_dataset_iou=0.991, valid_f1_score=0.996, train_per_image_iou=0.992, train_dataset_iou=0.992, train_f1_score=0.996]"
     ]
    },
    {
     "name": "stderr",
     "output_type": "stream",
     "text": [
      "Epoch 36, global step 740: 'val_loss' reached 0.00745 (best 0.00745), saving model to 'C:\\\\Tumi\\\\Other Subjects\\\\CV\\\\ComputerVisionLab\\\\Lab3\\\\deepCheckpoints\\\\deeplabv3plus-timm-regnetx_032.ckpt' as top 1\n"
     ]
    },
    {
     "name": "stdout",
     "output_type": "stream",
     "text": [
      "Epoch 37: 100%|██████████| 20/20 [00:03<00:00,  5.30it/s, v_num=66b6, val_loss=0.0082, valid_per_image_iou=0.992, valid_dataset_iou=0.992, valid_f1_score=0.996, train_per_image_iou=0.992, train_dataset_iou=0.992, train_f1_score=0.996] "
     ]
    },
    {
     "name": "stderr",
     "output_type": "stream",
     "text": [
      "Epoch 37, global step 760: 'val_loss' reached 0.00726 (best 0.00726), saving model to 'C:\\\\Tumi\\\\Other Subjects\\\\CV\\\\ComputerVisionLab\\\\Lab3\\\\deepCheckpoints\\\\deeplabv3plus-timm-regnetx_032.ckpt' as top 1\n"
     ]
    },
    {
     "name": "stdout",
     "output_type": "stream",
     "text": [
      "Epoch 38: 100%|██████████| 20/20 [00:03<00:00,  5.47it/s, v_num=66b6, val_loss=0.00786, valid_per_image_iou=0.992, valid_dataset_iou=0.992, valid_f1_score=0.996, train_per_image_iou=0.992, train_dataset_iou=0.992, train_f1_score=0.996]"
     ]
    },
    {
     "name": "stderr",
     "output_type": "stream",
     "text": [
      "Epoch 38, global step 780: 'val_loss' reached 0.00710 (best 0.00710), saving model to 'C:\\\\Tumi\\\\Other Subjects\\\\CV\\\\ComputerVisionLab\\\\Lab3\\\\deepCheckpoints\\\\deeplabv3plus-timm-regnetx_032.ckpt' as top 1\n"
     ]
    },
    {
     "name": "stdout",
     "output_type": "stream",
     "text": [
      "Epoch 39: 100%|██████████| 20/20 [00:03<00:00,  5.33it/s, v_num=66b6, val_loss=0.0078, valid_per_image_iou=0.992, valid_dataset_iou=0.992, valid_f1_score=0.996, train_per_image_iou=0.992, train_dataset_iou=0.992, train_f1_score=0.996] "
     ]
    },
    {
     "name": "stderr",
     "output_type": "stream",
     "text": [
      "Epoch 39, global step 800: 'val_loss' reached 0.00699 (best 0.00699), saving model to 'C:\\\\Tumi\\\\Other Subjects\\\\CV\\\\ComputerVisionLab\\\\Lab3\\\\deepCheckpoints\\\\deeplabv3plus-timm-regnetx_032.ckpt' as top 1\n"
     ]
    },
    {
     "name": "stdout",
     "output_type": "stream",
     "text": [
      "Epoch 40: 100%|██████████| 20/20 [00:03<00:00,  5.53it/s, v_num=66b6, val_loss=0.00786, valid_per_image_iou=0.992, valid_dataset_iou=0.992, valid_f1_score=0.996, train_per_image_iou=0.992, train_dataset_iou=0.992, train_f1_score=0.996]"
     ]
    },
    {
     "name": "stderr",
     "output_type": "stream",
     "text": [
      "Epoch 40, global step 820: 'val_loss' reached 0.00690 (best 0.00690), saving model to 'C:\\\\Tumi\\\\Other Subjects\\\\CV\\\\ComputerVisionLab\\\\Lab3\\\\deepCheckpoints\\\\deeplabv3plus-timm-regnetx_032.ckpt' as top 1\n"
     ]
    },
    {
     "name": "stdout",
     "output_type": "stream",
     "text": [
      "Epoch 41: 100%|██████████| 20/20 [00:03<00:00,  5.46it/s, v_num=66b6, val_loss=0.0077, valid_per_image_iou=0.991, valid_dataset_iou=0.991, valid_f1_score=0.996, train_per_image_iou=0.992, train_dataset_iou=0.992, train_f1_score=0.996] "
     ]
    },
    {
     "name": "stderr",
     "output_type": "stream",
     "text": [
      "Epoch 41, global step 840: 'val_loss' reached 0.00673 (best 0.00673), saving model to 'C:\\\\Tumi\\\\Other Subjects\\\\CV\\\\ComputerVisionLab\\\\Lab3\\\\deepCheckpoints\\\\deeplabv3plus-timm-regnetx_032.ckpt' as top 1\n"
     ]
    },
    {
     "name": "stdout",
     "output_type": "stream",
     "text": [
      "Epoch 42: 100%|██████████| 20/20 [00:03<00:00,  5.62it/s, v_num=66b6, val_loss=0.00772, valid_per_image_iou=0.992, valid_dataset_iou=0.992, valid_f1_score=0.996, train_per_image_iou=0.992, train_dataset_iou=0.992, train_f1_score=0.996]"
     ]
    },
    {
     "name": "stderr",
     "output_type": "stream",
     "text": [
      "Epoch 42, global step 860: 'val_loss' reached 0.00658 (best 0.00658), saving model to 'C:\\\\Tumi\\\\Other Subjects\\\\CV\\\\ComputerVisionLab\\\\Lab3\\\\deepCheckpoints\\\\deeplabv3plus-timm-regnetx_032.ckpt' as top 1\n"
     ]
    },
    {
     "name": "stdout",
     "output_type": "stream",
     "text": [
      "Epoch 43: 100%|██████████| 20/20 [00:03<00:00,  5.59it/s, v_num=66b6, val_loss=0.00712, valid_per_image_iou=0.992, valid_dataset_iou=0.992, valid_f1_score=0.996, train_per_image_iou=0.992, train_dataset_iou=0.992, train_f1_score=0.996]"
     ]
    },
    {
     "name": "stderr",
     "output_type": "stream",
     "text": [
      "Epoch 43, global step 880: 'val_loss' reached 0.00648 (best 0.00648), saving model to 'C:\\\\Tumi\\\\Other Subjects\\\\CV\\\\ComputerVisionLab\\\\Lab3\\\\deepCheckpoints\\\\deeplabv3plus-timm-regnetx_032.ckpt' as top 1\n"
     ]
    },
    {
     "name": "stdout",
     "output_type": "stream",
     "text": [
      "Epoch 44: 100%|██████████| 20/20 [00:03<00:00,  5.37it/s, v_num=66b6, val_loss=0.00728, valid_per_image_iou=0.992, valid_dataset_iou=0.992, valid_f1_score=0.996, train_per_image_iou=0.992, train_dataset_iou=0.992, train_f1_score=0.996]"
     ]
    },
    {
     "name": "stderr",
     "output_type": "stream",
     "text": [
      "Epoch 44, global step 900: 'val_loss' reached 0.00643 (best 0.00643), saving model to 'C:\\\\Tumi\\\\Other Subjects\\\\CV\\\\ComputerVisionLab\\\\Lab3\\\\deepCheckpoints\\\\deeplabv3plus-timm-regnetx_032.ckpt' as top 1\n"
     ]
    },
    {
     "name": "stdout",
     "output_type": "stream",
     "text": [
      "Epoch 45: 100%|██████████| 20/20 [00:03<00:00,  5.53it/s, v_num=66b6, val_loss=0.00742, valid_per_image_iou=0.992, valid_dataset_iou=0.992, valid_f1_score=0.996, train_per_image_iou=0.992, train_dataset_iou=0.992, train_f1_score=0.996]"
     ]
    },
    {
     "name": "stderr",
     "output_type": "stream",
     "text": [
      "Epoch 45, global step 920: 'val_loss' reached 0.00631 (best 0.00631), saving model to 'C:\\\\Tumi\\\\Other Subjects\\\\CV\\\\ComputerVisionLab\\\\Lab3\\\\deepCheckpoints\\\\deeplabv3plus-timm-regnetx_032.ckpt' as top 1\n"
     ]
    },
    {
     "name": "stdout",
     "output_type": "stream",
     "text": [
      "Epoch 46: 100%|██████████| 20/20 [00:03<00:00,  5.62it/s, v_num=66b6, val_loss=0.00716, valid_per_image_iou=0.992, valid_dataset_iou=0.992, valid_f1_score=0.996, train_per_image_iou=0.992, train_dataset_iou=0.992, train_f1_score=0.996]"
     ]
    },
    {
     "name": "stderr",
     "output_type": "stream",
     "text": [
      "Epoch 46, global step 940: 'val_loss' reached 0.00622 (best 0.00622), saving model to 'C:\\\\Tumi\\\\Other Subjects\\\\CV\\\\ComputerVisionLab\\\\Lab3\\\\deepCheckpoints\\\\deeplabv3plus-timm-regnetx_032.ckpt' as top 1\n"
     ]
    },
    {
     "name": "stdout",
     "output_type": "stream",
     "text": [
      "Epoch 47: 100%|██████████| 20/20 [00:03<00:00,  5.56it/s, v_num=66b6, val_loss=0.00696, valid_per_image_iou=0.992, valid_dataset_iou=0.992, valid_f1_score=0.996, train_per_image_iou=0.992, train_dataset_iou=0.992, train_f1_score=0.996]"
     ]
    },
    {
     "name": "stderr",
     "output_type": "stream",
     "text": [
      "Epoch 47, global step 960: 'val_loss' reached 0.00610 (best 0.00610), saving model to 'C:\\\\Tumi\\\\Other Subjects\\\\CV\\\\ComputerVisionLab\\\\Lab3\\\\deepCheckpoints\\\\deeplabv3plus-timm-regnetx_032.ckpt' as top 1\n"
     ]
    },
    {
     "name": "stdout",
     "output_type": "stream",
     "text": [
      "Epoch 48: 100%|██████████| 20/20 [00:03<00:00,  5.64it/s, v_num=66b6, val_loss=0.00694, valid_per_image_iou=0.992, valid_dataset_iou=0.992, valid_f1_score=0.996, train_per_image_iou=0.992, train_dataset_iou=0.992, train_f1_score=0.996]"
     ]
    },
    {
     "name": "stderr",
     "output_type": "stream",
     "text": [
      "Epoch 48, global step 980: 'val_loss' reached 0.00598 (best 0.00598), saving model to 'C:\\\\Tumi\\\\Other Subjects\\\\CV\\\\ComputerVisionLab\\\\Lab3\\\\deepCheckpoints\\\\deeplabv3plus-timm-regnetx_032.ckpt' as top 1\n"
     ]
    },
    {
     "name": "stdout",
     "output_type": "stream",
     "text": [
      "Epoch 49: 100%|██████████| 20/20 [00:03<00:00,  5.50it/s, v_num=66b6, val_loss=0.00681, valid_per_image_iou=0.992, valid_dataset_iou=0.992, valid_f1_score=0.996, train_per_image_iou=0.992, train_dataset_iou=0.992, train_f1_score=0.996]"
     ]
    },
    {
     "name": "stderr",
     "output_type": "stream",
     "text": [
      "Epoch 49, global step 1000: 'val_loss' reached 0.00594 (best 0.00594), saving model to 'C:\\\\Tumi\\\\Other Subjects\\\\CV\\\\ComputerVisionLab\\\\Lab3\\\\deepCheckpoints\\\\deeplabv3plus-timm-regnetx_032.ckpt' as top 1\n"
     ]
    },
    {
     "name": "stdout",
     "output_type": "stream",
     "text": [
      "Epoch 50: 100%|██████████| 20/20 [00:03<00:00,  5.47it/s, v_num=66b6, val_loss=0.00651, valid_per_image_iou=0.992, valid_dataset_iou=0.992, valid_f1_score=0.996, train_per_image_iou=0.992, train_dataset_iou=0.992, train_f1_score=0.996]"
     ]
    },
    {
     "name": "stderr",
     "output_type": "stream",
     "text": [
      "Epoch 50, global step 1020: 'val_loss' reached 0.00582 (best 0.00582), saving model to 'C:\\\\Tumi\\\\Other Subjects\\\\CV\\\\ComputerVisionLab\\\\Lab3\\\\deepCheckpoints\\\\deeplabv3plus-timm-regnetx_032.ckpt' as top 1\n"
     ]
    },
    {
     "name": "stdout",
     "output_type": "stream",
     "text": [
      "Epoch 51: 100%|██████████| 20/20 [00:03<00:00,  5.48it/s, v_num=66b6, val_loss=0.00693, valid_per_image_iou=0.992, valid_dataset_iou=0.992, valid_f1_score=0.996, train_per_image_iou=0.992, train_dataset_iou=0.992, train_f1_score=0.996]"
     ]
    },
    {
     "name": "stderr",
     "output_type": "stream",
     "text": [
      "Epoch 51, global step 1040: 'val_loss' reached 0.00577 (best 0.00577), saving model to 'C:\\\\Tumi\\\\Other Subjects\\\\CV\\\\ComputerVisionLab\\\\Lab3\\\\deepCheckpoints\\\\deeplabv3plus-timm-regnetx_032.ckpt' as top 1\n"
     ]
    },
    {
     "name": "stdout",
     "output_type": "stream",
     "text": [
      "Epoch 52: 100%|██████████| 20/20 [00:03<00:00,  5.54it/s, v_num=66b6, val_loss=0.00668, valid_per_image_iou=0.992, valid_dataset_iou=0.992, valid_f1_score=0.996, train_per_image_iou=0.992, train_dataset_iou=0.992, train_f1_score=0.996]"
     ]
    },
    {
     "name": "stderr",
     "output_type": "stream",
     "text": [
      "Epoch 52, global step 1060: 'val_loss' reached 0.00570 (best 0.00570), saving model to 'C:\\\\Tumi\\\\Other Subjects\\\\CV\\\\ComputerVisionLab\\\\Lab3\\\\deepCheckpoints\\\\deeplabv3plus-timm-regnetx_032.ckpt' as top 1\n"
     ]
    },
    {
     "name": "stdout",
     "output_type": "stream",
     "text": [
      "Epoch 53: 100%|██████████| 20/20 [00:03<00:00,  5.58it/s, v_num=66b6, val_loss=0.00655, valid_per_image_iou=0.992, valid_dataset_iou=0.992, valid_f1_score=0.996, train_per_image_iou=0.992, train_dataset_iou=0.992, train_f1_score=0.996]"
     ]
    },
    {
     "name": "stderr",
     "output_type": "stream",
     "text": [
      "Epoch 53, global step 1080: 'val_loss' reached 0.00565 (best 0.00565), saving model to 'C:\\\\Tumi\\\\Other Subjects\\\\CV\\\\ComputerVisionLab\\\\Lab3\\\\deepCheckpoints\\\\deeplabv3plus-timm-regnetx_032.ckpt' as top 1\n"
     ]
    },
    {
     "name": "stdout",
     "output_type": "stream",
     "text": [
      "Epoch 54: 100%|██████████| 20/20 [00:03<00:00,  5.61it/s, v_num=66b6, val_loss=0.00655, valid_per_image_iou=0.992, valid_dataset_iou=0.992, valid_f1_score=0.996, train_per_image_iou=0.992, train_dataset_iou=0.992, train_f1_score=0.996]"
     ]
    },
    {
     "name": "stderr",
     "output_type": "stream",
     "text": [
      "Epoch 54, global step 1100: 'val_loss' reached 0.00556 (best 0.00556), saving model to 'C:\\\\Tumi\\\\Other Subjects\\\\CV\\\\ComputerVisionLab\\\\Lab3\\\\deepCheckpoints\\\\deeplabv3plus-timm-regnetx_032.ckpt' as top 1\n"
     ]
    },
    {
     "name": "stdout",
     "output_type": "stream",
     "text": [
      "Epoch 55: 100%|██████████| 20/20 [00:03<00:00,  5.60it/s, v_num=66b6, val_loss=0.00668, valid_per_image_iou=0.992, valid_dataset_iou=0.992, valid_f1_score=0.996, train_per_image_iou=0.992, train_dataset_iou=0.992, train_f1_score=0.996]"
     ]
    },
    {
     "name": "stderr",
     "output_type": "stream",
     "text": [
      "Epoch 55, global step 1120: 'val_loss' reached 0.00553 (best 0.00553), saving model to 'C:\\\\Tumi\\\\Other Subjects\\\\CV\\\\ComputerVisionLab\\\\Lab3\\\\deepCheckpoints\\\\deeplabv3plus-timm-regnetx_032.ckpt' as top 1\n"
     ]
    },
    {
     "name": "stdout",
     "output_type": "stream",
     "text": [
      "Epoch 56: 100%|██████████| 20/20 [00:03<00:00,  5.58it/s, v_num=66b6, val_loss=0.00639, valid_per_image_iou=0.992, valid_dataset_iou=0.992, valid_f1_score=0.996, train_per_image_iou=0.992, train_dataset_iou=0.992, train_f1_score=0.996]"
     ]
    },
    {
     "name": "stderr",
     "output_type": "stream",
     "text": [
      "Epoch 56, global step 1140: 'val_loss' reached 0.00545 (best 0.00545), saving model to 'C:\\\\Tumi\\\\Other Subjects\\\\CV\\\\ComputerVisionLab\\\\Lab3\\\\deepCheckpoints\\\\deeplabv3plus-timm-regnetx_032.ckpt' as top 1\n"
     ]
    },
    {
     "name": "stdout",
     "output_type": "stream",
     "text": [
      "Epoch 57: 100%|██████████| 20/20 [00:03<00:00,  5.54it/s, v_num=66b6, val_loss=0.00631, valid_per_image_iou=0.993, valid_dataset_iou=0.993, valid_f1_score=0.996, train_per_image_iou=0.992, train_dataset_iou=0.992, train_f1_score=0.996]"
     ]
    },
    {
     "name": "stderr",
     "output_type": "stream",
     "text": [
      "Epoch 57, global step 1160: 'val_loss' reached 0.00541 (best 0.00541), saving model to 'C:\\\\Tumi\\\\Other Subjects\\\\CV\\\\ComputerVisionLab\\\\Lab3\\\\deepCheckpoints\\\\deeplabv3plus-timm-regnetx_032.ckpt' as top 1\n"
     ]
    },
    {
     "name": "stdout",
     "output_type": "stream",
     "text": [
      "Epoch 58: 100%|██████████| 20/20 [00:03<00:00,  5.49it/s, v_num=66b6, val_loss=0.00632, valid_per_image_iou=0.992, valid_dataset_iou=0.992, valid_f1_score=0.996, train_per_image_iou=0.992, train_dataset_iou=0.992, train_f1_score=0.996]"
     ]
    },
    {
     "name": "stderr",
     "output_type": "stream",
     "text": [
      "Epoch 58, global step 1180: 'val_loss' reached 0.00534 (best 0.00534), saving model to 'C:\\\\Tumi\\\\Other Subjects\\\\CV\\\\ComputerVisionLab\\\\Lab3\\\\deepCheckpoints\\\\deeplabv3plus-timm-regnetx_032.ckpt' as top 1\n"
     ]
    },
    {
     "name": "stdout",
     "output_type": "stream",
     "text": [
      "Epoch 59: 100%|██████████| 20/20 [00:03<00:00,  5.57it/s, v_num=66b6, val_loss=0.00641, valid_per_image_iou=0.992, valid_dataset_iou=0.992, valid_f1_score=0.996, train_per_image_iou=0.992, train_dataset_iou=0.992, train_f1_score=0.996]"
     ]
    },
    {
     "name": "stderr",
     "output_type": "stream",
     "text": [
      "Epoch 59, global step 1200: 'val_loss' reached 0.00527 (best 0.00527), saving model to 'C:\\\\Tumi\\\\Other Subjects\\\\CV\\\\ComputerVisionLab\\\\Lab3\\\\deepCheckpoints\\\\deeplabv3plus-timm-regnetx_032.ckpt' as top 1\n"
     ]
    },
    {
     "name": "stdout",
     "output_type": "stream",
     "text": [
      "Epoch 60: 100%|██████████| 20/20 [00:03<00:00,  5.48it/s, v_num=66b6, val_loss=0.00617, valid_per_image_iou=0.993, valid_dataset_iou=0.993, valid_f1_score=0.996, train_per_image_iou=0.993, train_dataset_iou=0.993, train_f1_score=0.996]"
     ]
    },
    {
     "name": "stderr",
     "output_type": "stream",
     "text": [
      "Epoch 60, global step 1220: 'val_loss' reached 0.00526 (best 0.00526), saving model to 'C:\\\\Tumi\\\\Other Subjects\\\\CV\\\\ComputerVisionLab\\\\Lab3\\\\deepCheckpoints\\\\deeplabv3plus-timm-regnetx_032.ckpt' as top 1\n"
     ]
    },
    {
     "name": "stdout",
     "output_type": "stream",
     "text": [
      "Epoch 61: 100%|██████████| 20/20 [00:03<00:00,  5.71it/s, v_num=66b6, val_loss=0.00598, valid_per_image_iou=0.993, valid_dataset_iou=0.993, valid_f1_score=0.996, train_per_image_iou=0.993, train_dataset_iou=0.993, train_f1_score=0.996]"
     ]
    },
    {
     "name": "stderr",
     "output_type": "stream",
     "text": [
      "Epoch 61, global step 1240: 'val_loss' reached 0.00524 (best 0.00524), saving model to 'C:\\\\Tumi\\\\Other Subjects\\\\CV\\\\ComputerVisionLab\\\\Lab3\\\\deepCheckpoints\\\\deeplabv3plus-timm-regnetx_032.ckpt' as top 1\n"
     ]
    },
    {
     "name": "stdout",
     "output_type": "stream",
     "text": [
      "Epoch 62: 100%|██████████| 20/20 [00:03<00:00,  5.53it/s, v_num=66b6, val_loss=0.00614, valid_per_image_iou=0.992, valid_dataset_iou=0.992, valid_f1_score=0.996, train_per_image_iou=0.993, train_dataset_iou=0.993, train_f1_score=0.996]"
     ]
    },
    {
     "name": "stderr",
     "output_type": "stream",
     "text": [
      "Epoch 62, global step 1260: 'val_loss' reached 0.00515 (best 0.00515), saving model to 'C:\\\\Tumi\\\\Other Subjects\\\\CV\\\\ComputerVisionLab\\\\Lab3\\\\deepCheckpoints\\\\deeplabv3plus-timm-regnetx_032.ckpt' as top 1\n"
     ]
    },
    {
     "name": "stdout",
     "output_type": "stream",
     "text": [
      "Epoch 63: 100%|██████████| 20/20 [00:03<00:00,  5.62it/s, v_num=66b6, val_loss=0.00599, valid_per_image_iou=0.993, valid_dataset_iou=0.993, valid_f1_score=0.996, train_per_image_iou=0.993, train_dataset_iou=0.993, train_f1_score=0.996]"
     ]
    },
    {
     "name": "stderr",
     "output_type": "stream",
     "text": [
      "Epoch 63, global step 1280: 'val_loss' reached 0.00511 (best 0.00511), saving model to 'C:\\\\Tumi\\\\Other Subjects\\\\CV\\\\ComputerVisionLab\\\\Lab3\\\\deepCheckpoints\\\\deeplabv3plus-timm-regnetx_032.ckpt' as top 1\n"
     ]
    },
    {
     "name": "stdout",
     "output_type": "stream",
     "text": [
      "Epoch 64: 100%|██████████| 20/20 [00:03<00:00,  5.58it/s, v_num=66b6, val_loss=0.00624, valid_per_image_iou=0.992, valid_dataset_iou=0.992, valid_f1_score=0.996, train_per_image_iou=0.993, train_dataset_iou=0.993, train_f1_score=0.996]"
     ]
    },
    {
     "name": "stderr",
     "output_type": "stream",
     "text": [
      "Epoch 64, global step 1300: 'val_loss' reached 0.00510 (best 0.00510), saving model to 'C:\\\\Tumi\\\\Other Subjects\\\\CV\\\\ComputerVisionLab\\\\Lab3\\\\deepCheckpoints\\\\deeplabv3plus-timm-regnetx_032.ckpt' as top 1\n"
     ]
    },
    {
     "name": "stdout",
     "output_type": "stream",
     "text": [
      "Epoch 65: 100%|██████████| 20/20 [00:03<00:00,  5.42it/s, v_num=66b6, val_loss=0.00586, valid_per_image_iou=0.993, valid_dataset_iou=0.993, valid_f1_score=0.996, train_per_image_iou=0.993, train_dataset_iou=0.993, train_f1_score=0.996]"
     ]
    },
    {
     "name": "stderr",
     "output_type": "stream",
     "text": [
      "Epoch 65, global step 1320: 'val_loss' reached 0.00505 (best 0.00505), saving model to 'C:\\\\Tumi\\\\Other Subjects\\\\CV\\\\ComputerVisionLab\\\\Lab3\\\\deepCheckpoints\\\\deeplabv3plus-timm-regnetx_032.ckpt' as top 1\n"
     ]
    },
    {
     "name": "stdout",
     "output_type": "stream",
     "text": [
      "Epoch 66: 100%|██████████| 20/20 [00:03<00:00,  5.63it/s, v_num=66b6, val_loss=0.00586, valid_per_image_iou=0.993, valid_dataset_iou=0.993, valid_f1_score=0.996, train_per_image_iou=0.993, train_dataset_iou=0.993, train_f1_score=0.996]"
     ]
    },
    {
     "name": "stderr",
     "output_type": "stream",
     "text": [
      "Epoch 66, global step 1340: 'val_loss' was not in top 1\n"
     ]
    },
    {
     "name": "stdout",
     "output_type": "stream",
     "text": [
      "Epoch 67: 100%|██████████| 20/20 [00:03<00:00,  5.55it/s, v_num=66b6, val_loss=0.00582, valid_per_image_iou=0.993, valid_dataset_iou=0.993, valid_f1_score=0.996, train_per_image_iou=0.993, train_dataset_iou=0.993, train_f1_score=0.996]"
     ]
    },
    {
     "name": "stderr",
     "output_type": "stream",
     "text": [
      "Epoch 67, global step 1360: 'val_loss' reached 0.00499 (best 0.00499), saving model to 'C:\\\\Tumi\\\\Other Subjects\\\\CV\\\\ComputerVisionLab\\\\Lab3\\\\deepCheckpoints\\\\deeplabv3plus-timm-regnetx_032.ckpt' as top 1\n"
     ]
    },
    {
     "name": "stdout",
     "output_type": "stream",
     "text": [
      "Epoch 68: 100%|██████████| 20/20 [00:03<00:00,  5.42it/s, v_num=66b6, val_loss=0.00578, valid_per_image_iou=0.993, valid_dataset_iou=0.993, valid_f1_score=0.996, train_per_image_iou=0.993, train_dataset_iou=0.993, train_f1_score=0.996]"
     ]
    },
    {
     "name": "stderr",
     "output_type": "stream",
     "text": [
      "Epoch 68, global step 1380: 'val_loss' was not in top 1\n"
     ]
    },
    {
     "name": "stdout",
     "output_type": "stream",
     "text": [
      "Epoch 69: 100%|██████████| 20/20 [00:03<00:00,  5.55it/s, v_num=66b6, val_loss=0.00576, valid_per_image_iou=0.992, valid_dataset_iou=0.992, valid_f1_score=0.996, train_per_image_iou=0.993, train_dataset_iou=0.993, train_f1_score=0.996]"
     ]
    },
    {
     "name": "stderr",
     "output_type": "stream",
     "text": [
      "Epoch 69, global step 1400: 'val_loss' reached 0.00497 (best 0.00497), saving model to 'C:\\\\Tumi\\\\Other Subjects\\\\CV\\\\ComputerVisionLab\\\\Lab3\\\\deepCheckpoints\\\\deeplabv3plus-timm-regnetx_032.ckpt' as top 1\n"
     ]
    },
    {
     "name": "stdout",
     "output_type": "stream",
     "text": [
      "Epoch 70: 100%|██████████| 20/20 [00:03<00:00,  5.46it/s, v_num=66b6, val_loss=0.00583, valid_per_image_iou=0.993, valid_dataset_iou=0.993, valid_f1_score=0.996, train_per_image_iou=0.993, train_dataset_iou=0.993, train_f1_score=0.996]"
     ]
    },
    {
     "name": "stderr",
     "output_type": "stream",
     "text": [
      "Epoch 70, global step 1420: 'val_loss' reached 0.00490 (best 0.00490), saving model to 'C:\\\\Tumi\\\\Other Subjects\\\\CV\\\\ComputerVisionLab\\\\Lab3\\\\deepCheckpoints\\\\deeplabv3plus-timm-regnetx_032.ckpt' as top 1\n"
     ]
    },
    {
     "name": "stdout",
     "output_type": "stream",
     "text": [
      "Epoch 71: 100%|██████████| 20/20 [00:03<00:00,  5.61it/s, v_num=66b6, val_loss=0.00593, valid_per_image_iou=0.992, valid_dataset_iou=0.992, valid_f1_score=0.996, train_per_image_iou=0.993, train_dataset_iou=0.993, train_f1_score=0.996]"
     ]
    },
    {
     "name": "stderr",
     "output_type": "stream",
     "text": [
      "Epoch 71, global step 1440: 'val_loss' was not in top 1\n"
     ]
    },
    {
     "name": "stdout",
     "output_type": "stream",
     "text": [
      "Epoch 72: 100%|██████████| 20/20 [00:03<00:00,  5.59it/s, v_num=66b6, val_loss=0.00612, valid_per_image_iou=0.992, valid_dataset_iou=0.992, valid_f1_score=0.996, train_per_image_iou=0.993, train_dataset_iou=0.993, train_f1_score=0.996]"
     ]
    },
    {
     "name": "stderr",
     "output_type": "stream",
     "text": [
      "Epoch 72, global step 1460: 'val_loss' reached 0.00488 (best 0.00488), saving model to 'C:\\\\Tumi\\\\Other Subjects\\\\CV\\\\ComputerVisionLab\\\\Lab3\\\\deepCheckpoints\\\\deeplabv3plus-timm-regnetx_032.ckpt' as top 1\n"
     ]
    },
    {
     "name": "stdout",
     "output_type": "stream",
     "text": [
      "Epoch 73: 100%|██████████| 20/20 [00:03<00:00,  5.61it/s, v_num=66b6, val_loss=0.00591, valid_per_image_iou=0.993, valid_dataset_iou=0.993, valid_f1_score=0.996, train_per_image_iou=0.993, train_dataset_iou=0.993, train_f1_score=0.996]"
     ]
    },
    {
     "name": "stderr",
     "output_type": "stream",
     "text": [
      "Epoch 73, global step 1480: 'val_loss' reached 0.00484 (best 0.00484), saving model to 'C:\\\\Tumi\\\\Other Subjects\\\\CV\\\\ComputerVisionLab\\\\Lab3\\\\deepCheckpoints\\\\deeplabv3plus-timm-regnetx_032.ckpt' as top 1\n"
     ]
    },
    {
     "name": "stdout",
     "output_type": "stream",
     "text": [
      "Epoch 74: 100%|██████████| 20/20 [00:03<00:00,  5.42it/s, v_num=66b6, val_loss=0.00578, valid_per_image_iou=0.993, valid_dataset_iou=0.993, valid_f1_score=0.996, train_per_image_iou=0.993, train_dataset_iou=0.993, train_f1_score=0.996]"
     ]
    },
    {
     "name": "stderr",
     "output_type": "stream",
     "text": [
      "Epoch 74, global step 1500: 'val_loss' reached 0.00484 (best 0.00484), saving model to 'C:\\\\Tumi\\\\Other Subjects\\\\CV\\\\ComputerVisionLab\\\\Lab3\\\\deepCheckpoints\\\\deeplabv3plus-timm-regnetx_032.ckpt' as top 1\n"
     ]
    },
    {
     "name": "stdout",
     "output_type": "stream",
     "text": [
      "Epoch 75: 100%|██████████| 20/20 [00:03<00:00,  5.47it/s, v_num=66b6, val_loss=0.00562, valid_per_image_iou=0.993, valid_dataset_iou=0.993, valid_f1_score=0.996, train_per_image_iou=0.993, train_dataset_iou=0.993, train_f1_score=0.996]"
     ]
    },
    {
     "name": "stderr",
     "output_type": "stream",
     "text": [
      "Epoch 75, global step 1520: 'val_loss' reached 0.00479 (best 0.00479), saving model to 'C:\\\\Tumi\\\\Other Subjects\\\\CV\\\\ComputerVisionLab\\\\Lab3\\\\deepCheckpoints\\\\deeplabv3plus-timm-regnetx_032.ckpt' as top 1\n"
     ]
    },
    {
     "name": "stdout",
     "output_type": "stream",
     "text": [
      "Epoch 76: 100%|██████████| 20/20 [00:03<00:00,  5.54it/s, v_num=66b6, val_loss=0.00579, valid_per_image_iou=0.992, valid_dataset_iou=0.992, valid_f1_score=0.996, train_per_image_iou=0.993, train_dataset_iou=0.993, train_f1_score=0.996]"
     ]
    },
    {
     "name": "stderr",
     "output_type": "stream",
     "text": [
      "Epoch 76, global step 1540: 'val_loss' was not in top 1\n"
     ]
    },
    {
     "name": "stdout",
     "output_type": "stream",
     "text": [
      "Epoch 77: 100%|██████████| 20/20 [00:03<00:00,  5.35it/s, v_num=66b6, val_loss=0.00566, valid_per_image_iou=0.993, valid_dataset_iou=0.993, valid_f1_score=0.996, train_per_image_iou=0.993, train_dataset_iou=0.993, train_f1_score=0.996]"
     ]
    },
    {
     "name": "stderr",
     "output_type": "stream",
     "text": [
      "Epoch 77, global step 1560: 'val_loss' reached 0.00475 (best 0.00475), saving model to 'C:\\\\Tumi\\\\Other Subjects\\\\CV\\\\ComputerVisionLab\\\\Lab3\\\\deepCheckpoints\\\\deeplabv3plus-timm-regnetx_032.ckpt' as top 1\n"
     ]
    },
    {
     "name": "stdout",
     "output_type": "stream",
     "text": [
      "Epoch 78: 100%|██████████| 20/20 [00:03<00:00,  5.40it/s, v_num=66b6, val_loss=0.00577, valid_per_image_iou=0.993, valid_dataset_iou=0.993, valid_f1_score=0.996, train_per_image_iou=0.993, train_dataset_iou=0.993, train_f1_score=0.996]"
     ]
    },
    {
     "name": "stderr",
     "output_type": "stream",
     "text": [
      "Epoch 78, global step 1580: 'val_loss' reached 0.00474 (best 0.00474), saving model to 'C:\\\\Tumi\\\\Other Subjects\\\\CV\\\\ComputerVisionLab\\\\Lab3\\\\deepCheckpoints\\\\deeplabv3plus-timm-regnetx_032.ckpt' as top 1\n"
     ]
    },
    {
     "name": "stdout",
     "output_type": "stream",
     "text": [
      "Epoch 79: 100%|██████████| 20/20 [00:03<00:00,  5.53it/s, v_num=66b6, val_loss=0.00568, valid_per_image_iou=0.993, valid_dataset_iou=0.993, valid_f1_score=0.996, train_per_image_iou=0.993, train_dataset_iou=0.993, train_f1_score=0.996]"
     ]
    },
    {
     "name": "stderr",
     "output_type": "stream",
     "text": [
      "Epoch 79, global step 1600: 'val_loss' was not in top 1\n"
     ]
    },
    {
     "name": "stdout",
     "output_type": "stream",
     "text": [
      "Epoch 80: 100%|██████████| 20/20 [00:03<00:00,  5.57it/s, v_num=66b6, val_loss=0.00566, valid_per_image_iou=0.993, valid_dataset_iou=0.993, valid_f1_score=0.996, train_per_image_iou=0.993, train_dataset_iou=0.993, train_f1_score=0.996]"
     ]
    },
    {
     "name": "stderr",
     "output_type": "stream",
     "text": [
      "Epoch 80, global step 1620: 'val_loss' was not in top 1\n"
     ]
    },
    {
     "name": "stdout",
     "output_type": "stream",
     "text": [
      "Epoch 81: 100%|██████████| 20/20 [00:03<00:00,  5.41it/s, v_num=66b6, val_loss=0.00578, valid_per_image_iou=0.993, valid_dataset_iou=0.993, valid_f1_score=0.996, train_per_image_iou=0.993, train_dataset_iou=0.993, train_f1_score=0.996]"
     ]
    },
    {
     "name": "stderr",
     "output_type": "stream",
     "text": [
      "Epoch 81, global step 1640: 'val_loss' reached 0.00469 (best 0.00469), saving model to 'C:\\\\Tumi\\\\Other Subjects\\\\CV\\\\ComputerVisionLab\\\\Lab3\\\\deepCheckpoints\\\\deeplabv3plus-timm-regnetx_032.ckpt' as top 1\n"
     ]
    },
    {
     "name": "stdout",
     "output_type": "stream",
     "text": [
      "Epoch 82: 100%|██████████| 20/20 [00:03<00:00,  5.30it/s, v_num=66b6, val_loss=0.00572, valid_per_image_iou=0.993, valid_dataset_iou=0.993, valid_f1_score=0.996, train_per_image_iou=0.993, train_dataset_iou=0.993, train_f1_score=0.996]"
     ]
    },
    {
     "name": "stderr",
     "output_type": "stream",
     "text": [
      "Epoch 82, global step 1660: 'val_loss' reached 0.00469 (best 0.00469), saving model to 'C:\\\\Tumi\\\\Other Subjects\\\\CV\\\\ComputerVisionLab\\\\Lab3\\\\deepCheckpoints\\\\deeplabv3plus-timm-regnetx_032.ckpt' as top 1\n"
     ]
    },
    {
     "name": "stdout",
     "output_type": "stream",
     "text": [
      "Epoch 83: 100%|██████████| 20/20 [00:03<00:00,  5.39it/s, v_num=66b6, val_loss=0.00567, valid_per_image_iou=0.993, valid_dataset_iou=0.993, valid_f1_score=0.996, train_per_image_iou=0.993, train_dataset_iou=0.993, train_f1_score=0.996]"
     ]
    },
    {
     "name": "stderr",
     "output_type": "stream",
     "text": [
      "Epoch 83, global step 1680: 'val_loss' reached 0.00467 (best 0.00467), saving model to 'C:\\\\Tumi\\\\Other Subjects\\\\CV\\\\ComputerVisionLab\\\\Lab3\\\\deepCheckpoints\\\\deeplabv3plus-timm-regnetx_032.ckpt' as top 1\n"
     ]
    },
    {
     "name": "stdout",
     "output_type": "stream",
     "text": [
      "Epoch 84: 100%|██████████| 20/20 [00:03<00:00,  5.52it/s, v_num=66b6, val_loss=0.00576, valid_per_image_iou=0.993, valid_dataset_iou=0.993, valid_f1_score=0.996, train_per_image_iou=0.993, train_dataset_iou=0.993, train_f1_score=0.996]"
     ]
    },
    {
     "name": "stderr",
     "output_type": "stream",
     "text": [
      "Epoch 84, global step 1700: 'val_loss' reached 0.00465 (best 0.00465), saving model to 'C:\\\\Tumi\\\\Other Subjects\\\\CV\\\\ComputerVisionLab\\\\Lab3\\\\deepCheckpoints\\\\deeplabv3plus-timm-regnetx_032.ckpt' as top 1\n"
     ]
    },
    {
     "name": "stdout",
     "output_type": "stream",
     "text": [
      "Epoch 85: 100%|██████████| 20/20 [00:03<00:00,  5.58it/s, v_num=66b6, val_loss=0.00555, valid_per_image_iou=0.993, valid_dataset_iou=0.993, valid_f1_score=0.996, train_per_image_iou=0.993, train_dataset_iou=0.993, train_f1_score=0.996]"
     ]
    },
    {
     "name": "stderr",
     "output_type": "stream",
     "text": [
      "Epoch 85, global step 1720: 'val_loss' was not in top 1\n"
     ]
    },
    {
     "name": "stdout",
     "output_type": "stream",
     "text": [
      "Epoch 86: 100%|██████████| 20/20 [00:03<00:00,  5.48it/s, v_num=66b6, val_loss=0.00551, valid_per_image_iou=0.993, valid_dataset_iou=0.993, valid_f1_score=0.996, train_per_image_iou=0.993, train_dataset_iou=0.993, train_f1_score=0.996]"
     ]
    },
    {
     "name": "stderr",
     "output_type": "stream",
     "text": [
      "Epoch 86, global step 1740: 'val_loss' reached 0.00463 (best 0.00463), saving model to 'C:\\\\Tumi\\\\Other Subjects\\\\CV\\\\ComputerVisionLab\\\\Lab3\\\\deepCheckpoints\\\\deeplabv3plus-timm-regnetx_032.ckpt' as top 1\n"
     ]
    },
    {
     "name": "stdout",
     "output_type": "stream",
     "text": [
      "Epoch 87: 100%|██████████| 20/20 [00:03<00:00,  5.48it/s, v_num=66b6, val_loss=0.00562, valid_per_image_iou=0.993, valid_dataset_iou=0.993, valid_f1_score=0.996, train_per_image_iou=0.993, train_dataset_iou=0.993, train_f1_score=0.996]"
     ]
    },
    {
     "name": "stderr",
     "output_type": "stream",
     "text": [
      "Epoch 87, global step 1760: 'val_loss' was not in top 1\n"
     ]
    },
    {
     "name": "stdout",
     "output_type": "stream",
     "text": [
      "Epoch 88: 100%|██████████| 20/20 [00:03<00:00,  5.47it/s, v_num=66b6, val_loss=0.00572, valid_per_image_iou=0.993, valid_dataset_iou=0.993, valid_f1_score=0.996, train_per_image_iou=0.993, train_dataset_iou=0.993, train_f1_score=0.996]"
     ]
    },
    {
     "name": "stderr",
     "output_type": "stream",
     "text": [
      "Epoch 88, global step 1780: 'val_loss' was not in top 1\n"
     ]
    },
    {
     "name": "stdout",
     "output_type": "stream",
     "text": [
      "Epoch 89: 100%|██████████| 20/20 [00:03<00:00,  5.50it/s, v_num=66b6, val_loss=0.00561, valid_per_image_iou=0.993, valid_dataset_iou=0.993, valid_f1_score=0.996, train_per_image_iou=0.993, train_dataset_iou=0.993, train_f1_score=0.996]"
     ]
    },
    {
     "name": "stderr",
     "output_type": "stream",
     "text": [
      "Epoch 89, global step 1800: 'val_loss' was not in top 1\n"
     ]
    },
    {
     "name": "stdout",
     "output_type": "stream",
     "text": [
      "Epoch 90: 100%|██████████| 20/20 [00:03<00:00,  5.54it/s, v_num=66b6, val_loss=0.00579, valid_per_image_iou=0.993, valid_dataset_iou=0.993, valid_f1_score=0.996, train_per_image_iou=0.993, train_dataset_iou=0.993, train_f1_score=0.996]"
     ]
    },
    {
     "name": "stderr",
     "output_type": "stream",
     "text": [
      "Epoch 90, global step 1820: 'val_loss' reached 0.00460 (best 0.00460), saving model to 'C:\\\\Tumi\\\\Other Subjects\\\\CV\\\\ComputerVisionLab\\\\Lab3\\\\deepCheckpoints\\\\deeplabv3plus-timm-regnetx_032.ckpt' as top 1\n"
     ]
    },
    {
     "name": "stdout",
     "output_type": "stream",
     "text": [
      "Epoch 91: 100%|██████████| 20/20 [00:03<00:00,  5.48it/s, v_num=66b6, val_loss=0.00571, valid_per_image_iou=0.993, valid_dataset_iou=0.993, valid_f1_score=0.996, train_per_image_iou=0.993, train_dataset_iou=0.993, train_f1_score=0.996]"
     ]
    },
    {
     "name": "stderr",
     "output_type": "stream",
     "text": [
      "Epoch 91, global step 1840: 'val_loss' reached 0.00458 (best 0.00458), saving model to 'C:\\\\Tumi\\\\Other Subjects\\\\CV\\\\ComputerVisionLab\\\\Lab3\\\\deepCheckpoints\\\\deeplabv3plus-timm-regnetx_032.ckpt' as top 1\n"
     ]
    },
    {
     "name": "stdout",
     "output_type": "stream",
     "text": [
      "Epoch 92: 100%|██████████| 20/20 [00:03<00:00,  5.50it/s, v_num=66b6, val_loss=0.00556, valid_per_image_iou=0.993, valid_dataset_iou=0.993, valid_f1_score=0.996, train_per_image_iou=0.993, train_dataset_iou=0.993, train_f1_score=0.996]"
     ]
    },
    {
     "name": "stderr",
     "output_type": "stream",
     "text": [
      "Epoch 92, global step 1860: 'val_loss' was not in top 1\n"
     ]
    },
    {
     "name": "stdout",
     "output_type": "stream",
     "text": [
      "Epoch 93: 100%|██████████| 20/20 [00:03<00:00,  5.49it/s, v_num=66b6, val_loss=0.00553, valid_per_image_iou=0.993, valid_dataset_iou=0.993, valid_f1_score=0.996, train_per_image_iou=0.993, train_dataset_iou=0.993, train_f1_score=0.996]"
     ]
    },
    {
     "name": "stderr",
     "output_type": "stream",
     "text": [
      "Epoch 93, global step 1880: 'val_loss' was not in top 1\n"
     ]
    },
    {
     "name": "stdout",
     "output_type": "stream",
     "text": [
      "Epoch 94: 100%|██████████| 20/20 [00:03<00:00,  5.35it/s, v_num=66b6, val_loss=0.00546, valid_per_image_iou=0.993, valid_dataset_iou=0.993, valid_f1_score=0.996, train_per_image_iou=0.993, train_dataset_iou=0.993, train_f1_score=0.996]"
     ]
    },
    {
     "name": "stderr",
     "output_type": "stream",
     "text": [
      "Epoch 94, global step 1900: 'val_loss' reached 0.00457 (best 0.00457), saving model to 'C:\\\\Tumi\\\\Other Subjects\\\\CV\\\\ComputerVisionLab\\\\Lab3\\\\deepCheckpoints\\\\deeplabv3plus-timm-regnetx_032.ckpt' as top 1\n"
     ]
    },
    {
     "name": "stdout",
     "output_type": "stream",
     "text": [
      "Epoch 95: 100%|██████████| 20/20 [00:03<00:00,  5.40it/s, v_num=66b6, val_loss=0.00564, valid_per_image_iou=0.993, valid_dataset_iou=0.993, valid_f1_score=0.996, train_per_image_iou=0.993, train_dataset_iou=0.993, train_f1_score=0.996]"
     ]
    },
    {
     "name": "stderr",
     "output_type": "stream",
     "text": [
      "Epoch 95, global step 1920: 'val_loss' reached 0.00454 (best 0.00454), saving model to 'C:\\\\Tumi\\\\Other Subjects\\\\CV\\\\ComputerVisionLab\\\\Lab3\\\\deepCheckpoints\\\\deeplabv3plus-timm-regnetx_032.ckpt' as top 1\n"
     ]
    },
    {
     "name": "stdout",
     "output_type": "stream",
     "text": [
      "Epoch 96: 100%|██████████| 20/20 [00:03<00:00,  5.38it/s, v_num=66b6, val_loss=0.00559, valid_per_image_iou=0.993, valid_dataset_iou=0.993, valid_f1_score=0.996, train_per_image_iou=0.993, train_dataset_iou=0.993, train_f1_score=0.996]"
     ]
    },
    {
     "name": "stderr",
     "output_type": "stream",
     "text": [
      "Epoch 96, global step 1940: 'val_loss' was not in top 1\n"
     ]
    },
    {
     "name": "stdout",
     "output_type": "stream",
     "text": [
      "Epoch 97: 100%|██████████| 20/20 [00:03<00:00,  5.41it/s, v_num=66b6, val_loss=0.00563, valid_per_image_iou=0.993, valid_dataset_iou=0.993, valid_f1_score=0.996, train_per_image_iou=0.993, train_dataset_iou=0.993, train_f1_score=0.996]"
     ]
    },
    {
     "name": "stderr",
     "output_type": "stream",
     "text": [
      "Epoch 97, global step 1960: 'val_loss' was not in top 1\n"
     ]
    },
    {
     "name": "stdout",
     "output_type": "stream",
     "text": [
      "Epoch 98: 100%|██████████| 20/20 [00:03<00:00,  5.60it/s, v_num=66b6, val_loss=0.00559, valid_per_image_iou=0.993, valid_dataset_iou=0.993, valid_f1_score=0.996, train_per_image_iou=0.993, train_dataset_iou=0.993, train_f1_score=0.996]"
     ]
    },
    {
     "name": "stderr",
     "output_type": "stream",
     "text": [
      "Epoch 98, global step 1980: 'val_loss' was not in top 1\n"
     ]
    },
    {
     "name": "stdout",
     "output_type": "stream",
     "text": [
      "Epoch 99: 100%|██████████| 20/20 [00:03<00:00,  5.48it/s, v_num=66b6, val_loss=0.00553, valid_per_image_iou=0.993, valid_dataset_iou=0.993, valid_f1_score=0.996, train_per_image_iou=0.993, train_dataset_iou=0.993, train_f1_score=0.996]"
     ]
    },
    {
     "name": "stderr",
     "output_type": "stream",
     "text": [
      "Epoch 99, global step 2000: 'val_loss' was not in top 1\n",
      "`Trainer.fit` stopped: `max_epochs=100` reached.\n"
     ]
    },
    {
     "name": "stdout",
     "output_type": "stream",
     "text": [
      "Epoch 99: 100%|██████████| 20/20 [00:04<00:00,  4.54it/s, v_num=66b6, val_loss=0.00553, valid_per_image_iou=0.993, valid_dataset_iou=0.993, valid_f1_score=0.996, train_per_image_iou=0.993, train_dataset_iou=0.993, train_f1_score=0.996]\n"
     ]
    },
    {
     "name": "stderr",
     "output_type": "stream",
     "text": [
      "LOCAL_RANK: 0 - CUDA_VISIBLE_DEVICES: [0]\n"
     ]
    },
    {
     "name": "stdout",
     "output_type": "stream",
     "text": [
      "Validation DataLoader 0: 100%|██████████| 2/2 [00:00<00:00,  9.08it/s]"
     ]
    },
    {
     "name": "stderr",
     "output_type": "stream",
     "text": [
      "LOCAL_RANK: 0 - CUDA_VISIBLE_DEVICES: [0]\n",
      "c:\\Program Files\\Python312\\Lib\\site-packages\\pytorch_lightning\\trainer\\connectors\\data_connector.py:475: Your `test_dataloader`'s sampler has shuffling enabled, it is strongly recommended that you turn shuffling off for val/test dataloaders.\n",
      "c:\\Program Files\\Python312\\Lib\\site-packages\\pytorch_lightning\\trainer\\connectors\\data_connector.py:424: The 'test_dataloader' does not have many workers which may be a bottleneck. Consider increasing the value of the `num_workers` argument` to `num_workers=15` in the `DataLoader` to improve performance.\n"
     ]
    },
    {
     "name": "stdout",
     "output_type": "stream",
     "text": [
      "\n",
      "[{'val_loss': 0.00552743673324585, 'valid_per_image_iou': 0.992753267288208, 'valid_dataset_iou': 0.9927532076835632, 'valid_f1_score': 0.9963629841804504}]\n",
      "Testing DataLoader 0: 100%|██████████| 4/4 [00:00<00:00, 41.87it/s]\n",
      "[{'val_loss': 0.005381226539611816, 'test_per_image_iou': 0.9926027059555054, 'test_dataset_iou': 0.992601752281189, 'test_f1_score': 0.9962866902351379}]\n"
     ]
    }
   ],
   "source": [
    "\n",
    "deepvPlus_model = DeepV_plus(\"deeplabv3plus\", \"timm-regnetx_032\", in_channels=3, out_classes=2)\n",
    "train_deep_model(deepvPlus_model)"
   ]
  },
  {
   "cell_type": "code",
   "execution_count": 32,
   "metadata": {},
   "outputs": [
    {
     "name": "stderr",
     "output_type": "stream",
     "text": [
      "GPU available: True (cuda), used: True\n",
      "TPU available: False, using: 0 TPU cores\n",
      "HPU available: False, using: 0 HPUs\n"
     ]
    },
    {
     "name": "stderr",
     "output_type": "stream",
     "text": [
      "C:\\Users\\willi\\AppData\\Local\\Temp\\ipykernel_18812\\3699095218.py:197: FutureWarning: You are using `torch.load` with `weights_only=False` (the current default value), which uses the default pickle module implicitly. It is possible to construct malicious pickle data which will execute arbitrary code during unpickling (See https://github.com/pytorch/pytorch/blob/main/SECURITY.md#untrusted-models for more details). In a future release, the default value for `weights_only` will be flipped to `True`. This limits the functions that could be executed during unpickling. Arbitrary objects will no longer be allowed to be loaded via this mode unless they are explicitly allowlisted by the user via `torch.serialization.add_safe_globals`. We recommend you start setting `weights_only=True` for any use case where you don't have full control of the loaded file. Please open an issue on GitHub for any issues related to this experimental feature.\n",
      "  checkpoint = torch.load(checkpoint_path, map_location=lambda storage, loc: storage)\n",
      "LOCAL_RANK: 0 - CUDA_VISIBLE_DEVICES: [0]\n"
     ]
    },
    {
     "name": "stdout",
     "output_type": "stream",
     "text": [
      "imagenet\n",
      "Validation DataLoader 0: 100%|██████████| 2/2 [00:00<00:00,  2.53it/s]"
     ]
    },
    {
     "name": "stderr",
     "output_type": "stream",
     "text": [
      "LOCAL_RANK: 0 - CUDA_VISIBLE_DEVICES: [0]\n"
     ]
    },
    {
     "name": "stdout",
     "output_type": "stream",
     "text": [
      "\n",
      "[{'val_loss': 0.005004435777664185, 'valid_per_image_iou': 0.9936294555664062, 'valid_dataset_iou': 0.9936292767524719, 'valid_f1_score': 0.9968039989471436}]\n",
      "Testing DataLoader 0: 100%|██████████| 4/4 [00:00<00:00,  9.91it/s]\n",
      "[{'val_loss': 0.004751726984977722, 'test_per_image_iou': 0.9939194917678833, 'test_dataset_iou': 0.9939191341400146, 'test_f1_score': 0.9969498515129089}]\n"
     ]
    }
   ],
   "source": [
    "load_checkpoint(\"deeplabv3plus-resnet34\")"
   ]
  },
  {
   "cell_type": "code",
   "execution_count": 30,
   "metadata": {},
   "outputs": [
    {
     "name": "stderr",
     "output_type": "stream",
     "text": [
      "GPU available: True (cuda), used: True\n",
      "TPU available: False, using: 0 TPU cores\n",
      "HPU available: False, using: 0 HPUs\n",
      "C:\\Users\\willi\\AppData\\Local\\Temp\\ipykernel_18812\\3699095218.py:197: FutureWarning: You are using `torch.load` with `weights_only=False` (the current default value), which uses the default pickle module implicitly. It is possible to construct malicious pickle data which will execute arbitrary code during unpickling (See https://github.com/pytorch/pytorch/blob/main/SECURITY.md#untrusted-models for more details). In a future release, the default value for `weights_only` will be flipped to `True`. This limits the functions that could be executed during unpickling. Arbitrary objects will no longer be allowed to be loaded via this mode unless they are explicitly allowlisted by the user via `torch.serialization.add_safe_globals`. We recommend you start setting `weights_only=True` for any use case where you don't have full control of the loaded file. Please open an issue on GitHub for any issues related to this experimental feature.\n",
      "  checkpoint = torch.load(checkpoint_path, map_location=lambda storage, loc: storage)\n",
      "LOCAL_RANK: 0 - CUDA_VISIBLE_DEVICES: [0]\n",
      "c:\\Program Files\\Python312\\Lib\\site-packages\\pytorch_lightning\\trainer\\connectors\\data_connector.py:424: The 'val_dataloader' does not have many workers which may be a bottleneck. Consider increasing the value of the `num_workers` argument` to `num_workers=15` in the `DataLoader` to improve performance.\n"
     ]
    },
    {
     "name": "stdout",
     "output_type": "stream",
     "text": [
      "imagenet\n",
      "Validation DataLoader 0: 100%|██████████| 2/2 [00:00<00:00,  2.03it/s]"
     ]
    },
    {
     "name": "stderr",
     "output_type": "stream",
     "text": [
      "LOCAL_RANK: 0 - CUDA_VISIBLE_DEVICES: [0]\n",
      "c:\\Program Files\\Python312\\Lib\\site-packages\\pytorch_lightning\\trainer\\connectors\\data_connector.py:475: Your `test_dataloader`'s sampler has shuffling enabled, it is strongly recommended that you turn shuffling off for val/test dataloaders.\n",
      "c:\\Program Files\\Python312\\Lib\\site-packages\\pytorch_lightning\\trainer\\connectors\\data_connector.py:424: The 'test_dataloader' does not have many workers which may be a bottleneck. Consider increasing the value of the `num_workers` argument` to `num_workers=15` in the `DataLoader` to improve performance.\n"
     ]
    },
    {
     "name": "stdout",
     "output_type": "stream",
     "text": [
      "\n",
      "[{'val_loss': 0.00431254506111145, 'valid_per_image_iou': 0.994406521320343, 'valid_dataset_iou': 0.9944064617156982, 'valid_f1_score': 0.9971948862075806}]\n",
      "Testing DataLoader 0: 100%|██████████| 4/4 [00:00<00:00,  8.50it/s]\n",
      "[{'val_loss': 0.004334196448326111, 'test_per_image_iou': 0.9942142963409424, 'test_dataset_iou': 0.9942139983177185, 'test_f1_score': 0.9970981478691101}]\n"
     ]
    }
   ],
   "source": [
    "load_checkpoint(\"deeplabv3plus-resnext50_32x4d\")"
   ]
  },
  {
   "cell_type": "code",
   "execution_count": 31,
   "metadata": {},
   "outputs": [
    {
     "name": "stderr",
     "output_type": "stream",
     "text": [
      "GPU available: True (cuda), used: True\n",
      "TPU available: False, using: 0 TPU cores\n",
      "HPU available: False, using: 0 HPUs\n",
      "C:\\Users\\willi\\AppData\\Local\\Temp\\ipykernel_18812\\3699095218.py:197: FutureWarning: You are using `torch.load` with `weights_only=False` (the current default value), which uses the default pickle module implicitly. It is possible to construct malicious pickle data which will execute arbitrary code during unpickling (See https://github.com/pytorch/pytorch/blob/main/SECURITY.md#untrusted-models for more details). In a future release, the default value for `weights_only` will be flipped to `True`. This limits the functions that could be executed during unpickling. Arbitrary objects will no longer be allowed to be loaded via this mode unless they are explicitly allowlisted by the user via `torch.serialization.add_safe_globals`. We recommend you start setting `weights_only=True` for any use case where you don't have full control of the loaded file. Please open an issue on GitHub for any issues related to this experimental feature.\n",
      "  checkpoint = torch.load(checkpoint_path, map_location=lambda storage, loc: storage)\n",
      "LOCAL_RANK: 0 - CUDA_VISIBLE_DEVICES: [0]\n"
     ]
    },
    {
     "name": "stdout",
     "output_type": "stream",
     "text": [
      "imagenet\n",
      "Validation DataLoader 0: 100%|██████████| 2/2 [00:01<00:00,  1.86it/s]"
     ]
    },
    {
     "name": "stderr",
     "output_type": "stream",
     "text": [
      "LOCAL_RANK: 0 - CUDA_VISIBLE_DEVICES: [0]\n"
     ]
    },
    {
     "name": "stdout",
     "output_type": "stream",
     "text": [
      "\n",
      "[{'val_loss': 0.0056416988372802734, 'valid_per_image_iou': 0.992716372013092, 'valid_dataset_iou': 0.9927162528038025, 'valid_f1_score': 0.9963443875312805}]\n",
      "Testing DataLoader 0: 100%|██████████| 4/4 [00:00<00:00,  9.37it/s]\n",
      "[{'val_loss': 0.005306646227836609, 'test_per_image_iou': 0.99266517162323, 'test_dataset_iou': 0.9926643371582031, 'test_f1_score': 0.9963181614875793}]\n"
     ]
    }
   ],
   "source": [
    "load_checkpoint(\"deeplabv3plus-timm-regnetx_032\")"
   ]
  }
 ],
 "metadata": {
  "kernelspec": {
   "display_name": "Python 3",
   "language": "python",
   "name": "python3"
  },
  "language_info": {
   "codemirror_mode": {
    "name": "ipython",
    "version": 3
   },
   "file_extension": ".py",
   "mimetype": "text/x-python",
   "name": "python",
   "nbconvert_exporter": "python",
   "pygments_lexer": "ipython3",
   "version": "3.12.6"
  }
 },
 "nbformat": 4,
 "nbformat_minor": 2
}
